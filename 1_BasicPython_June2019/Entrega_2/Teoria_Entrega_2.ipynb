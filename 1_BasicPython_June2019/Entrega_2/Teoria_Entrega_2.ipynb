{
 "cells": [
  {
   "cell_type": "markdown",
   "metadata": {},
   "source": [
    "\n",
    "# Programación para la Bioinformática"
   ]
  },
  {
   "cell_type": "markdown",
   "metadata": {},
   "source": [
    "Módulo 2: Breve introducción a la programación en Python\n",
    "--------------------------------------------\n",
    "\n",
    "### Instrucciones de uso\n",
    "\n",
    "A continuación se irá presentando la sintaxis básica del lenguaje de programación Python junto a ejemplos interactivos."
   ]
  },
  {
   "cell_type": "markdown",
   "metadata": {},
   "source": [
    "Variables y tipos de variables\n",
    "------------------------------\n",
    "\n",
    "Podemos entender una variable como un contenedor en el que podemos poner nuestros datos a fin de guardarlos y poderlos tratar más adelante. En Python, las variables no tienen tipo, es decir, no tenemos que indicar si la variable será numérica, un carácter, una cadena de caracteres o una lista, por ejemplo. Además, las variables pueden ser declaradas e inicializadas en cualquier momento, a diferencia de otros lenguajes de programación.\n",
    "\n",
    "Para declarar una variable, utilizamos la expresión *nombre_de_variable = valor*. Se recomienda repasar la guía de estilo de Python, [PEP-8](https://www.python.org/dev/peps/pep-0008/), para indicar nombres de variables correctos, pero *grosso modo*:\n",
    "* Evitaremos utilizar mayúscula en la letra inicial\n",
    "* Separaremos las diferentes palabras con el carácter '\\_'\n",
    "* No utilizaremos acentos ni caracteres específicos de nuestra condificación como el símbolo del '€' o la 'ñ', por ejemplo.\n",
    "* Utilizaremos el carácter '*#*' para indicar que la línea se trata de un comentario.\n",
    "\n",
    "Veamos unos cuantos ejemplos de declaraciones de variables y cómo usarlas:\n",
    "\n",
    "\n"
   ]
  },
  {
   "cell_type": "code",
   "execution_count": 13,
   "metadata": {},
   "outputs": [],
   "source": [
    "# Esto es un comentario, por eso aparece en verde.\n",
    "\n",
    "# Declaramos una variable de nombre 'variable_numerica'\n",
    "# que contiene el valor entero 12\n",
    "variable_numerica = 12\n",
    "\n",
    "# Declaramos una variable de nombre monstruo que\n",
    "# contiene el valor 'Godzilla'\n",
    "monstruo = 'Godzilla'\n",
    "\n",
    "# Declaramos una variable de nombre planeta que es una\n",
    "# lista de cadenas de caracteres\n",
    "planetas = ['Mercurio', 'Venus', 'Tierra', 'Marte']"
   ]
  },
  {
   "cell_type": "markdown",
   "metadata": {},
   "source": [
    "Las variables nos permiten manipular los datos que contienen. El tipo de manipulación dependerá de los datos que contengan:"
   ]
  },
  {
   "cell_type": "code",
   "execution_count": 2,
   "metadata": {},
   "outputs": [
    {
     "name": "stdout",
     "output_type": "stream",
     "text": [
      "30\n"
     ]
    }
   ],
   "source": [
    "mi_edad = 25\n",
    "mi_edad_en_5 = mi_edad + 5\n",
    "\n",
    "# 'Imprimimos' el valor calculado que será, efectivamente, 30\n",
    "print(mi_edad_en_5)"
   ]
  },
  {
   "cell_type": "markdown",
   "metadata": {},
   "source": [
    "Los tipos nativos de datos que una variable de Python puede contener son: números enteros (int), números decimales (float), números complejos (complex), cadena de caracteres (string), listas (list), tuplas (tuple) y diccionarios (dict). Veamos uno por uno cada uno de estos tipos:"
   ]
  },
  {
   "cell_type": "code",
   "execution_count": 3,
   "metadata": {},
   "outputs": [
    {
     "name": "stdout",
     "output_type": "stream",
     "text": [
      "-4\n",
      "6\n",
      "-5\n",
      "-0.2\n",
      "-1\n"
     ]
    }
   ],
   "source": [
    "# Un número entero\n",
    "int_var = 1\n",
    "another_int_var = -5\n",
    "\n",
    "# Podemos sumarlos, restarlos, multiplicarlos o dividirlos\n",
    "print(int_var + another_int_var)\n",
    "print(int_var - another_int_var)\n",
    "print(int_var * another_int_var)\n",
    "\n",
    "# Fijaos en esta última operación: se trata de una división entera.\n",
    "# Como solo tratamos con números enteros, no debería tener parte decimal,\n",
    "# pero las divisiones en Python 3 son por defecto en el espacio de los \n",
    "# números decimales.\n",
    "print(int_var / another_int_var)\n",
    "\n",
    "# Si queremos dividir sin parte decimal, podemos utilizar esta versión:\n",
    "print(int_var // another_int_var)"
   ]
  },
  {
   "cell_type": "code",
   "execution_count": 4,
   "metadata": {},
   "outputs": [
    {
     "name": "stdout",
     "output_type": "stream",
     "text": [
      "7.0\n",
      "7\n"
     ]
    }
   ],
   "source": [
    "# Un número decimal o 'float'\n",
    "float_var = 2.5\n",
    "another_float_var = .7\n",
    "\n",
    "# Convertimos un número entero en uno decimal\n",
    "# mediante la función 'float()'\n",
    "encore_float = float(7)\n",
    "print(encore_float)\n",
    "\n",
    "# Podemos hacer lo mismo en sentido contrario\n",
    "# con la función 'int()'\n",
    "new_int = int(encore_float)\n",
    "print(new_int)\n"
   ]
  },
  {
   "cell_type": "code",
   "execution_count": 5,
   "metadata": {},
   "outputs": [
    {
     "name": "stdout",
     "output_type": "stream",
     "text": [
      "3.0\n",
      "2.0\n",
      "(2+3j)\n"
     ]
    }
   ],
   "source": [
    "# Un número complejo\n",
    "complex_var = 2+3j\n",
    "\n",
    "# Podemos acceder a la parte imaginaria o a la parte real:\n",
    "print(complex_var.imag)\n",
    "print(complex_var.real)\n",
    "print(complex_var)"
   ]
  },
  {
   "cell_type": "code",
   "execution_count": 6,
   "metadata": {},
   "outputs": [
    {
     "name": "stdout",
     "output_type": "stream",
     "text": [
      "Hello, Bio!\n",
      "Hola desde España\n",
      "Hello, Bio!\n",
      "Hello, Guido! You've got 5 new emails\n"
     ]
    }
   ],
   "source": [
    "# Cadena de caracteres\n",
    "my_string = 'Hello, Bio!'\n",
    "print(my_string)\n",
    "\n",
    "# Podemos escribir caracteres según Unicode\n",
    "unicode_string = 'Hola desde España'\n",
    "print(unicode_string)\n",
    "\n",
    "# Podemos concatenar dos cadenas utilizando el operador '+'\n",
    "same_string = 'Hello, ' + 'Bio' + '!'\n",
    "print(same_string)\n",
    "\n",
    "# En Python también podemos utilizar wildcards como en la\n",
    "# función sprintf de C. Por ejemplo:\n",
    "name = \"Guido\"\n",
    "num_emails = 5\n",
    "print(\"Hello, %s! You've got %d new emails\" % (name, num_emails))"
   ]
  },
  {
   "cell_type": "markdown",
   "metadata": {},
   "source": [
    "En el ejemplo anterior, hemos sustituido en el string la cadena *%s* por el contenido de la variable *name*, que es un string, y *%d* por *num_emails*, que es un número entero. Podríamos también utilizar *%f* para números decimales (podríamos indicar la precisión por ejemplo con *%5.3f*, el número tendría un tamaño total de cinco cifras y tres serían para la parte decimal). Hay muchas otras posibilidades, pero deberemos tener en cuenta el tipo de variable que queremos sustituir. Por ejemplo, si utilizamos *%d* y el contenido es string, Python devolverá un mensaje de error. Para evitar esta situación, será recomendado el uso de la función *str()* para convertir el valor a string."
   ]
  },
  {
   "cell_type": "markdown",
   "metadata": {},
   "source": [
    "Ahora vamos a presentar otros tipos de datos nativos más complejos: listas, tuplas y diccionarios:"
   ]
  },
  {
   "cell_type": "markdown",
   "metadata": {},
   "source": [
    "### Listas"
   ]
  },
  {
   "cell_type": "code",
   "execution_count": 7,
   "metadata": {},
   "outputs": [
    {
     "name": "stdout",
     "output_type": "stream",
     "text": [
      "['3', 'a string', ['a list inside another list', 'second item'], 7.5]\n"
     ]
    }
   ],
   "source": [
    "# Definimos una lista con el nombre de los planetas (string)\n",
    "planets = ['Mercury', 'Venus', 'Earth', 'Mars',\n",
    "           'Jupiter', 'Saturn', 'Uranus', 'Neptune']\n",
    "# También puede contener números\n",
    "prime_numbers = [2, 3, 5, 7]\n",
    "\n",
    "# Una lista vacía\n",
    "empty_list = []\n",
    "\n",
    "# O una mezcla de cualquier tipo:\n",
    "sandbox = ['3', 'a string', ['a list inside another list', 'second item'], 7.5]\n",
    "print(sandbox)"
   ]
  },
  {
   "cell_type": "code",
   "execution_count": 8,
   "metadata": {},
   "outputs": [
    {
     "name": "stdout",
     "output_type": "stream",
     "text": [
      "['Mercury', 'Venus', 'Earth', 'Mars', 'Jupiter', 'Saturn', 'Uranus', 'Neptune', 'Pluto']\n"
     ]
    }
   ],
   "source": [
    "# Podemos añadir elementos a una lista\n",
    "planets.append('Pluto')\n",
    "print(planets)"
   ]
  },
  {
   "cell_type": "code",
   "execution_count": 9,
   "metadata": {},
   "outputs": [
    {
     "name": "stdout",
     "output_type": "stream",
     "text": [
      "['Mercury', 'Venus', 'Earth', 'Mars', 'Jupiter', 'Saturn', 'Uranus', 'Neptune']\n"
     ]
    }
   ],
   "source": [
    "# O podemos eliminar\n",
    "planets.remove('Pluto')\n",
    "print(planets)"
   ]
  },
  {
   "cell_type": "code",
   "execution_count": 10,
   "metadata": {},
   "outputs": [
    {
     "name": "stdout",
     "output_type": "stream",
     "text": [
      "['Mercury', 'Earth', 'Mars', 'Jupiter', 'Saturn', 'Uranus', 'Neptune']\n"
     ]
    }
   ],
   "source": [
    "# Podemos eliminar cualquier elemento de la lista\n",
    "planets.remove('Venus')\n",
    "print(planets)"
   ]
  },
  {
   "cell_type": "code",
   "execution_count": 11,
   "metadata": {},
   "outputs": [
    {
     "name": "stdout",
     "output_type": "stream",
     "text": [
      "['Mercury', 'Earth', 'Mars', 'Jupiter', 'Saturn', 'Uranus', 'Neptune', 'Venus']\n"
     ]
    }
   ],
   "source": [
    "# Siempre que añadamos, será al final de la lista. Una lista está ordenada.\n",
    "planets.append('Venus')\n",
    "print(planets)"
   ]
  },
  {
   "cell_type": "code",
   "execution_count": 12,
   "metadata": {},
   "outputs": [
    {
     "name": "stdout",
     "output_type": "stream",
     "text": [
      "['Earth', 'Jupiter', 'Mars', 'Mercury', 'Neptune', 'Saturn', 'Uranus', 'Venus']\n"
     ]
    }
   ],
   "source": [
    "# Si queremos ordenarla alfabéticamente, podemos utilizar la función 'sorted()'\n",
    "print(sorted(planets))"
   ]
  },
  {
   "cell_type": "code",
   "execution_count": 13,
   "metadata": {},
   "outputs": [
    {
     "name": "stdout",
     "output_type": "stream",
     "text": [
      "['Godzilla', 'King Kong', 'Cthulu']\n"
     ]
    }
   ],
   "source": [
    "# Podemos concatenar dos listas:\n",
    "monsters = ['Godzilla', 'King Kong']\n",
    "more_monsters = ['Cthulu']\n",
    "print(monsters + more_monsters)"
   ]
  },
  {
   "cell_type": "code",
   "execution_count": 14,
   "metadata": {},
   "outputs": [
    {
     "name": "stdout",
     "output_type": "stream",
     "text": [
      "['Godzilla', 'King Kong', 'Cthulu']\n"
     ]
    }
   ],
   "source": [
    "# Podemos concatenar una lista a otra y guardarla en la misma lista:\n",
    "monsters.extend(more_monsters)\n",
    "print(monsters)"
   ]
  },
  {
   "cell_type": "code",
   "execution_count": 15,
   "metadata": {},
   "outputs": [
    {
     "name": "stdout",
     "output_type": "stream",
     "text": [
      "Godzilla\n",
      "King Kong\n",
      "Cthulu\n",
      "King Kong\n"
     ]
    }
   ],
   "source": [
    "# Podemos acceder a un elemento en concreto de la lista:\n",
    "print(monsters[0])\n",
    "# El primer elemento de una lista es el 0, por lo tanto, el segundo será el 1:\n",
    "print(monsters[1])\n",
    "# Podemos acceder al último elemento mediante números negativos:\n",
    "print(monsters[-1])\n",
    "# Penúltimo:\n",
    "print(monsters[-2])"
   ]
  },
  {
   "cell_type": "code",
   "execution_count": 20,
   "metadata": {},
   "outputs": [
    {
     "name": "stdout",
     "output_type": "stream",
     "text": [
      "Neptune\n",
      "['Mercury', 'Venus']\n",
      "['Venus', 'Earth', 'Mars', 'Jupiter', 'Saturn', 'Uranus']\n"
     ]
    }
   ],
   "source": [
    "# También podemos obtener partes de una lista mediante la técnica de 'slicing'\n",
    "planets = ['Mercury', 'Venus', 'Earth', 'Mars',\n",
    "           'Jupiter', 'Saturn', 'Uranus', 'Neptune']\n",
    "# Por ejemplo, los dos primeros elementos:\n",
    "print(planets[:2])"
   ]
  },
  {
   "cell_type": "code",
   "execution_count": 17,
   "metadata": {},
   "outputs": [
    {
     "name": "stdout",
     "output_type": "stream",
     "text": [
      "['Venus', 'Earth', 'Mars', 'Jupiter', 'Saturn', 'Uranus']\n"
     ]
    }
   ],
   "source": [
    "# O los elementos del segundo al penúltimo:\n",
    "print(planets[1:-1])"
   ]
  },
  {
   "cell_type": "markdown",
   "metadata": {},
   "source": [
    "La técnica de **slicing** es muy importante y nos permite manejar listas de una forma muy sencilla y potente. Será muy importante dominarla para muchos de los problemas que tendremos que resolver en el campo de la bioinformática. "
   ]
  },
  {
   "cell_type": "code",
   "execution_count": 18,
   "metadata": {},
   "outputs": [
    {
     "name": "stdout",
     "output_type": "stream",
     "text": [
      "['Godzilla', 'King Kong', 'Kraken']\n"
     ]
    }
   ],
   "source": [
    "# Podemos modificar un elemento en concreto de una lista\n",
    "monsters = ['Godzilla', 'King Kong', 'Cthulu']\n",
    "monsters[-1] = 'Kraken'\n",
    "print(monsters)"
   ]
  },
  {
   "cell_type": "markdown",
   "metadata": {},
   "source": [
    "### Tuplas"
   ]
  },
  {
   "cell_type": "code",
   "execution_count": 19,
   "metadata": {},
   "outputs": [
    {
     "ename": "TypeError",
     "evalue": "'tuple' object does not support item assignment",
     "output_type": "error",
     "traceback": [
      "\u001b[0;31m---------------------------------------------------------------------------\u001b[0m",
      "\u001b[0;31mTypeError\u001b[0m                                 Traceback (most recent call last)",
      "\u001b[0;32m<ipython-input-19-9de272a7434a>\u001b[0m in \u001b[0;36m<module>\u001b[0;34m()\u001b[0m\n\u001b[1;32m      4\u001b[0m \u001b[0;34m\u001b[0m\u001b[0m\n\u001b[1;32m      5\u001b[0m \u001b[0;31m# Si ejecutamos la siguiente línea, obtendremos un error de tipo 'TypeError'\u001b[0m\u001b[0;34m\u001b[0m\u001b[0;34m\u001b[0m\u001b[0;34m\u001b[0m\u001b[0m\n\u001b[0;32m----> 6\u001b[0;31m \u001b[0mbirth_year\u001b[0m\u001b[0;34m[\u001b[0m\u001b[0;36m1\u001b[0m\u001b[0;34m]\u001b[0m \u001b[0;34m=\u001b[0m \u001b[0;36m1984\u001b[0m\u001b[0;34m\u001b[0m\u001b[0;34m\u001b[0m\u001b[0m\n\u001b[0m",
      "\u001b[0;31mTypeError\u001b[0m: 'tuple' object does not support item assignment"
     ]
    }
   ],
   "source": [
    "# Una tupla es un tipo muy parecido a una lista, pero es immutable, es decir, una vez declarada no podemos añadir\n",
    "# ni eliminar elementos:\n",
    "birth_year = ('Stephen Hawking', 1942)\n",
    "\n",
    "# Si ejecutamos la siguiente línea, obtendremos un error de tipo 'TypeError'\n",
    "birth_year[1] = 1984"
   ]
  },
  {
   "cell_type": "markdown",
   "metadata": {},
   "source": [
    "Los errores en Python suelen ser muy informativos. Una búsqueda en Internet nos ayudará en la gran mayoría de problemas que podamos tener."
   ]
  },
  {
   "cell_type": "code",
   "execution_count": 35,
   "metadata": {},
   "outputs": [
    {
     "name": "stdout",
     "output_type": "stream",
     "text": [
      "t\n",
      "Einstein\n",
      "['E', 'i', 'n', 's', 't', 'e', 'i', 'n']\n",
      "Einstein\n",
      "E.i.n.s.t.e.i.n\n"
     ]
    }
   ],
   "source": [
    "# Un string también es considerada una lista de caracteres\n",
    "# Así pues, podemos acceder a una posición determinada (aunque no modificarla):\n",
    "name = 'Albert Einstein'\n",
    "print(name[5])\n",
    "\n",
    "# Podemos separar por el carácter que consideramos un string. \n",
    "# En este caso, por el espacio en blanco, utilizando la función split()\n",
    "n, surname = name.split()\n",
    "print(surname)\n",
    "\n",
    "# Y podemos convertir un determinado string en una lista de caracteres fácilmente:\n",
    "chars = list(surname)\n",
    "print(chars)\n",
    "\n",
    "# Para unir los diferentes elementos de una lista mediante un carácter, podemos utilizar la función join():\n",
    "print(''.join(chars))\n",
    "print('.'.join(chars))"
   ]
  },
  {
   "cell_type": "code",
   "execution_count": 36,
   "metadata": {},
   "outputs": [
    {
     "name": "stdout",
     "output_type": "stream",
     "text": [
      "-5\n",
      "5\n"
     ]
    }
   ],
   "source": [
    "# El operador ',' es el creador de tuplas. Por ejemplo, el típico problema de asignar el valor de una variable a otra \n",
    "# en Python puede ser resuelto en una línea de forma muy elegante utilizando tuplas (se trata de un idiom):\n",
    "a = 5\n",
    "b = -5\n",
    "a,b = b,a\n",
    "print(a)\n",
    "print(b)"
   ]
  },
  {
   "cell_type": "markdown",
   "metadata": {},
   "source": [
    "El anterior ejemplo es un *idiom* típico de Python. En la tarcera línea, creamos una tupla (a,b) a la que asignamos los valores uno por uno de la tupla (b,a). Los paréntesis no son necesarios y por eso queda una notación tan reducida.\n",
    "\n",
    "\n",
    "### Diccionarios\n",
    "\n",
    "Para acabar, presentaremos los diccionarios, una estructura de datos muy útil en la que asignamos un valor a una clave en el diccionario:"
   ]
  },
  {
   "cell_type": "code",
   "execution_count": 37,
   "metadata": {},
   "outputs": [
    {
     "name": "stdout",
     "output_type": "stream",
     "text": [
      "Spain\n"
     ]
    }
   ],
   "source": [
    "# Códigos internacionales de algunos países. La clave o 'key' es el código de país y el valor, su nombre:\n",
    "country_codes = {34: 'Spain', 376: 'Andorra', 41: 'Switzerland', 424: None}\n",
    "\n",
    "# Podemos buscar\n",
    "my_code = 34\n",
    "country = country_codes[my_code]\n",
    "print(country)"
   ]
  },
  {
   "cell_type": "code",
   "execution_count": null,
   "metadata": {},
   "outputs": [],
   "source": [
    "# Podemos obtener todas las claves:\n",
    "print(country_codes.keys())"
   ]
  },
  {
   "cell_type": "code",
   "execution_count": null,
   "metadata": {},
   "outputs": [],
   "source": [
    "# O los valores:\n",
    "print(country_codes.values())"
   ]
  },
  {
   "cell_type": "markdown",
   "metadata": {},
   "source": [
    "**Es muy importante notar que los valores que obtenemos de las claves o al imprimir un diccionario no están ordenados**. Es un error muy común suponer que el diccionario se guarda internamente en el mismo orden en el que fue definido y será una fuente de error habitual no tenerlo en cuenta."
   ]
  },
  {
   "cell_type": "code",
   "execution_count": null,
   "metadata": {},
   "outputs": [],
   "source": [
    "# Podemos modificar valores en el diccionario o añadir nuevas claves.\n",
    "\n",
    "# Definimos un diccionario vacío. country_codes = dict() es una notación equivalente:\n",
    "country_codes = {}\n",
    "\n",
    "# Añadimos un elmento:\n",
    "country_codes[34] = 'Spain'\n",
    "\n",
    "# Añadimos otro:\n",
    "country_codes[81] = 'Japan'\n",
    "\n",
    "print(country_codes)"
   ]
  },
  {
   "cell_type": "code",
   "execution_count": null,
   "metadata": {},
   "outputs": [],
   "source": [
    "# Modificamos el diccionario:\n",
    "country_codes[81] = 'Andorra'\n",
    "\n",
    "print(country_codes)"
   ]
  },
  {
   "cell_type": "code",
   "execution_count": null,
   "metadata": {},
   "outputs": [],
   "source": [
    "# Podemos asignar el valor vacío a un elemento:\n",
    "country_codes[81] = None\n",
    "\n",
    "print(country_codes)"
   ]
  },
  {
   "cell_type": "markdown",
   "metadata": {},
   "source": [
    "Los valores vacíos nos serán útiles para declarar una variable que no sepamos qué valor o qué tipo de valor contendrá y para hacer comparaciones entre variables. Típicamente, los valores vacíos son None o '' en el caso de las cadenas de caracteres."
   ]
  },
  {
   "cell_type": "code",
   "execution_count": null,
   "metadata": {},
   "outputs": [],
   "source": [
    "# Podemos asignar el valor de una variable a otra. Es importante que se entiendan las siguientes líneas:\n",
    "a = 5\n",
    "b = 1\n",
    "print(a, b)\n",
    "# b contiene la 'dirección' del contenedor al que apunta 'a'\n",
    "b = a\n",
    "print(a, b)"
   ]
  },
  {
   "cell_type": "code",
   "execution_count": null,
   "metadata": {},
   "outputs": [],
   "source": [
    "# Veamos ahora qué pasa si modificamos el valor de a o b:\n",
    "a = 6\n",
    "print(a, b)\n",
    "b = 7\n",
    "print(a, b)"
   ]
  },
  {
   "cell_type": "markdown",
   "metadata": {},
   "source": [
    "### Para saber más\n",
    "\n",
    "Hasta aquí hemos presentado cómo declarar y utilizar variables. Recomendamos la lectura de la documentación oficial *online* para fijar los conocimientos explicados: https://docs.python.org/3/tutorial/introduction.html"
   ]
  }
 ],
 "metadata": {
  "kernelspec": {
   "display_name": "Python 3",
   "language": "python",
   "name": "python3"
  },
  "language_info": {
   "codemirror_mode": {
    "name": "ipython",
    "version": 3
   },
   "file_extension": ".py",
   "mimetype": "text/x-python",
   "name": "python",
   "nbconvert_exporter": "python",
   "pygments_lexer": "ipython3",
   "version": "3.7.3"
  }
 },
 "nbformat": 4,
 "nbformat_minor": 1
}
