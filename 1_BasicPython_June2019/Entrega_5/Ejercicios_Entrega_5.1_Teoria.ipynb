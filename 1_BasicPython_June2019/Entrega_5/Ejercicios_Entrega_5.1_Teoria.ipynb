{
 "cells": [
  {
   "cell_type": "markdown",
   "metadata": {},
   "source": [
    "# Programación para la Bioinformática"
   ]
  },
  {
   "cell_type": "markdown",
   "metadata": {},
   "source": [
    "Unidad 5: ADN, ARN, secuencias y motivos (Parte 1)\n",
    "--------------------------------------------------\n",
    "\n",
    "### Instrucciones de uso\n",
    "A continuación se presentarán explicaciones y ejemplos de uso de la librería BioPython en el contexto del manejo de secuencias de ADN, ARN y proteínas. Recordad que podéis ir ejecutando los ejemplos para obtener sus resultados."
   ]
  },
  {
   "cell_type": "markdown",
   "metadata": {},
   "source": [
    "### Primeros pasos\n",
    "Como siempre, vamos a importar la librería y comprobar que todo funciona:"
   ]
  },
  {
   "cell_type": "code",
   "execution_count": 1,
   "metadata": {},
   "outputs": [],
   "source": [
    "import Bio"
   ]
  },
  {
   "cell_type": "markdown",
   "metadata": {},
   "source": [
    "La información genómica que contiene nucleótidos (o también secuencias de residuos peptídicos, los aminoácidos esenciales que forman las proteínas) suele encontrarse en forma de fichero FASTA. FASTA es un conocido paquete bioinformático y el formato de fichero para secuencias es muy utilizado por la comunidad y casi supone un estándar.\n",
    "\n",
    "Un fichero FASTA es un simple fichero de texto plano con el siguiente formato:\n",
    "\n",
    ">`>Identificador_secuencia_1`<br>\n",
    ">`MTEITAAMVKELRESTGAGMMDCKNALSETNGDFDKAVQLLREKGLGKAAKKADRLAAEG`\n",
    ">`LVSVKVSDDFTIAAMRPSYLSYEDLDMTFVENEYKALVAELEKENEERRRLKDPNKPEHK`<br>\n",
    ">`>Identificador_secuencia_2`<br>\n",
    ">`SATVSEINSETDFVAKNDQFIALTKDTTAHIQSNSLQSVEELHSSTINGVKFEEYLKSQI`\n",
    ">`ATIGENLVVRRFATLKAGANGVVNGYIHTNGRVGVVIAAACDSAEVASKSRDLLRQICMH`\n",
    "\n",
    "La primera línea con el símbolo '>' se trata de un comentario en el que habitualmente se incluye algún tipo de identificador. Es posible que esta línea no aparezca puesto que no es obligatoria. A continuación, tenemos la secuencia hasta el próximo símbolo '>' o hasta que el fichero acabe. Habitualmente, las líneas tienen un tamaño inferior a los 80 caracteres (por razones históricas de legibilidad en las antiguas terminales de 80 caracteres de tamaño). En este caso, la secuencia está formada por caracteres en mayúscula que representan los residuos en una proteína: M para metionina, T para treonina, etc. (http://pac.iupac.org/publications/pac/pdf/1972/pdf/3104x0639.pdf).\n",
    "En el caso de una secuencia genómica, solo tendríamos alguna de las cuatro posibles bases (G, A, T o C) en caso de ADN o bien las mismas bases a excepción de U en vez de T para el ARN. Podemos encontrar saltos de secuencia (símbolo '-') u otros casos. Aquí podéis encontrar una lista más exhaustiva de ellos: https://en.wikipedia.org/wiki/FASTA_format.\n",
    "En el directorio `data` tenemos un fichero FASTA de ejemplo, `assembledSeqs.fa`. Vamos a leerlo con BioPython:"
   ]
  },
  {
   "cell_type": "code",
   "execution_count": 1,
   "metadata": {},
   "outputs": [
    {
     "name": "stdout",
     "output_type": "stream",
     "text": [
      "ID: \" chr12_9180206_+:chr12_118582391_+:a1;2 \" - longitud:  79\n",
      "ID: \" chr12_9180206_+:chr12_118582391_+:a2;2 \" - longitud:  80\n",
      "ID: \" chr1_8969882_-:chr1_568670_-:a1;113 \" - longitud:  86\n",
      "ID: \" chr1_8969882_-:chr1_568670_-:a2;69 \" - longitud:  120\n"
     ]
    }
   ],
   "source": [
    "from Bio import SeqIO\n",
    "\n",
    "# Obtenemos todas las secuencias que encuentre en el fichero, indicando el \n",
    "# tipo de formato 'fasta':\n",
    "records = SeqIO.parse(\"data/assembledSeqs.fa\", \"fasta\")\n",
    "for seq_record in records:\n",
    "    # Para cada secuencia, imprimiremos su id y su longitud\n",
    "    print('ID: \"', seq_record.id, '\" - longitud: ', len(seq_record))"
   ]
  },
  {
   "cell_type": "markdown",
   "metadata": {},
   "source": [
    "Cada uno de los `seq_record` que leemos es un objeto `SeqRecord` que contiene un objeto de tipo `Seq` (una secuencia en BioPython) junto a otros metadatos, como su id, por ejemplo. Vamos ahora a contar el número de nucleótidos de cada tipo:"
   ]
  },
  {
   "cell_type": "code",
   "execution_count": 58,
   "metadata": {},
   "outputs": [
    {
     "name": "stdout",
     "output_type": "stream",
     "text": [
      "Secuencia 0:\n",
      "Número de A's: 14\n",
      "Número de C's: 17\n",
      "Número de G's: 24\n",
      "Número de T's: 24\n",
      "\n",
      "Secuencia 1:\n",
      "Número de A's: 17\n",
      "Número de C's: 30\n",
      "Número de G's: 16\n",
      "Número de T's: 17\n",
      "\n",
      "Secuencia 2:\n",
      "Número de A's: 27\n",
      "Número de C's: 31\n",
      "Número de G's: 12\n",
      "Número de T's: 16\n",
      "\n",
      "Secuencia 3:\n",
      "Número de A's: 31\n",
      "Número de C's: 41\n",
      "Número de G's: 20\n",
      "Número de T's: 28\n",
      "\n"
     ]
    }
   ],
   "source": [
    "from Bio import SeqIO\n",
    "\n",
    "records = SeqIO.parse(\"data/assembledSeqs.fa\", \"fasta\")\n",
    "for i, seq_record in enumerate(records):\n",
    "    print(\"Secuencia %d:\" % i)\n",
    "    print(\"Número de A's: %d\" % seq_record.seq.count(\"A\"))\n",
    "    print(\"Número de C's: %d\" % seq_record.seq.count(\"C\"))\n",
    "    print(\"Número de G's: %d\" % seq_record.seq.count(\"G\"))\n",
    "    print(\"Número de T's: %d\" % seq_record.seq.count(\"T\"))\n",
    "    print()"
   ]
  },
  {
   "cell_type": "markdown",
   "metadata": {},
   "source": [
    "### Ejercicio 1\n",
    "Escribid el código para contar el número de bases como el ejemplo anterior, pero **SIN utilizar la librería BioPython**. El output tiene que ser idéntico al del ejemplo anterior."
   ]
  },
  {
   "cell_type": "code",
   "execution_count": 8,
   "metadata": {},
   "outputs": [
    {
     "name": "stdout",
     "output_type": "stream",
     "text": [
      "Secuencia 0:\n",
      "Número de A's: 14\n",
      "Número de C's: 17\n",
      "Número de G's: 24\n",
      "Número de T's: 24\n",
      "\n",
      "Secuencia 1:\n",
      "Número de A's: 17\n",
      "Número de C's: 30\n",
      "Número de G's: 16\n",
      "Número de T's: 17\n",
      "\n",
      "Secuencia 2:\n",
      "Número de A's: 27\n",
      "Número de C's: 31\n",
      "Número de G's: 12\n",
      "Número de T's: 16\n",
      "\n",
      "Secuencia 3:\n",
      "Número de A's: 31\n",
      "Número de C's: 41\n",
      "Número de G's: 20\n",
      "Número de T's: 28\n",
      "\n"
     ]
    }
   ],
   "source": [
    "# Respuesta\n",
    "number_a = 0\n",
    "number_c = 0\n",
    "number_g = 0\n",
    "number_t = 0\n",
    "sequence_number = 0\n",
    "\n",
    "archivo = open('data/assembledSeqs.fa', 'r') #Open fasta\n",
    "genome = ''\n",
    "sequences = []\n",
    "estoy_detro_secuencia = False\n",
    "\n",
    "\n",
    "for line in archivo:  #Iterate the file\n",
    "    if line[0] == '>': #If find a > put _ before that and add a sequence_number.\n",
    "        sequence_number += 1\n",
    "        estoy_detro_secuencia = False\n",
    "    else: \n",
    "        if estoy_detro_secuencia:\n",
    "            sequences[-1] += line.rstrip()\n",
    "        else: \n",
    "            sequences.append(line.rstrip()) #If not find > put it to the right \n",
    "            estoy_detro_secuencia = True\n",
    "            \n",
    "for i in range(sequence_number):\n",
    "    print(\"Secuencia %d:\" % i)\n",
    "    print(\"Número de A's: %d\" % sequences[i].count('A')) #For every sequence count A,C,G,T\n",
    "    print(\"Número de C's: %d\" % sequences[i].count('C'))\n",
    "    print(\"Número de G's: %d\" % sequences[i].count('G'))\n",
    "    print(\"Número de T's: %d\" % sequences[i].count('T'))\n",
    "    print()"
   ]
  },
  {
   "cell_type": "markdown",
   "metadata": {},
   "source": [
    "#### Notas importantes\n",
    "\n",
    "- No podeis coger el contenido del fichero y copiar en la celda como si fuera un string.\n",
    "- Cada nueva secuencia viene identificada por el carácter '>'. Utilizad todo lo que viene después de ese carácter y hasta que acabe la línea para utilizarlo como la clave de un diccionario. El valor para esa clave será el resto de la secuencia que tenéis que tratar."
   ]
  },
  {
   "cell_type": "markdown",
   "metadata": {},
   "source": [
    "### Contenido GC\n",
    "En genética, el contenido de guanina y citosina (GC) se entiende como el porcentaje entre los pares Guanina-Citosina en la molécula de ADN o genoma y el resto de bases. Este porcentaje se calcula de la siguiente forma:\n",
    "\n",
    "$(G + C) * 100 / (A + C + G + T)$\n",
    "\n",
    "En BioPython, calcular el contenido GC es muy sencillo:"
   ]
  },
  {
   "cell_type": "code",
   "execution_count": 128,
   "metadata": {},
   "outputs": [
    {
     "data": {
      "text/plain": [
       "35.2112676056338"
      ]
     },
     "execution_count": 128,
     "metadata": {},
     "output_type": "execute_result"
    }
   ],
   "source": [
    "from Bio.Seq import Seq\n",
    "from Bio.Alphabet import IUPAC\n",
    "from Bio.SeqUtils import GC\n",
    "\n",
    "# Creamos un objeto secuencia que contiene los nucleótidos válidos para ADN \n",
    "# definidos por la IUPAC (Unión Internacional de Química Pura y Aplicada)\n",
    "seq = Seq(\"ACGTGAGATCACATAATAATTGATCGAGTTAATCTGGAAGGGCTTTATTTCCGGGATGTCTTTACTATAAT\", IUPAC.unambiguous_dna)\n",
    "\n",
    "# Calculamos el contenido mediante la función GC():\n",
    "GC(seq)"
   ]
  },
  {
   "cell_type": "markdown",
   "metadata": {},
   "source": [
    "### Ejercicio 2\n",
    "Para la misma secuencia, escribid el código para calcular el contenido GC sin utilizar la librería BioPython:"
   ]
  },
  {
   "cell_type": "code",
   "execution_count": 131,
   "metadata": {},
   "outputs": [
    {
     "name": "stdout",
     "output_type": "stream",
     "text": [
      "35.2112676056338\n"
     ]
    }
   ],
   "source": [
    "# Respuesta\n",
    "seq = \"ACGTGAGATCACATAATAATTGATCGAGTTAATCTGGAAGGGCTTTATTTCCGGGATGTCTTTACTATAAT\"\n",
    "\n",
    "variable_a = seq.count('A')\n",
    "variable_c = seq.count('C')\n",
    "variable_g = seq.count('G')\n",
    "variable_t = seq.count('T')\n",
    "\n",
    "result = (variable_g+variable_c)*100/(variable_a+variable_c+variable_g+variable_t)\n",
    "\n",
    "print(result)"
   ]
  },
  {
   "cell_type": "markdown",
   "metadata": {},
   "source": [
    "### Estructura secundaria del ADN\n",
    "La molécula de ADN tiene una forma de doble hélice. El orden en secuencia de los nucleótidos determina lo que conocemos como estructura primaria del ADN. La doble hélice se forma gracias a la complementariedad de las bases A y T y C y G, respectivamente. Hablamos de estructura secundaria cuando nos referimos a que las bases A y T son complementarias y que C y G también. Por estructura terciaria entendemos cómo se unen estas bases a la estructura principal que las soporta y forma una doble hélice en forma de espiral. \n",
    "\n",
    "<img src=\"files/media/dna_chemical_structure.png\">\n",
    "\n",
    "Fuente: \"DNA chemical structure\" - Wikimedia Commons https://commons.wikimedia.org/wiki/File:DNA_chemical_structure_es.svg#/media/File:DNA_chemical_structure_es.svg)\n",
    "\n",
    "Es interesante conocer, dada una secuencia con bases A, C, G o T, cuál es su secuencia reversa complementaria. Vamos a ver cómo hacerlo mediante BioPython:"
   ]
  },
  {
   "cell_type": "code",
   "execution_count": 135,
   "metadata": {},
   "outputs": [
    {
     "data": {
      "text/plain": [
       "Seq('AAACAGATCCCTAGTTTCCAGATTAAATTATTATGTGGTGTGAACTAGGTCCCGA', IUPACUnambiguousDNA())"
      ]
     },
     "execution_count": 135,
     "metadata": {},
     "output_type": "execute_result"
    }
   ],
   "source": [
    "from Bio.Seq import Seq\n",
    "from Bio.Alphabet import IUPAC\n",
    "\n",
    "seq = Seq(\"TCGGGACCTAGTTCACACCACATAATAATTTAATCTGGAAACTAGGGATCTGTTT\", IUPAC.unambiguous_dna)\n",
    "\n",
    "# Calculamos la secuencia complementaria\n",
    "seq.reverse_complement()"
   ]
  },
  {
   "cell_type": "markdown",
   "metadata": {},
   "source": [
    "### Ejercicio 3\n",
    "Como ya va siendo habitual en esta unidad, escribid un código en Python que calcule para la secuencia anterior su secuencia reversa complementaria sin utilizar la librería BioPython:"
   ]
  },
  {
   "cell_type": "code",
   "execution_count": 144,
   "metadata": {},
   "outputs": [
    {
     "name": "stdout",
     "output_type": "stream",
     "text": [
      "AAACAGATCCCTAGTTTCCAGATTAAATTATTATGTGGTGTGAACTAGGTCCCGA\n"
     ]
    }
   ],
   "source": [
    "# Respuesta\n",
    "\n",
    "seq = \"TCGGGACCTAGTTCACACCACATAATAATTTAATCTGGAAACTAGGGATCTGTTT\"\n",
    "seq2=\"\"\n",
    "\n",
    "for letter in seq: #Iterate all sequence letter by letter\n",
    "    if letter == 'A':\n",
    "        seq2 +='T'\n",
    "    elif letter == 'T':\n",
    "        seq2 +='A'\n",
    "    elif letter == 'C':\n",
    "        seq2 +='G'\n",
    "    elif letter == 'G':\n",
    "        seq2 +='C'\n",
    "\n",
    "inverted_seq2 = seq2[::-1] # list[<start>:<stop>:<step>]. If we put -1 we start by the end one by one\n",
    "print(inverted_seq2)"
   ]
  },
  {
   "cell_type": "markdown",
   "metadata": {},
   "source": [
    "### Transcripción y traduccion\n",
    "Como ya explicamos en la introducción de esta unidad, el ADN se transcribe a una molécula intermedia, el ARN, antes de ser traducido finalmente a proteína. Podemos simular también este aparato biológico mediante la libreria BioPython:"
   ]
  },
  {
   "cell_type": "code",
   "execution_count": 10,
   "metadata": {},
   "outputs": [
    {
     "data": {
      "text/plain": [
       "Seq('SDHIIIDRVNLEDLLGF', IUPACProtein())"
      ]
     },
     "execution_count": 10,
     "metadata": {},
     "output_type": "execute_result"
    }
   ],
   "source": [
    "from Bio.Seq import Seq\n",
    "from Bio.Alphabet import IUPAC\n",
    "\n",
    "seq = Seq(\"AGTGATCACATAATAATTGATCGAGTTAATCTGGAGGATCTGCTGGGATTT\", IUPAC.unambiguous_dna)\n",
    "\n",
    "# Transcribimos\n",
    "mRNA = seq.transcribe()\n",
    "\n",
    "# Y traducimos\n",
    "mRNA.translate()"
   ]
  },
  {
   "cell_type": "markdown",
   "metadata": {},
   "source": [
    "### Codones\n",
    "Un codón es un triplete de nucleótidos y cada triplete codifica un aminoácido (residuo), aunque un aminoácido puede estar codificado por varios codones. Existe un codón especial, el codón de parada o terminación que no determina ningún aminoácido, pero que indica que la traducción ha de terminar y la proteína está completa. Existen tres codones de parada: TAG, el primero descubierto, TGA y TAA. En nuestro ejemplo, la librería nos avisa de este hecho. Podéis consultar una tabla de codones aquí: https://en.wikipedia.org/wiki/DNA_codon_table."
   ]
  },
  {
   "cell_type": "markdown",
   "metadata": {},
   "source": [
    "### Ejercicio 4\n",
    "EcoRI es una enzima de restricción muy empleada en todos los laboratorios del mundo para cortar una hebra de ADN en dos partes. EcoRI reconoce el motivo G\\*AATTC, separando la secuencia inicial de ADN por la posición indicada por el '\\*'. En la siguiente secuencia, escribid un código en Python que reconozca ese motivo y la separe en dos partes:\n",
    "\n",
    "EcoRI(ACTGATCGATTACGTATAGTAGAATTCTATCATACATATATATCGATGCGTTCATTAC) = ACTGATCGATTACGTATAGTAG + AATTCTATCATACATATATATCGATGCGTTCATTAC"
   ]
  },
  {
   "cell_type": "code",
   "execution_count": 10,
   "metadata": {},
   "outputs": [
    {
     "data": {
      "text/plain": [
       "['ACTGATCGATTACGTATAGTAG', 'AATTCTATCATACATATATATCGATGCGTTCATTAC']"
      ]
     },
     "execution_count": 10,
     "metadata": {},
     "output_type": "execute_result"
    }
   ],
   "source": [
    "# Respuesta\n",
    "\n",
    "seq = 'ACTGATCGATTACGTATAGTAGAATTCTATCATACATATATATCGATGCGTTCATTAC'\n",
    "\n",
    "pattern = 'G*AATTC'\n",
    "seq.replace('GAATTC', pattern).split('*')"
   ]
  },
  {
   "cell_type": "markdown",
   "metadata": {},
   "source": [
    "### Distancia de Hamming\n",
    "La distancia de Hamming es una función entre dos secuencias *p* y *q* (en nuestro caso nos limitaremos a secuencias de la misma longitud), que nos indica el número de símbolos que para cada posición *i* en *p* y *q* son diferentes. Por ejemplo, sea p=CCGTA y q=ACGTC. Su distancia de Hamming será 2 (la primera y última posiciones son diferentes).\n",
    "\n",
    "### Ejercicio 5\n",
    "Dadas dos secuencias p y q, calculad su distancia de hamming:"
   ]
  },
  {
   "cell_type": "code",
   "execution_count": 137,
   "metadata": {},
   "outputs": [
    {
     "name": "stdout",
     "output_type": "stream",
     "text": [
      "71\n"
     ]
    }
   ],
   "source": [
    "p = 'CGAAGCAATTGAAACCCCCCCGGCCTGGGAGGCGCAAAAATCTGACCTCTTTGT\\\n",
    "GAGTTGACCACTTAATTTATGTCTGACCACGAGAAGGGCTACTGATTTGGTA'\n",
    "q = 'GGTAGTAGGTTCGCGTACCTCGTTCCGGGGAAAACACAAAGGAGAAGGGAATGC\\\n",
    "TCCTAGTAGTTTCAGTCTAGCAAACATGTTATAACGCTAACTGTGTGCTGCA'\n",
    "\n",
    "def hamming(p, q):\n",
    "    # Código a completar\n",
    "        difference = 0\n",
    "        for sequence_p, sequence_q in zip(p, q): #We put together p[0] with q[0], p[1] with q[1], etc.\n",
    "                if sequence_p != sequence_q: #If p[0] != q[0]\n",
    "                        difference += 1 #difference++\n",
    "        return difference\n",
    "\n",
    "print(hamming(p, q))"
   ]
  },
  {
   "cell_type": "markdown",
   "metadata": {},
   "source": [
    "### Motivos\n",
    "En genómica, es habitual encontrar regiones de ADN idénticas en secuencia en genomas de organismos diferentes, lo que apunta a que se trata de una región conservada con muy probablemente una función muy parecida en ambos organismos.\n",
    "\n",
    "En nuestro caso, entenderemos por motivo una secuencia *s* con longitud menor a la secuencia *t* donde querremos buscar ese motivo *len(s) < len(t)*. Por ejemplo, sean *t* y *s*:\n",
    "\n",
    "t = GATATATGCATATACTT<br>\n",
    "s = ATAT<br>\n",
    "\n",
    "el motivo *s* aparece en las siguientes posiciones: 2, 4 y 10 (empezamos a contar en 1, no es así en Python, donde empezamos a contar desde 0).\n",
    "\n",
    "### Ejercicio 6\n",
    "Escribid una función que devuelva en una lista las posiciones donde se ha encontrado el motivo en una determinada secuencia (devolverá la lista [-1] si no ha encontrado el motivo):"
   ]
  },
  {
   "cell_type": "code",
   "execution_count": 133,
   "metadata": {},
   "outputs": [
    {
     "name": "stdout",
     "output_type": "stream",
     "text": [
      "[2, 22]\n",
      "[2, 5, 6, 15, 17, 18, 22]\n",
      "[-1]\n",
      "[30, 39]\n"
     ]
    }
   ],
   "source": [
    "import re\n",
    "\n",
    "def buscar_motivo(t, s):\n",
    "    # Código a completar\n",
    "    regular_expresion=re.compile(s) #Obtain a regular expression object, converts into string\n",
    "    alls = [numbers.start()+1 for numbers in regular_expresion.finditer(t)]\n",
    "    if alls != []:\n",
    "        return alls \n",
    "    else:\n",
    "        return [-1]\n",
    "#regular_expresion.finditer(t) te dice donde empieza y donde acaba el for\n",
    "\n",
    "t = 'AUGCUUCAGAAAGGUCUUACGUGCUUUA'\n",
    "s = 'UGCU'\n",
    "print(buscar_motivo(t, s))\n",
    "\n",
    "t = 'AUGCUUCAGAAAGGUCUUACGU'\n",
    "s = 'U'\n",
    "print(buscar_motivo(t, s))\n",
    "\n",
    "t = 'AUGCUUCAGAAAGGUCUUACGU'\n",
    "s = 'UGCG'\n",
    "print(buscar_motivo(t, s))\n",
    "\n",
    "t = 'GCGTAGTAGGTTCGCCTAGTTCCGCCGAAAGACAAAGGAGAAGGGAATGCTCCT\\\n",
    "AGTAGTTTCAGTCTAGCAAACATGTTATAACGCTAACTGTGTGCTGCA'\n",
    "s = 'AGA'\n",
    "print(buscar_motivo(t, s))"
   ]
  },
  {
   "cell_type": "markdown",
   "metadata": {},
   "source": [
    "### Mutaciones puntuales\n",
    "Tal y como calculamos en la distancia de Hamming, para dos secuencias de la misma longitud y dada una misma posición, definimos transición como la sustitución de una purina por otra purina (A->G o viceversa) o de una pirimidina por otra pirimidina (C->T o viceversa) y transversión cuando se sustituye una purina por una pirimidina o viceversa:\n",
    "\n",
    "<img src=\"files/media/mutaciones_puntuales.png\">\n",
    "\n",
    "Las transversiones ocurren en menor cantidad en la naturaleza que las transiciones, dado el cambio drástico de base química y la relación de transiciones frente a las transversiones, que es de 2 de media en el genoma. Pero en las regiones codificantes, esta relación es superior (normalmente más de 3) y es interesante conocer por tanto esta relación para identificar dichas regiones.\n",
    "\n",
    "Definimos R como la relación transiciones/transversiones. Para el siguiente ejemplo, hemos calculado el valor de R:\n",
    "\n",
    "s1 = GCAACGCACAACGAAAACCCTTAGGGACTGGATTATTTCGTGATCGTTGTAGTTATTGGAAGTACGGGCATCAACCCAGTT<br>\n",
    "s2 = TTATCTGACAAAGAAAGCCGTCAACGGCTGGATAATTTCGCGATCGTGCTGGTTACTGGCGGTACGAGTGTTCCTTTGGGT<br>\n",
    "\n",
    "R = 1.2142857\n",
    "\n",
    "### Ejercicio 7\n",
    "Escribid un código en Python que calcule la relación entre transiciones y transversiones:"
   ]
  },
  {
   "cell_type": "code",
   "execution_count": 201,
   "metadata": {},
   "outputs": [
    {
     "name": "stdout",
     "output_type": "stream",
     "text": [
      "2.2823529411764705\n"
     ]
    }
   ],
   "source": [
    "#Transicion: A->G, G->A, C->T, T->C\n",
    "#Transversion: G->C, C->G, A->T, T->A\n",
    "def rel_trans(sequence_1, sequence_2):\n",
    "    # Código a completar\n",
    "    transitions = [('A', 'G'), ('G', 'A'), ('C', 'T'), ('T', 'C')]\n",
    "    ratio = {True: 0, False: 0}\n",
    "    for letter in zip(sequence_1, sequence_2):\n",
    "        if letter[0] != letter[1]:\n",
    "            ratio[letter in transitions] += 1\n",
    "    return ratio[True] / ratio[False]\n",
    "\n",
    "sequence_1 = \"\"\"TTTTGTCATTTTGCCTCGTCGTCAGGAATATTGGGACGAATTGGACTCTACT\n",
    "TCTGTGGGCTGAGCCGGTTCACCCATTGACGAGTGCTAGTCACAGATGAATTACAATGAA\n",
    "CGCTCGAGAAAGTGCTAATAAACGAACACCAGTAACATATGGGGGCGCGGCTGCCGGGCG\n",
    "ACATGGCCGATTTAAAACACGACTGTAAGGACTGATAAACGTGTAGCATTTTCAAGTCTC\n",
    "GTCGCGATGTACAAATATCGTGTTCCCTAGCTCAGGGCGCACGCTAAGGACAAACGGTGT\n",
    "CACCGAATTTTCCAACGGAGGCACACACATCAACGTGCGAGATTTCGTATGTACCCCCAT\n",
    "TGTATTGAGATGGCATCTGCTCCGAACGTTGAGATCACGCCAGCACTTACAGAACATTCC\n",
    "TAGTGTGGATCTATTAATAGACGGACTGAAACATTAGGGTGGGAAGTGAGCTATGGCTCA\n",
    "CACCAAGCATCGGTTTCTTCTTGGACGGTGCTGTCCCCACCATTTGTTATTGTGCTCTAG\n",
    "AAACACTATAAAGCCTTTAATAAATTCACCGCTGTCGTATCCAAAAGCCGGGTCTGCCTC\n",
    "CTGATGCGTCTCGCGGCTATGGCTGGGTCACACCCCGACAGTCCAGTACCGGTGGTGCCG\n",
    "GAGATAGTGTCGCAGGCGTTCTATGGAGATGGACGGCCATCCATACCCAGTCAGCAAAAC\n",
    "TACCGATCTCTCGGATATCTGTAGGTGGAGCTATTGTCGATAGCTATAAACCAGACTCGG\n",
    "AGAGTAATATGAAATGGAAGTGAGTGCTGGCGAGGCTTTGTGTACTTGTCTGATTTTGTG\n",
    "TTGATCTA\"\"\"\n",
    "\n",
    "sequence_2 = \"\"\"CCTTGTAAGTACGCGTAGCCTCCAGGAACTTTTAGGCGAATTGTACGTCACC\n",
    "TCCGGGAGCCGGGCCGGTTGATCCTTTGACAAGTCCTAACCACAGATGTGTCACAACCAA\n",
    "CCCTTGGAAGGGTGCCAGTTAACAAGCGGTAGCAGGACATGAGGACGCGACTGCCGGAAG\n",
    "ACATGACCAGCTTAAAACACAACTGTCGGGACGGATAAACGTACTGTATCCTTGAATCTC\n",
    "GTCGCAGTGTAGAAAAGGCGTTCTCCCTGGTTCAGGGCGCATGCTAGGGATAAACGGTGT\n",
    "AGTTAAAGATGACGAGGGAAGCGTACGCATCGATGCATGTGACTCCGGATGTACCTCGGT\n",
    "TATATTGAGAGGGTATCCGCTCGAGACGTTAAAATCCCGTTAGTATTCTCTGGACATTCT\n",
    "TGACGTGGATCTTTCAAGGCGCGGACTATAGTGGTAGGGCGGGGAGCGACCTATGACTCA\n",
    "CATCAAGCATCAGCTTTCACTTGGACAGAACTGCGTTCACAATTCGTTACCGCACTTTGA\n",
    "AAACATTAGGGAGCTCTTAGTAGATTAGGCGCTGTCGTATCTAAAGGCCAGATCTGTCCT\n",
    "TTGCTGAATCTCGCGGCCATGTCCGTGTGAAGCCCCGACGACTTAAGGTTAGTGGCGCGA\n",
    "AAGATAGGGTCGTAGGCGATCGATGGAGATGGATAGCTATGCGTATCCGTTCTGTGGTAT\n",
    "GCTAAATCTCATAGATAGCTGTGGGTGAAGTTCATATAGACAGCTCTAAGCCACACCCGG\n",
    "GGAATAATATGGAGTGGGAATGAGAGCTGTCGTGGCTTTGTGCACCTGTCGGATCTCCTA\n",
    "TTGATCTG\"\"\"\n",
    "\n",
    "print(rel_trans(sequence_1, sequence_2))"
   ]
  },
  {
   "cell_type": "markdown",
   "metadata": {},
   "source": [
    "### Filogenia\n",
    "BioPython nos permite manejar y representar árboles filogenéticos (https://es.wikipedia.org/wiki/%C3%81rbol_filogen%C3%A9tico) de forma ágil y sencilla. En el siguiente ejemplo, utilizamos un fichero de nombre *simple.dnd* que representa un árbol en formato Newick (https://en.wikipedia.org/wiki/Newick_format) y lo representamos:"
   ]
  },
  {
   "cell_type": "code",
   "execution_count": 154,
   "metadata": {},
   "outputs": [
    {
     "name": "stdout",
     "output_type": "stream",
     "text": [
      "Tree(rooted=True, weight=1.0)\n",
      "    Clade()\n",
      "        Clade()\n",
      "            Clade(name='Hola')\n",
      "                Clade(name='A')\n",
      "                Clade(name='B')\n",
      "            Clade()\n",
      "                Clade(name='C')\n",
      "                Clade(name='D')\n",
      "        Clade()\n",
      "            Clade(name='E')\n",
      "            Clade(name='F')\n",
      "            Clade(name='G')\n"
     ]
    },
    {
     "data": {
      "image/png": "[encoded data removed]",
      "text/plain": [
       "<Figure size 432x288 with 1 Axes>"
      ]
     },
     "metadata": {
      "needs_background": "light"
     },
     "output_type": "display_data"
    }
   ],
   "source": [
    "%matplotlib inline\n",
    "\n",
    "from Bio import Phylo\n",
    "\n",
    "# Cargamos el árbol desde el fichero\n",
    "tree = Phylo.read(\"data/simple.dnd\", \"newick\")\n",
    "\n",
    "# El árbol tiene una raíz\n",
    "tree.rooted = True\n",
    "# Imprimimos la representación del árbol\n",
    "print(tree)\n",
    "\n",
    "# Creamos una imagen del árbol\n",
    "Phylo.draw(tree)"
   ]
  },
  {
   "cell_type": "markdown",
   "metadata": {},
   "source": [
    "### Ejercicio 8\n",
    "Las posibilidades que ofrece la librería son muy variadas, podéis revisar la documentación oficial: http://biopython.org/DIST/docs/tutorial/Tutorial.html#htoc154\n",
    "\n",
    "Diseñad vuestro propio árbol filogenético en algún formato reconocible por BioPython y representadlo de alguna de las formas posibles. Tened en cuenta que algunas opciones necesitarían librerías extra como networkx o graphviz. **En ese caso, no las utilicéis puesto que necesitaréis instalar esas librerías por separado**."
   ]
  },
  {
   "cell_type": "code",
   "execution_count": 184,
   "metadata": {},
   "outputs": [
    {
     "name": "stdout",
     "output_type": "stream",
     "text": [
      "Tree(rooted=True, weight=1.0)\n",
      "    Clade()\n",
      "        Clade()\n",
      "            Clade()\n",
      "                Clade()\n",
      "                    Clade()\n",
      "                        Clade()\n",
      "                            Clade()\n",
      "                                Clade()\n",
      "                                    Clade()\n",
      "                                        Clade(name='1.1')\n",
      "                                        Clade(name='1.2')\n",
      "                                    Clade(name='2.1')\n",
      "                                Clade(name='3.1')\n",
      "                            Clade(name='4.1')\n",
      "                        Clade()\n",
      "                            Clade()\n",
      "                                Clade(name='3.2')\n",
      "                                Clade(name='3.3')\n",
      "                            Clade(name='4.2')\n",
      "                    Clade()\n",
      "                        Clade()\n",
      "                            Clade(name='4.3')\n",
      "                            Clade(name='4.4')\n",
      "                        Clade(name='5.1')\n",
      "                Clade()\n",
      "                    Clade(name='6.1')\n",
      "                    Clade(name='6.2')\n",
      "            Clade()\n",
      "                Clade(name='7.1')\n",
      "                Clade(name='7.2')\n",
      "        Clade()\n",
      "            Clade()\n",
      "                Clade()\n",
      "                    Clade(name='6.3')\n",
      "                    Clade(name='6.4')\n",
      "                Clade()\n",
      "                    Clade(name='6.5')\n",
      "            Clade()\n",
      "                Clade(name='7.3')\n",
      "        Clade()\n",
      "            Clade()\n",
      "                Clade()\n",
      "                    Clade()\n",
      "                        Clade()\n",
      "                            Clade()\n",
      "                                Clade(name='3.4')\n",
      "                                Clade(name='3.5')\n",
      "                            Clade()\n",
      "                                Clade(name='3.6')\n",
      "                        Clade()\n",
      "                            Clade(name='4.5')\n",
      "                            Clade(name='4.6')\n",
      "                    Clade()\n",
      "                        Clade(name='5.2')\n",
      "                Clade()\n",
      "                    Clade()\n",
      "                        Clade(name='5.3')\n",
      "                        Clade(name='5.4')\n",
      "                    Clade()\n",
      "                        Clade(name='5.5')\n",
      "            Clade()\n",
      "                Clade()\n",
      "                    Clade(name='6.6')\n",
      "                    Clade(name='6.7')\n",
      "                Clade()\n",
      "                    Clade(name='6.8')\n"
     ]
    },
    {
     "data": {
      "image/png": "[encoded data removed]",
      "text/plain": [
       "<Figure size 432x288 with 1 Axes>"
      ]
     },
     "metadata": {
      "needs_background": "light"
     },
     "output_type": "display_data"
    }
   ],
   "source": [
    "# Respuesta\n",
    "%matplotlib inline\n",
    "\n",
    "from Bio import Phylo\n",
    "\n",
    "# Cargamos el árbol desde el fichero\n",
    "tree = Phylo.read(\"data/arbol_ejercicio2.dnd\", \"newick\")\n",
    "\n",
    "# El árbol tiene una raíz\n",
    "tree.rooted = True\n",
    "one = tree.common_ancestor({\"name\": \"1.1\"}, {\"name\": \"1.2\"})\n",
    "one.color = \"salmon\"\n",
    "\n",
    "# Imprimimos la representación del árbol\n",
    "print(tree)\n",
    "\n",
    "# Creamos una imagen del árbol\n",
    "Phylo.draw(tree)\n"
   ]
  }
 ],
 "metadata": {
  "kernelspec": {
   "display_name": "Python 3",
   "language": "python",
   "name": "python3"
  },
  "language_info": {
   "codemirror_mode": {
    "name": "ipython",
    "version": 3
   },
   "file_extension": ".py",
   "mimetype": "text/x-python",
   "name": "python",
   "nbconvert_exporter": "python",
   "pygments_lexer": "ipython3",
   "version": "3.7.3"
  }
 },
 "nbformat": 4,
 "nbformat_minor": 1
}
