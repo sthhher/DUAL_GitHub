{
 "cells": [
  {
   "cell_type": "markdown",
   "metadata": {},
   "source": [
    "# Programación para la Bioinformática"
   ]
  },
  {
   "cell_type": "markdown",
   "metadata": {},
   "source": [
    "## Unidad 3: Conceptos avanzados de Python"
   ]
  },
  {
   "cell_type": "markdown",
   "metadata": {},
   "source": [
    "Ejercicios y preguntas teóricas\n",
    "-------------------------------\n",
    "\n",
    "A continuación, encontraréis la parte que tenéis que completar en este modulo y las preguntas teóricas a contestar."
   ]
  },
  {
   "cell_type": "markdown",
   "metadata": {},
   "source": [
    "### Ejercicio 1\n",
    "\n",
    "Completa el código necesario para: \n",
    "\n",
    "* Calcular el número de palabras\n",
    "* Calcular el número de espacios de un texto\n",
    "* Calcula el número de letras 'r' o 'R' que aparecen\n",
    "\n",
    "Ten en cuenta lo siguiente:\n",
    "\n",
    "* **El número de espacios no tiene que ser necesariamente función del número de palabras**\n",
    "* **Entre una línea y la siguiente de texto, justo después del carácter '\\' hay un gran número de espacios**\n",
    "* **Hay que contar el número de letras 'i', indistintamente de si son mayúsculas o minúsculas**\n"
   ]
  },
  {
   "cell_type": "code",
   "execution_count": 1,
   "metadata": {},
   "outputs": [
    {
     "name": "stdout",
     "output_type": "stream",
     "text": [
      "32\n",
      "          ABC***CDE\n",
      "          abc***cde*************\n",
      "          abc***cde\n",
      "19\n",
      "10\n",
      "1\n"
     ]
    }
   ],
   "source": [
    "texto = \"          abc***cde*************\"\n",
    "print(len(texto))\n",
    "print(texto.rstrip(\"*\").upper())\n",
    "print(texto.lstrip(\"*\"))\n",
    "print(texto.strip(\"*\"))\n",
    "print(len(texto.strip(\"*\")))\n",
    "print(texto.count(\" \"))\n",
    "print(texto.upper().count(\"B\"))"
   ]
  },
  {
   "cell_type": "code",
   "execution_count": 13,
   "metadata": {},
   "outputs": [
    {
     "name": "stdout",
     "output_type": "stream",
     "text": [
      "El número de palabras es de 59\n",
      "El número de espacios es de 74\n",
      "El número de letras 'r' es de 16\n",
      "\n",
      "El número de palabras es de 21\n",
      "El número de espacios es de 33\n",
      "El número de letras 'r' es de 5\n"
     ]
    }
   ],
   "source": [
    "texto1 = \"There was no reason to believe that a young black boy at this time, \\\n",
    "    in this place, could in any way alter history. After all, South Africa was \\\n",
    "    then less than a decade removed from full British control. Already, laws \\\n",
    "    were being codified to implement racial segregation and subjugation, \\\n",
    "    the network of laws that would be known as apartheid\"\n",
    "\n",
    "texto2 = \"Repugnant is a creature who would squander the ability to lift \\\n",
    "             an eye to heaven, conscious of his fleeting time here.\"\n",
    "\n",
    "def contar_palabras(texto):\n",
    "    # Cuenta las palabras contenidas en el string texto\n",
    "    num_palabras = 0\n",
    "    \n",
    "    # Código a completar\n",
    "    num_palabras = len(texto.split())\n",
    "    \n",
    "    return num_palabras\n",
    "\n",
    "def contar_espacios(texto):\n",
    "    # Cuenta los espacios contenidos en el string texto\n",
    "    num_espacios = 0\n",
    "    \n",
    "    # Código a completa\n",
    "    \n",
    "    for i in texto:\n",
    "        if(i == \" \"):\n",
    "            num_espacios += 1\n",
    "        elif(i == \"\\n\"):\n",
    "            num_espacios += 1\n",
    "    \n",
    "    return num_espacios\n",
    "\n",
    "\n",
    "def contar_letras(texto, letra='r'):\n",
    "    # Cuenta de letras 'letra' contenidos en texto\n",
    "    num_letras = 0\n",
    "    # Código a completar\n",
    "    for i in texto.upper():\n",
    "        if(i == \"R\"):\n",
    "            num_letras +=1\n",
    "    return num_letras\n",
    "\n",
    "\n",
    "# Utilizamos la funciones para el texto1:\n",
    "num_palabras = contar_palabras(texto1)\n",
    "num_espacios = contar_espacios(texto1)\n",
    "num_letras = contar_letras(texto1)\n",
    "print(\"El número de palabras es de %d\" % num_palabras)\n",
    "print(\"El número de espacios es de %d\" % num_espacios)\n",
    "print(\"El número de letras 'r' es de %d\" % num_letras)\n",
    "\n",
    "print()\n",
    "\n",
    "# Y también para el texto2:\n",
    "num_palabras = contar_palabras(texto2)\n",
    "num_espacios = contar_espacios(texto2)\n",
    "num_letras = contar_letras(texto2)\n",
    "print(\"El número de palabras es de %d\" % num_palabras)\n",
    "print(\"El número de espacios es de %d\" % num_espacios)\n",
    "print(\"El número de letras 'r' es de %d\" % num_letras)"
   ]
  },
  {
   "cell_type": "markdown",
   "metadata": {},
   "source": [
    "#### Pista\n",
    "\n",
    "Echad un vistazo a la documentación de Python para la función *count()*: https://docs.python.org/3/library/string.html"
   ]
  },
  {
   "cell_type": "markdown",
   "metadata": {},
   "source": [
    "### Ejercicio 2\n",
    "\n",
    "Completad las siguientes funciones matemáticas y documentad el código también de cada función. Por último, escribid algún ejemplo de uso de cada una de las funciones:"
   ]
  },
  {
   "cell_type": "code",
   "execution_count": 64,
   "metadata": {},
   "outputs": [
    {
     "name": "stdout",
     "output_type": "stream",
     "text": [
      "Ejemplo: 8.00\n",
      "El area del circulo es 28.27\n",
      "La longitud del circulo es 12.57\n",
      "La hipotenusa es 3.61\n",
      "El area del cuadrado es 4.00\n",
      "El volumen de la esfera es 33.51\n",
      "El volumen del cubo es 8.00\n"
     ]
    }
   ],
   "source": [
    "# Completa las siguientes funciones matemáticas. \n",
    "# ¡Atención al uso de números decimales!\n",
    "import math\n",
    "\n",
    "# Un ejemplo:\n",
    "def area_rectangulo(base, altura):\n",
    "    return base * altura\n",
    "\n",
    "\n",
    "def area_circulo(radio):\n",
    "    # pi*radio^2\n",
    "    return math.pi*(radio**2)\n",
    "\n",
    "\n",
    "def longitud_circulo(radio):\n",
    "    # 2*pi*radio\n",
    "    return 2*math.pi*radio\n",
    "\n",
    "\n",
    "def hipotenusa(cateto1, cateto2):\n",
    "    # a^2+b^2=c^2\n",
    "    return math.sqrt((cateto1**2)+(cateto2**2))\n",
    "\n",
    "\n",
    "def area_cuadrado(lado):\n",
    "    # lado*lado\n",
    "    return lado*lado\n",
    "\n",
    "\n",
    "def volumen_esfera(radio):\n",
    "    # (4/3)*pi*radio^3\n",
    "    return (4/3)*math.pi*radio**3\n",
    "\n",
    "\n",
    "def volumen_cubo(lado):\n",
    "    # lado*lado*lado\n",
    "    return lado**3\n",
    "\n",
    "\n",
    "print('Ejemplo:%5.2f'%area_rectangulo(2.0, 4.0))\n",
    "# Escribe aquí algunos ejemplos utilizando estas funciones, por ejemplo:\n",
    "# print 'El volumen del cubo de lado 3.5 es %f' % volumen_cubo(3.5)\n",
    "print('El area del circulo es %5.2f' % area_circulo(3))\n",
    "print('La longitud del circulo es %5.2f' % longitud_circulo(2.0))\n",
    "print('La hipotenusa es%5.2f' % hipotenusa(2, 3))\n",
    "print('El area del cuadrado es%5.2f' % area_cuadrado(2.0))\n",
    "print('El volumen de la esfera es %5.2f' % volumen_esfera(2.0))\n",
    "print('El volumen del cubo es%5.2f' % volumen_cubo(2.0))"
   ]
  },
  {
   "cell_type": "markdown",
   "metadata": {},
   "source": [
    "### Ejercicio 3\n",
    "\n",
    "El siguiente ejercicio consiste en pasar un número en base 2 (binario, 0/1) a base 10 (decimal).\n",
    "\n",
    "Dado un string que representa un número en binario, por ejemplo, 1011, devolver el número \n",
    "natural correspondiente, en este caso, 11."
   ]
  },
  {
   "cell_type": "code",
   "execution_count": 73,
   "metadata": {},
   "outputs": [
    {
     "name": "stdout",
     "output_type": "stream",
     "text": [
      "11\n"
     ]
    }
   ],
   "source": [
    "# A completar: DEFINID UNA FUNCIÓN y escribid algunos casos de \n",
    "# uso de esa función\n",
    "\n",
    "#Convertimos el entero en una cadena y después lo pasamos a decimal\n",
    "def binario_decimal(binario):\n",
    "    return int(str(binario), 2)\n",
    "\n",
    "print(binario_decimal(1011))\n"
   ]
  },
  {
   "cell_type": "markdown",
   "metadata": {},
   "source": [
    "### Ejercicio 4\n",
    "\n",
    "Dada una molécula representada por un string del estilo C9-H8-O4 calcula su masa atómica. Por ejemplo, para una molécula C4-H3, la masa atómica sería de 4\\*12.01 + 3\\*1.007825.\n",
    "\n",
    "Haced una solución general accediendo al diccionario mediante la clave, que en este caso será el tipo de átomo. Por ejemplo, para la molécula C5-H3 deberíamos seguir estos pasos:\n",
    "* Separar la molecula por los guiones (podemos hacerlo con la función split, por ejemplo).\n",
    "* Para cada una de las partes, C5 y H3, encontrar el tipo de átomo: C y H. (Necesitaremos un bucle de algún tipo aquí)\n",
    "* Acceder al diccionario de masas y para la clave que se corresponde con el tipo de átomo, obtener la masa.\n",
    "* Una vez encontrada la masa, multiplicarla por el número de átomos encontrados.\n",
    "\n",
    "Pista: para un string del tipo a = 'C15', a[0] nos proporcionará el tipo de átomo, C. a[1:] nos proporciona el string restante: '15'. **Tened en cuenta que ha de convertirse a número decimal para poder multiplicarse**."
   ]
  },
  {
   "cell_type": "code",
   "execution_count": 116,
   "metadata": {},
   "outputs": [
    {
     "name": "stdout",
     "output_type": "stream",
     "text": [
      "206.26964999999998\n",
      "194.18384999999998\n",
      "323.415125\n",
      "376.196645\n"
     ]
    }
   ],
   "source": [
    "# Masas atómicas\n",
    "masas = {'H': 1.007825, 'C': 12.01, 'O': 15.9994, \n",
    "         'N': 14.0067, 'S': 31.972071, 'P': 30.973762}\n",
    "\n",
    "def calcula_masa_atomica(molecula):\n",
    "    \"\"\"\n",
    "    Calcula la masa atomica de una molecula\n",
    "    \"\"\"\n",
    "    masa = 0.0\n",
    "    \n",
    "    # Código a completar\n",
    "    grupos = molecula.split('-')\n",
    "    for grupo in grupos:\n",
    "        elemto = grupo[0]\n",
    "        numero = grupo[1:]\n",
    "        if not numero:\n",
    "            numero = 1\n",
    "        masa += masas[elemto] * float(numero)\n",
    "    return masa\n",
    "\n",
    "\n",
    "print(calcula_masa_atomica('C13-H18-O2'))\n",
    "print(calcula_masa_atomica('C8-H10-N4-O2'))\n",
    "print(calcula_masa_atomica('C20-H25-N3-O'))\n",
    "print(calcula_masa_atomica('C20-H10-O2-P2-S'))"
   ]
  },
  {
   "cell_type": "code",
   "execution_count": null,
   "metadata": {},
   "outputs": [],
   "source": []
  },
  {
   "cell_type": "markdown",
   "metadata": {},
   "source": [
    "#### Nota importante\n",
    "\n",
    "Como se especifica en el enunciado, el diccionario ha de crearse sobre la marcha. **Los siguientes ejemplos son incorrectos**:"
   ]
  },
  {
   "cell_type": "code",
   "execution_count": 5,
   "metadata": {},
   "outputs": [
    {
     "name": "stdout",
     "output_type": "stream",
     "text": [
      "None\n"
     ]
    }
   ],
   "source": [
    "masas = {'H': 1.007825, 'C': 12.01, 'O': 15.9994, \n",
    "         'N': 14.0067, 'S': 31.972071, 'P': 30.973762}\n",
    "\n",
    "# Este primer ejemplo tiene varios problemas:\n",
    "# 1: no tiene en cuenta el parámetro molecula\n",
    "# 2: no utiliza ningún bucle, la solución está \"harcoded\"\n",
    "# 3: la función no tiene return\n",
    "def calcula_masa_atomica(molecula):\n",
    "    masa = masas['C']*13 + masas['H']*18 + masas['O']*2\n",
    "    \n",
    "print(calcula_masa_atomica('C13-H18-O2'))"
   ]
  },
  {
   "cell_type": "code",
   "execution_count": 92,
   "metadata": {},
   "outputs": [
    {
     "name": "stdout",
     "output_type": "stream",
     "text": [
      "156.13\n"
     ]
    }
   ],
   "source": [
    "masas = {'H': 1.007825, 'C': 12.01, 'O': 15.9994, \n",
    "         'N': 14.0067, 'S': 31.972071, 'P': 30.973762}\n",
    "\n",
    "# Este segundo ejemplo sí que utiliza un bucle, \n",
    "# pero no hace uso del diccionario de masas\n",
    "def calcula_masa_atomica(molecula):\n",
    "    masa = 0.0\n",
    "    grupos = molecula.split('-')\n",
    "    for grupo in grupos:\n",
    "        if grupo[0] == 'C':\n",
    "            masa += float(grupo[1:]) * 12.01\n",
    "    return masa\n",
    "    \n",
    "print(calcula_masa_atomica('C13-H18-O2'))"
   ]
  },
  {
   "cell_type": "markdown",
   "metadata": {},
   "source": [
    "### Ejercicio 5\n",
    "\n",
    "Uno de los algoritmos más básicos en criptografía es el cifrado César (https://es.wikipedia.org/wiki/Cifrado_C%C3%A9sar), que fue utilizado por Julio César para comunicarse con sus generales, y que consiste en dado un texto, por cada una de las letras del texto, añadirle un desplazamiento para conseguir una nueva letra diferente de la original. Comprenderemos rápidamente su mecanismo mediante un ejemplo:\n",
    "\n",
    "Si asignamos el número 1 a la primera letra del abecedario, A, 2 a la siguiente, B, etc., imaginad que tenemos el siguiente mensaje:\n",
    "<code>\n",
    "ABC\n",
    "123\n",
    "</code>\n",
    "\n",
    "Si aplicamos un desplazamiento de 3, buscaremos cuál es la letra en el abecedario que se corresponde:\n",
    "<code>\n",
    "DEF\n",
    "456\n",
    "</code>\n",
    "\n",
    "ABC se ha convertido en DEF porque hemos sumado un desplazamiento de 3. También podríamos aplicar otros tipos de desplazamiento como los negativos. Por ejemplo, para el desplazamiento -1 y el mensaje original ABC tendríamos un mensaje cifrado de: ZAB.\n",
    "\n",
    "Escribid una función que dado un mensaje original y un desplazamiento, calcule y devuelva el mensaje cifrado:"
   ]
  },
  {
   "cell_type": "code",
   "execution_count": 25,
   "metadata": {},
   "outputs": [
    {
     "name": "stdout",
     "output_type": "stream",
     "text": [
      "QSPHSBNBDJPÑ QBSB Mb cJPJÑGPSNBUJDB\n"
     ]
    }
   ],
   "source": [
    "def cifrado_cesar(mensaje, desplazamiento=1):\n",
    "    \"\"\"\n",
    "    Cifra el mensaje utilizando el metodo de Cesar \n",
    "    dado un desplazamiento\n",
    "    \"\"\"\n",
    "    mensaje_cifrado = \"\"\n",
    "    \n",
    "    # Codigo a completar\n",
    "    \n",
    "    abc_upper=\"ABCDEFGHIJKLMNÑOPQRSTUVWXYZ\"  #PARA MAYUSCULAS\n",
    "    abc_lower=\"abcdefghijklmnñopqrstuvwxyz\"  #PARA MINUSCULAS\n",
    "        \n",
    "    for letra in mensaje:\n",
    "        if letra in abc_upper:\n",
    "            mensaje_cifrado += abc_upper[(abc_upper.index(letra)+desplazamiento)]\n",
    "        elif letra in abc_lower:\n",
    "            mensaje_cifrado += abc_lower[(abc_lower.index(letra)+desplazamiento)]\n",
    "        else:\n",
    "            mensaje_cifrado +=letra\n",
    "    return mensaje_cifrado\n",
    "\n",
    "# Aqui podeis añadir mas ejemplos\n",
    "print(cifrado_cesar(\"PROGRAMACION PARA La bIOINFORMATICA\", 1))"
   ]
  },
  {
   "cell_type": "markdown",
   "metadata": {},
   "source": [
    "### Ejercicio 6\n",
    "\n",
    "El formato PDB se utiliza en química computacional para guardar información sobre moléculas en disco.\n",
    "Cada línea que empieza por ATOM representa un átomo de la molécula:\n",
    "<code>\n",
    "ATOM      1  N   ARG A   1       0.609  18.920  11.647  1.00 18.79           N\n",
    "ATOM      2  CA  ARG A   1       0.149  17.722  10.984  1.00 13.68           C\n",
    "</code>\n",
    "\n",
    "0.609, 18.920 y 11.647 son las coordenadas x, y, z del átomo 1 (un nitrógeno, 'N', última letra de la línea).\n",
    "El segundo átomo es de tipo C (Carbono) y nombre CA (Carbono Alfa).\n",
    "\n",
    "Completad el siguiente código que nos cuente el número de átomos encontrado para cada elemento.\n",
    "\n",
    "Por ejemplo, para las siguientes líneas:\n",
    "<code>\n",
    "ATOM    211  N   TYR A  27       4.697   8.290  -3.031  1.00 13.35           N\n",
    "ATOM    212  CA  TYR A  27       5.025   8.033  -1.616  0.51 11.29           C\n",
    "ATOM    214  C   TYR A  27       4.189   8.932  -0.730  1.00 10.87           C\n",
    "ATOM    215  O   TYR A  27       3.774  10.030  -1.101  1.00 12.90           O\n",
    "</code>\n",
    "\n",
    "Tendríamos dos átomos de tipo C, un átomo de tipo O y otro átomo de tipo N.\n",
    "\n",
    "**IMPORTANTE: Tened en cuenta que a priori no sabéis que tipos de átomo podéis encontrar hasta que no se lee\n",
    "la línea en vuestro código, por lo que no podéis definir una lista o diccionario de átomos encontrados salvo que se defina vacía y vaya actualizándose conforme encontramos tipos de átomos que no habíamos encontrado antes**.\n",
    "\n",
    "El archivo que utilizaremos está en el directorio [data/](data) y el fichero es [1l2y.pdb](data/1l2y.pdb)."
   ]
  },
  {
   "cell_type": "code",
   "execution_count": 10,
   "metadata": {},
   "outputs": [
    {
     "name": "stdout",
     "output_type": "stream",
     "text": [
      "{'N': 27, 'C': 98, 'O': 29, 'H': 150}\n"
     ]
    }
   ],
   "source": [
    "import os \n",
    "lines = open('data/1l2y.pdb')\n",
    "atoms = {}\n",
    "for line in lines:\n",
    "    if line.startswith('ATOM'):\n",
    "        campos = line.split()\n",
    "        if campos[-1] in atoms:\n",
    "            atoms[campos[-1]] += 1\n",
    "        else:\n",
    "            atoms[campos[-1]] = 1      #Cuando aun no existe hace que se cree y ponga 1.\n",
    "                                       #Cuando se crea automaticamente, al ser un diccionario, te aparecerá la key y el value\n",
    "print(atoms)\n",
    "        "
   ]
  },
  {
   "cell_type": "markdown",
   "metadata": {},
   "source": [
    "#### Pista\n",
    "\n",
    "El siguiente código os ayudará a entender cómo crear un diccionario sobre la marcha y programar la solución para este ejercicio:"
   ]
  },
  {
   "cell_type": "code",
   "execution_count": 160,
   "metadata": {},
   "outputs": [
    {
     "name": "stdout",
     "output_type": "stream",
     "text": [
      "{}\n"
     ]
    }
   ],
   "source": [
    "import os\n",
    "\n",
    "molecula = \"\"\"\n",
    "ATOM    211  N   TYR A  27       4.697   8.290  -3.031  1.00 13.35           N\n",
    "ATOM    212  CA  TYR A  27       5.025   8.033  -1.616  0.51 11.29           C\n",
    "ATOM    214  C   TYR A  27       4.189   8.932  -0.730  1.00 10.87           C\n",
    "ATOM    215  O   TYR A  27       3.774  10.030  -1.101  1.00 12.90           O\n",
    "ATOM    216  CB  TYR A  27       6.509   8.214  -1.310  0.51 12.65           C\n",
    "ATOM    218  CG  TYR A  27       7.406   7.086  -1.795  0.51 14.00           C\n",
    "ATOM    220  CD1 TYR A  27       7.951   6.144  -0.978  0.51 14.16           C\n",
    "ATOM    222  CD2 TYR A  27       7.674   6.963  -3.164  0.51 17.10           C\n",
    "ATOM    224  CE1 TYR A  27       8.752   5.109  -1.405  0.51 14.93           C\n",
    "ATOM    226  CE2 TYR A  27       8.455   5.964  -3.656  0.51 17.43           C\n",
    "ATOM    228  CZ  TYR A  27       8.990   5.041  -2.763  0.51 16.44           C\n",
    "ATOM    230  OH  TYR A  27       9.803   4.026  -3.237  0.51 17.79           O\n",
    "ATOM    232  N   CYS A  28       3.977   8.402   0.487  1.00 10.53           N\n",
    "ATOM    233  CA  CYS A  28       3.295   9.146   1.517  1.00 10.04           C\n",
    "ATOM    234  C   CYS A  28       4.174  10.264   2.053  1.00 10.31           C\n",
    "ATOM    235  O   CYS A  28       5.378  10.108   2.202  1.00 12.91           O\n",
    "ATOM    236  CB  CYS A  28       2.912   8.210   2.680  1.00  9.81           C\n",
    "ATOM    237  SG  CYS A  28       1.804   6.853   2.197  1.00  9.93           S\n",
    "ATOM    238  N   GLY A  29       3.546  11.391   2.430  1.00 10.76           N\n",
    "ATOM    239  CA  GLY A  29       4.295  12.472   3.049  1.00 11.93           C\n",
    "ATOM    240  C   GLY A  29       3.416  13.524   3.596  1.00 12.60           C\n",
    "ATOM    241  O   GLY A  29       3.985  14.574   4.052  1.00 15.82           O\n",
    "ATOM    242  OXT GLY A  29       2.168  13.386   3.672  1.00 11.37           O\n",
    "\"\"\"\n",
    "\n",
    "# Vamos a leer línea por línea cada átomo y guardaremos sus \n",
    "# coordenadas en un diccionario:\n",
    "coordenadas = {}\n",
    "\n",
    "# Separamos el string molecula por los saltos de línea\n",
    "lines = molecula.split(os.linesep)\n",
    "# Ahora iteramos por cada una de las línas\n",
    "for line in lines:\n",
    "    # Si la línea empieza por ATOM:\n",
    "    if line.startswith('ATOM'):\n",
    "        # Vamos a quedarnos con el número de átomo (211, 212, 214, etc.):\n",
    "        campos = line.split()\n",
    "        # El número de átomo se corresponde con el segundo campo \n",
    "        # cuando separamos por espacios la línea. Como los índices \n",
    "        # empiezan en 0, el segundo se corresponde con el índice 1:\n",
    "        num_atom = campos[1]\n",
    "        print(num_atom)\n",
    "        \n",
    "        # Ahora obtenemos las coordenadas x, y, z del átomo de \n",
    "        # la misma forma:\n",
    "        x = float(campos[6])\n",
    "        y = float(campos[7])\n",
    "        z = float(campos[8])\n",
    "        \n",
    "        # Por último, guardamos en el diccionario para la clave \n",
    "        # del número de átomo las coordenadas:\n",
    "        coordenadas[num_atom] = [x, y, z]\n",
    "\n",
    "# Muestra el diccionario:\n",
    "print(coordenadas)"
   ]
  },
  {
   "cell_type": "markdown",
   "metadata": {},
   "source": [
    "### Ejercicio 7\n",
    "\n",
    "Para la siguiente lista de números, escribe por pantalla todos aquellos que sean impares:\n",
    "\n",
    "```python\n",
    "numeros = [386, 462, 47, 418, 907, 344, 236, 375, 823, 566, \n",
    "           597, 978, 328, 615, 953, 345, 399, 162, 758, 219, \n",
    "           918, 237, 412, 566, 826, 248, 866, 950, 626, 949, \n",
    "           687, 217, 815, 67, 104, 58, 512, 24, 892, 894, 767, \n",
    "           553, 81, 379, 843, 831, 445, 742, 717, 958, 743, \n",
    "           527, 345, 221, 200, 456]\n",
    "```"
   ]
  },
  {
   "cell_type": "code",
   "execution_count": 28,
   "metadata": {},
   "outputs": [
    {
     "name": "stdout",
     "output_type": "stream",
     "text": [
      "[47, 907, 375, 823, 597, 615, 953, 345, 399, 219, 237, 949, 687, 217, 815, 67, 767, 553, 81, 379, 843, 831, 445, 717, 743, 527, 345, 221]\n"
     ]
    }
   ],
   "source": [
    "# Tu respuesta \n",
    "numeros = [386, 462, 47, 418, 907, 344, 236, 375, 823, 566, \n",
    "           597, 978, 328, 615, 953, 345, 399, 162, 758, 219, \n",
    "           918, 237, 412, 566, 826, 248, 866, 950, 626, 949, \n",
    "           687, 217, 815, 67, 104, 58, 512, 24, 892, 894, 767, \n",
    "           553, 81, 379, 843, 831, 445, 742, 717, 958, 743, \n",
    "           527, 345, 221, 200, 456]\n",
    "\n",
    "#for numero in numeros:\n",
    "    #if numero%2!=0:\n",
    "        #print (numero)\n",
    "\n",
    "print([num for num in numeros if num % 2])    #primer(el que contindrá la llista): sobre el que estas iterant, despres els filtres\n"
   ]
  },
  {
   "cell_type": "markdown",
   "metadata": {},
   "source": [
    "### Ejercicio 8\n",
    "\n",
    "Escribe un programa que calcule la distancia euclidiana entre dos puntos en el espacio 2D. Estos puntos son (x1, y1) y (x2, y2):"
   ]
  },
  {
   "cell_type": "code",
   "execution_count": 137,
   "metadata": {},
   "outputs": [
    {
     "name": "stdout",
     "output_type": "stream",
     "text": [
      "La distancia entre (1,2) y (2,4) es: 2.236\n",
      "La distancia entre (3,2) y (7,-3) es: 6.403\n",
      "La distancia entre (5,1) y (-2,5) es: 8.062\n"
     ]
    }
   ],
   "source": [
    "import math \n",
    "\n",
    "def distance(x1, y1, x2, y2):\n",
    "    d = 0.0\n",
    "    \n",
    "    # A completar\n",
    "    d = math.sqrt((x2-x1)**2+(y2-y1)**2)    # ** es el mateix que pow (per elevar)  pow(x,2) -> elevo x a 2\n",
    "    return d\n",
    "\n",
    "print(\"La distancia entre (1,2) y (2,4) es: %5.3f\" % distance(1.0, 2.0, 2.0, 4.0))\n",
    "print(\"La distancia entre (3,2) y (7,-3) es: %5.3f\" % distance(3.0, 2.0, 7.0, -3.0))\n",
    "print(\"La distancia entre (5,1) y (-2,5) es: %5.3f\" % distance(5.0, 1.0, -2.0, 5.0))"
   ]
  },
  {
   "cell_type": "markdown",
   "metadata": {},
   "source": [
    "### Pregunta 1\n",
    "\n",
    "El paradigma de programación orientada a objetos es ampliamente utilizado en gran parte de las librerías que se escriben en Python. Es una forma útil de encapsular información de la que se ocupará el propio objeto donde se ha definido esa información. \n",
    "\n",
    "**Explicad qué son los siguientes conceptos:**\n",
    "\n",
    "* Una clase: es una agrupacio d'atributs i metodes\n",
    "* Un objeto: es lo que se crea cuando instanciamos una clase\n",
    "* Un atributo: es una propiedad que le queremos añadir a la clase\n",
    "* Un método: es como una función, se definen con def.\n",
    "* Un constructor\n",
    "* Una superclase y una subclase: \n",
    "* Composició: faig servir altres objectes en l'estructura d'un objecte\n",
    "\n",
    "* Una interfase no te cap funcio implementada. La clase abstracta te alguna de les funcions implementades.\n",
    "\n",
    "**Poned un ejemplo de definición de una clase en código Python y un ejemplo de uso de esa misma clase**.\n",
    "\n",
    "Puedes basarte en este material: http://life.bsc.es/pid/brian/python/#/7\n",
    "\n",
    "**Respuesta:**"
   ]
  },
  {
   "cell_type": "markdown",
   "metadata": {},
   "source": [
    "* Si ponemos self._x -> estamos avisando de que \"x\" deberia de ser privado pero en python TODO es publico.\n",
    "\n",
    "class Perro():\n",
    "\n",
    "    def __init__(self, nombre):\n",
    "        self.nombre = nombre\n",
    "        self.trucos = []    # crea una nueva lista vacía para cada perro\n",
    "\n",
    "    def agregar_truco(self, truco):\n",
    "        self.trucos.append(truco)\n",
    "\n",
    "d = Perro('Fido')\n",
    "e = Perro('Buddy')\n",
    "d.agregar_truco('girar')\n",
    "e.agregar_truco('hacerse el muerto')\n",
    "d.trucos\n",
    "['girar']\n",
    "e.trucos\n",
    "['hacerse el muerto']"
   ]
  },
  {
   "cell_type": "markdown",
   "metadata": {},
   "source": [
    "### Pregunta 2\n",
    "\n",
    "Las excepciones son errores detectados en tiempo de ejecución. Pueden y deben ser manejadas por el programador para minimizar el riesgo de que un determinado programa falle de forma no controlada. \n",
    "\n",
    "**Poned ejemplos de tipos de excepción en el lenguaje Python y de cómo se capturan.**\n",
    "\n",
    "**Respuesta:**"
   ]
  },
  {
   "cell_type": "markdown",
   "metadata": {},
   "source": [
    ">>> while True:\n",
    "...     try:\n",
    "...         x = int(input(\"Por favor ingrese un número: \"))\n",
    "...         break\n",
    "...     except ValueError:\n",
    "...         print(\"Oops! No era válido. Intente nuevamente...\")"
   ]
  },
  {
   "cell_type": "code",
   "execution_count": null,
   "metadata": {},
   "outputs": [],
   "source": []
  }
 ],
 "metadata": {
  "kernelspec": {
   "display_name": "Python 3",
   "language": "python",
   "name": "python3"
  },
  "language_info": {
   "codemirror_mode": {
    "name": "ipython",
    "version": 3
   },
   "file_extension": ".py",
   "mimetype": "text/x-python",
   "name": "python",
   "nbconvert_exporter": "python",
   "pygments_lexer": "ipython3",
   "version": "3.7.3"
  }
 },
 "nbformat": 4,
 "nbformat_minor": 1
}
