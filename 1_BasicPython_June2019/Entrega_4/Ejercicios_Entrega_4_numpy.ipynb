{
 "cells": [
  {
   "cell_type": "markdown",
   "metadata": {},
   "source": [
    "# Programación para la Bioinformática"
   ]
  },
  {
   "cell_type": "markdown",
   "metadata": {},
   "source": [
    "Módulo 4: Librerías científicas en Python - NumPy - Ejercicios\n",
    "-------------------------------------------------"
   ]
  },
  {
   "cell_type": "markdown",
   "metadata": {},
   "source": [
    "Ejercicios y preguntas teóricas\n",
    "-------------------------------"
   ]
  },
  {
   "cell_type": "markdown",
   "metadata": {},
   "source": [
    "### Ejercicio 1\n",
    "Cread una matriz de 8x8 que tenga un patrón 0 (blancas)/1 (negras) como si se tratara de un tablero de ajedrez. El resultado ha de ser:\n",
    "\n",
    "```\n",
    "[[0 1 0 1 0 1 0 1]\n",
    "[1 0 1 0 1 0 1 0]\n",
    "[0 1 0 1 0 1 0 1]\n",
    "[1 0 1 0 1 0 1 0]\n",
    "[0 1 0 1 0 1 0 1]\n",
    "[1 0 1 0 1 0 1 0]\n",
    "[0 1 0 1 0 1 0 1]\n",
    "[1 0 1 0 1 0 1 0]]\n",
    "```"
   ]
  },
  {
   "cell_type": "code",
   "execution_count": 10,
   "metadata": {},
   "outputs": [
    {
     "name": "stdout",
     "output_type": "stream",
     "text": [
      "(8, 8)\n",
      "[[0 1 0 1 0 1 0 1]\n",
      " [1 0 1 0 1 0 1 0]\n",
      " [0 1 0 1 0 1 0 1]\n",
      " [1 0 1 0 1 0 1 0]\n",
      " [0 1 0 1 0 1 0 1]\n",
      " [1 0 1 0 1 0 1 0]\n",
      " [0 1 0 1 0 1 0 1]\n",
      " [1 0 1 0 1 0 1 0]]\n"
     ]
    }
   ],
   "source": [
    "# Respuesta\n",
    "import numpy as np\n",
    "\n",
    "matriz_zero = np.zeros((8,8), dtype=int) #Create list of 0 as int\n",
    "print(matriz_zero.shape) #Et diu com es la matriu\n",
    "matriz_zero[1::2,::2] = 1 #Antes de la coma decido las filas, despues de la coma decido que sea 0,1,0,1\n",
    "matriz_zero[::2,1::2] = 1\n",
    "#array = ndarray\n",
    "print(matriz_zero)"
   ]
  },
  {
   "cell_type": "markdown",
   "metadata": {},
   "source": [
    "### Ejercicio 2\n",
    "Cread dos matrices de tamaño 6x4 y 4x4 con números reales aleatorios y obtened la matriz resultado de multiplicar la primera por la segunda:"
   ]
  },
  {
   "cell_type": "code",
   "execution_count": 13,
   "metadata": {},
   "outputs": [
    {
     "name": "stdout",
     "output_type": "stream",
     "text": [
      "[[ 75 139 125  96]\n",
      " [ 86  96 108  80]\n",
      " [100 108 101  90]\n",
      " [ 65  64  80  57]\n",
      " [ 92  96 111  80]\n",
      " [ 88 146 103 104]]\n"
     ]
    }
   ],
   "source": [
    "# Respuesta\n",
    "random_six_four = np.random.randint(10, size=(6,4))\n",
    "random_four_four = np.random.randint(10, size=(4,4))\n",
    "\n",
    "print(random_six_four.dot(random_four_four))"
   ]
  },
  {
   "cell_type": "markdown",
   "metadata": {},
   "source": [
    "### Ejercicio 3\n",
    "Calculad la media y la desviación estándar de un vector aleatorio de 300 elementos:"
   ]
  },
  {
   "cell_type": "code",
   "execution_count": 215,
   "metadata": {},
   "outputs": [
    {
     "name": "stdout",
     "output_type": "stream",
     "text": [
      "Average: 4.69\n",
      "Standard desviation: 2.85\n"
     ]
    }
   ],
   "source": [
    "# Respuesta\n",
    "SIZE = 300\n",
    "vector = np.random.randint(0, 10, SIZE)\n",
    "\n",
    "average = np.average(vector)\n",
    "\n",
    "standard_desviation = np.std(vector)\n",
    "\n",
    "print(\"Average: %3.2f\" %average)\n",
    "print(\"Standard desviation: %3.2f\" %standard_desviation)"
   ]
  },
  {
   "cell_type": "markdown",
   "metadata": {},
   "source": [
    "### Ejercicio 4\n",
    "Evaluad las funciones seno y arcoseno en el intervalo [-1,1] y con paso (resolución) de 0.025 y guardadlas en dos arrays (evaluar significa calcular):"
   ]
  },
  {
   "cell_type": "code",
   "execution_count": 17,
   "metadata": {},
   "outputs": [
    {
     "name": "stdout",
     "output_type": "stream",
     "text": [
      "[-1.0000000e+00 -9.7500000e-01 -9.5000000e-01 -9.2500000e-01\n",
      " -9.0000000e-01 -8.7500000e-01 -8.5000000e-01 -8.2500000e-01\n",
      " -8.0000000e-01 -7.7500000e-01 -7.5000000e-01 -7.2500000e-01\n",
      " -7.0000000e-01 -6.7500000e-01 -6.5000000e-01 -6.2500000e-01\n",
      " -6.0000000e-01 -5.7500000e-01 -5.5000000e-01 -5.2500000e-01\n",
      " -5.0000000e-01 -4.7500000e-01 -4.5000000e-01 -4.2500000e-01\n",
      " -4.0000000e-01 -3.7500000e-01 -3.5000000e-01 -3.2500000e-01\n",
      " -3.0000000e-01 -2.7500000e-01 -2.5000000e-01 -2.2500000e-01\n",
      " -2.0000000e-01 -1.7500000e-01 -1.5000000e-01 -1.2500000e-01\n",
      " -1.0000000e-01 -7.5000000e-02 -5.0000000e-02 -2.5000000e-02\n",
      "  8.8817842e-16  2.5000000e-02  5.0000000e-02  7.5000000e-02\n",
      "  1.0000000e-01  1.2500000e-01  1.5000000e-01  1.7500000e-01\n",
      "  2.0000000e-01  2.2500000e-01  2.5000000e-01  2.7500000e-01\n",
      "  3.0000000e-01  3.2500000e-01  3.5000000e-01  3.7500000e-01\n",
      "  4.0000000e-01  4.2500000e-01  4.5000000e-01  4.7500000e-01\n",
      "  5.0000000e-01  5.2500000e-01  5.5000000e-01  5.7500000e-01\n",
      "  6.0000000e-01  6.2500000e-01  6.5000000e-01  6.7500000e-01\n",
      "  7.0000000e-01  7.2500000e-01  7.5000000e-01  7.7500000e-01\n",
      "  8.0000000e-01  8.2500000e-01  8.5000000e-01  8.7500000e-01\n",
      "  9.0000000e-01  9.2500000e-01  9.5000000e-01  9.7500000e-01]\n",
      "Function sin: \n",
      "[-8.41470985e-01 -8.27701888e-01 -8.13415505e-01 -7.98620763e-01\n",
      " -7.83326910e-01 -7.67543502e-01 -7.51280405e-01 -7.34547782e-01\n",
      " -7.17356091e-01 -6.99716075e-01 -6.81638760e-01 -6.63135443e-01\n",
      " -6.44217687e-01 -6.24897317e-01 -6.05186406e-01 -5.85097273e-01\n",
      " -5.64642473e-01 -5.43834791e-01 -5.22687229e-01 -5.01213005e-01\n",
      " -4.79425539e-01 -4.57338447e-01 -4.34965534e-01 -4.12320782e-01\n",
      " -3.89418342e-01 -3.66272529e-01 -3.42897807e-01 -3.19308786e-01\n",
      " -2.95520207e-01 -2.71546937e-01 -2.47403959e-01 -2.23106362e-01\n",
      " -1.98669331e-01 -1.74108138e-01 -1.49438132e-01 -1.24674733e-01\n",
      " -9.98334166e-02 -7.49297073e-02 -4.99791693e-02 -2.49973959e-02\n",
      "  8.88178420e-16  2.49973959e-02  4.99791693e-02  7.49297073e-02\n",
      "  9.98334166e-02  1.24674733e-01  1.49438132e-01  1.74108138e-01\n",
      "  1.98669331e-01  2.23106362e-01  2.47403959e-01  2.71546937e-01\n",
      "  2.95520207e-01  3.19308786e-01  3.42897807e-01  3.66272529e-01\n",
      "  3.89418342e-01  4.12320782e-01  4.34965534e-01  4.57338447e-01\n",
      "  4.79425539e-01  5.01213005e-01  5.22687229e-01  5.43834791e-01\n",
      "  5.64642473e-01  5.85097273e-01  6.05186406e-01  6.24897317e-01\n",
      "  6.44217687e-01  6.63135443e-01  6.81638760e-01  6.99716075e-01\n",
      "  7.17356091e-01  7.34547782e-01  7.51280405e-01  7.67543502e-01\n",
      "  7.83326910e-01  7.98620763e-01  8.13415505e-01  8.27701888e-01]\n",
      "\n",
      "Function arcsin: \n",
      "[-1.57079633e+00 -1.34672104e+00 -1.25323590e+00 -1.18103559e+00\n",
      " -1.11976951e+00 -1.06543582e+00 -1.01598529e+00 -9.70202200e-01\n",
      " -9.27295218e-01 -8.86715095e-01 -8.48062079e-01 -8.11034394e-01\n",
      " -7.75397497e-01 -7.40964702e-01 -7.07584437e-01 -6.75131533e-01\n",
      " -6.43501109e-01 -6.12604148e-01 -5.82364238e-01 -5.52715113e-01\n",
      " -5.23598776e-01 -4.94964032e-01 -4.66765339e-01 -4.38961886e-01\n",
      " -4.11516846e-01 -3.84396774e-01 -3.57571104e-01 -3.31011728e-01\n",
      " -3.04692654e-01 -2.78589702e-01 -2.52680255e-01 -2.26943036e-01\n",
      " -2.01357921e-01 -1.75905768e-01 -1.50568273e-01 -1.25327831e-01\n",
      " -1.00167421e-01 -7.50704911e-02 -5.00208568e-02 -2.50026049e-02\n",
      "  8.88178420e-16  2.50026049e-02  5.00208568e-02  7.50704911e-02\n",
      "  1.00167421e-01  1.25327831e-01  1.50568273e-01  1.75905768e-01\n",
      "  2.01357921e-01  2.26943036e-01  2.52680255e-01  2.78589702e-01\n",
      "  3.04692654e-01  3.31011728e-01  3.57571104e-01  3.84396774e-01\n",
      "  4.11516846e-01  4.38961886e-01  4.66765339e-01  4.94964032e-01\n",
      "  5.23598776e-01  5.52715113e-01  5.82364238e-01  6.12604148e-01\n",
      "  6.43501109e-01  6.75131533e-01  7.07584437e-01  7.40964702e-01\n",
      "  7.75397497e-01  8.11034394e-01  8.48062079e-01  8.86715095e-01\n",
      "  9.27295218e-01  9.70202200e-01  1.01598529e+00  1.06543582e+00\n",
      "  1.11976951e+00  1.18103559e+00  1.25323590e+00  1.34672104e+00]\n"
     ]
    }
   ],
   "source": [
    "# Respuesta\n",
    "intervalo = np.arange(-1, 1, 0.025)\n",
    "print(intervalo)\n",
    "function_sin = np.sin(intervalo)\n",
    "function_arcsin = np.arcsin(intervalo)\n",
    "\n",
    "\n",
    "print(\"Function sin: \")\n",
    "print(function_sin)\n",
    "print(\"\")\n",
    "print(\"Function arcsin: \")\n",
    "print(function_arcsin)\n",
    "\n"
   ]
  },
  {
   "cell_type": "markdown",
   "metadata": {},
   "source": [
    "### Ejercicio 5\n",
    "En química computacional, es muy útil simular mediante la técnica de dinámica molecular cómo pequeños ligandos (por ejemplo, la aspirina) se unen a otras proteínas. Esta unión entre una proteína y un ligando puede bloquear la unión de esa misma proteína junto a otras, potenciarla, etc.\n",
    "En nuestro caso, hemos obtenido dos capturas del movimiento de la molécula de aspirina y deseamos saber cuál es la distancia en términos de RMSD entre ambas, es decir, cuánto se ha movido entre una captura y la otra. Si representáramos ese movimiento, podríamos visualizar algo similar a esto:\n",
    "\n",
    "<img src=\"files/media/aspirin_structures.png\">\n",
    "\n",
    "A continuación, tenéis parte del código que deberéis completar para calcular la distancia RMSD que está definida de la siguiente forma: https://en.wikipedia.org/wiki/Root-mean-square_deviation_of_atomic_positions.  \n",
    "\n",
    "<img src=\"files/media/rmsd.svg\">\n",
    "\n",
    "La variable *estructura_1* contiene la información de las coordenadas de los átomos de la primera captura y *estructura_2* la segunda:"
   ]
  },
  {
   "cell_type": "code",
   "execution_count": 22,
   "metadata": {},
   "outputs": [
    {
     "name": "stdout",
     "output_type": "stream",
     "text": [
      "None\n"
     ]
    }
   ],
   "source": [
    "import numpy as np\n",
    "import os\n",
    "\n",
    "\n",
    "# Estructura atómica en formato PDB\n",
    "estructura_1 = \"\"\"\n",
    "HETATM    1  C4  AIN A 141      20.988  20.013   8.918  1.00 32.08           C\n",
    "HETATM    2  C3  AIN A 141      19.732  19.385   8.857  1.00 32.34           C\n",
    "HETATM    3  C2  AIN A 141      19.527  18.104   9.636  1.00 33.22           C\n",
    "HETATM    4  C5  AIN A 141      21.977  19.496   9.752  1.00 31.39           C\n",
    "HETATM    5  H4  AIN A 141      21.183  20.890   8.320  1.00  0.00           H\n",
    "HETATM    6  C6  AIN A 141      21.761  18.347  10.492  1.00 31.52           C\n",
    "HETATM    7  H5  AIN A 141      22.932  19.991   9.830  1.00  0.00           H\n",
    "HETATM    8  C1  AIN A 141      20.570  17.658  10.434  1.00 32.96           C\n",
    "HETATM    9  H6  AIN A 141      22.537  17.967  11.139  1.00  0.00           H\n",
    "HETATM   10  H1  AIN A 141      20.440  16.756  11.015  1.00  0.00           H\n",
    "HETATM   11  C7  AIN A 141      18.679  19.893   7.921  1.00 32.12           C\n",
    "HETATM   12  O1  AIN A 141      18.856  21.012   7.231  1.00 28.52           O\n",
    "HETATM   13  O2  AIN A 141      17.582  19.373   7.818  1.00 32.90           O\n",
    "HETATM   14  O3  AIN A 141      18.290  17.505   9.519  1.00 35.01           O\n",
    "HETATM   15  C8  AIN A 141      17.117  17.595  10.410  1.00 35.75           C\n",
    "HETATM   16  O4  AIN A 141      16.308  16.678  10.381  1.00 37.46           O\n",
    "HETATM   17  C9  AIN A 141      16.879  18.753  11.344  1.00 36.44           C\n",
    "HETATM   18  H91 AIN A 141      15.952  18.591  11.895  1.00  0.00           H\n",
    "HETATM   19  H92 AIN A 141      17.709  18.830  12.046  1.00  0.00           H\n",
    "HETATM   20  H93 AIN A 141      16.803  19.676  10.769  1.00  0.00           H\n",
    "\"\"\"\n",
    "\n",
    "estructura_2 = \"\"\"\n",
    "HETATM    1  C4  AIN A 141      20.909  19.934   8.896  1.00 32.08           C\n",
    "HETATM    2  C3  AIN A 141      19.652  19.312   8.766  1.00 32.34           C\n",
    "HETATM    3  C2  AIN A 141      19.387  18.158   9.565  1.00 33.22           C\n",
    "HETATM    4  C5  AIN A 141      21.860  19.487   9.821  1.00 31.39           C\n",
    "HETATM    5  H4  AIN A 141      21.131  20.820   8.331  1.00  0.00           H\n",
    "HETATM    6  C6  AIN A 141      21.586  18.379  10.634  1.00 31.52           C\n",
    "HETATM    7  H5  AIN A 141      22.771  20.048   9.926  1.00  0.00           H\n",
    "HETATM    8  C1  AIN A 141      20.364  17.703  10.480  1.00 32.96           C\n",
    "HETATM    9  H6  AIN A 141      22.314  18.043  11.358  1.00  0.00           H\n",
    "HETATM   10  H1  AIN A 141      20.171  16.825  11.079  1.00  0.00           H\n",
    "HETATM   11  C7  AIN A 141      18.638  19.970   7.867  1.00 32.12           C\n",
    "HETATM   12  O1  AIN A 141      18.979  20.954   7.165  1.00 28.52           O\n",
    "HETATM   13  O2  AIN A 141      17.431  19.667   7.937  1.00 32.90           O\n",
    "HETATM   14  O3  AIN A 141      18.249  17.398   9.458  1.00 35.01           O\n",
    "HETATM   15  C8  AIN A 141      17.235  17.488  10.335  1.00 35.75           C\n",
    "HETATM   16  O4  AIN A 141      16.343  16.644  10.397  1.00 37.46           O\n",
    "HETATM   17  C9  AIN A 141      17.211  18.698  11.261  1.00 36.44           C\n",
    "HETATM   18  H91 AIN A 141      16.416  18.581  11.994  1.00  0.00           H\n",
    "HETATM   19  H92 AIN A 141      18.154  18.814  11.795  1.00  0.00           H\n",
    "HETATM   20  H93 AIN A 141      17.020  19.587  10.663  1.00  0.00           H\n",
    "\"\"\"\n",
    "\n",
    "def lee_coordenadas_atomo(linea):\n",
    "    \"\"\"Obtiene de una línea de texto en formato PDB las coordenadas en f\n",
    "    ormato numérico\"\"\"\n",
    "    if linea.startswith('HETATM'):\n",
    "        x = float(linea[30:38])    # Coordenada x\n",
    "        y = float(linea[38:46])    # Coordenada y\n",
    "        z = float(linea[46:54])    # Coordenada z\n",
    "        return [x, y, z]\n",
    "\n",
    "    \n",
    "def obtiene_coordenadas(estructura):\n",
    "    \"\"\"Transforma las coordenadas de cada átomo en un array numpy\"\"\"\n",
    "    coordenadas = []\n",
    "    for linea in estructura.split(os.linesep):\n",
    "        atomo = lee_coordenadas_atomo(linea)\n",
    "        if atomo:\n",
    "            coordenadas.append(atomo)\n",
    "    return np.array(coordenadas)\n",
    "\n",
    "\n",
    "def calcula_rmsd_numpy(coordenadas_1, coordenadas_2):\n",
    "    \"\"\"Calcula la RMSD entre dos conjuntos de coordenadas atómicas\"\"\"\n",
    "    # Aquí es dónde tenéis que completar el código. La solución puede ser \n",
    "    # una sola línea gracias a la capacidad de NumPy de hacer cálculos con \n",
    "    # matrices mediante \"broadcast\".\n",
    "    # Si no dais con una solución en una línea no hay problema :)\n",
    "    \n",
    "    rmsd = 0.0 # Esta es la línea a modificar con vuestra solución\n",
    "    rmsd = np.sqrt(np.sum((coordenadas_2-coordenadas_1)**2)/len(coordenadas_1))\n",
    "\n",
    "coordenadas_1 = obtiene_coordenadas(estructura_1)\n",
    "coordenadas_2 = obtiene_coordenadas(estructura_2)\n",
    "\n",
    "rmsd = calcula_rmsd_numpy(coordenadas_1, coordenadas_2)\n",
    "\n",
    "print(rmsd)"
   ]
  },
  {
   "cell_type": "markdown",
   "metadata": {},
   "source": [
    "**El resultado del cálculo de la RMSD ha de ser de `0.253808096798`, no puede ser un número entero.**"
   ]
  },
  {
   "cell_type": "markdown",
   "metadata": {},
   "source": [
    "### Ejercicio 6\n",
    "\n",
    "Crea un vector de números enteros aleatorios de 30 posiciones y ordénalo:"
   ]
  },
  {
   "cell_type": "code",
   "execution_count": 237,
   "metadata": {},
   "outputs": [
    {
     "name": "stdout",
     "output_type": "stream",
     "text": [
      "[0 0 0 0 1 1 2 2 2 3 3 3 4 4 4 4 4 4 5 5 5 5 5 6 6 6 7 9 9 9]\n"
     ]
    }
   ],
   "source": [
    "# Respuesta\n",
    "vector = np.random.randint(10, size=30)\n",
    "print(np.sort(vector))"
   ]
  },
  {
   "cell_type": "markdown",
   "metadata": {},
   "source": [
    "### Ejercicio 7\n",
    "\n",
    "Dado un vector `Z` con números aleatorios entre 0 y 1 de 100 posiciones y un valor `v` aleatorio entre 0 y 1, encuentra cuál es el valor en `Z` más próximo a `v`:"
   ]
  },
  {
   "cell_type": "code",
   "execution_count": null,
   "metadata": {},
   "outputs": [],
   "source": [
    "import numpy as np\n",
    "\n",
    "vector = np.random.random(100)\n",
    "valor = np.random.uniform(0,1)\n",
    "print(vector)\n",
    "# Respuesta\n",
    "idx = (np.abs(vector - valor)).argmin() #Estoy restando el valor al vector, le doy valor absoluto para que no tenga\n",
    "                                        #numeros negativos y solo tenga la diferencia entre cada valor del vector y el valor unico.\n",
    "                                        #una vez tengo esto, busco el menor valor obtenido.\n",
    "print(idx)\n",
    "print(np.abs(vector - valor))\n",
    "print(vector[idx])\n"
   ]
  },
  {
   "cell_type": "markdown",
   "metadata": {},
   "source": [
    "### Ejercicio 8\n",
    "\n",
    "En un vector de 100 posiciones, encuentra cuál es el valor que se repite de forma más frecuente:"
   ]
  },
  {
   "cell_type": "code",
   "execution_count": 29,
   "metadata": {},
   "outputs": [
    {
     "name": "stdout",
     "output_type": "stream",
     "text": [
      "[8 2 3 7 5 9 2 4 6 7 1 5 4 5 5 0 9 6 8 3 8 2 1 8 5 9 7 9 9 9 8 2 3 9 3 7 7\n",
      " 3 0 8 1 0 4 7 1 5 4 3 6 6 3 8 4 9 8 7 0 1 8 6 2 5 2 3 1 0 2 9 2 2 2 9 4 2\n",
      " 5 7 8 7 1 9 0 6 1 1 6 5 7 0 6 3 8 3 7 6 9 3 5 4 1 2]\n",
      "[ 7 10 12 11  7 10  9 11 11 12]\n",
      "2\n"
     ]
    }
   ],
   "source": [
    "import numpy as np\n",
    "\n",
    "Z = np.random.randint(0,10,100)\n",
    "\n",
    "print(Z)\n",
    "\n",
    "# Respuesta\n",
    "counts = np.bincount(Z)  #Order in array and count the numbers\n",
    "ind2 = np.argmax(counts) #The bigger. If there is more than 1 number don't appear\n",
    "print(ind2)"
   ]
  }
 ],
 "metadata": {
  "kernelspec": {
   "display_name": "Python 3",
   "language": "python",
   "name": "python3"
  },
  "language_info": {
   "codemirror_mode": {
    "name": "ipython",
    "version": 3
   },
   "file_extension": ".py",
   "mimetype": "text/x-python",
   "name": "python",
   "nbconvert_exporter": "python",
   "pygments_lexer": "ipython3",
   "version": "3.7.3"
  }
 },
 "nbformat": 4,
 "nbformat_minor": 1
}
