{
 "cells": [
  {
   "cell_type": "markdown",
   "metadata": {},
   "source": [
    "# Programación para la Bioinformática"
   ]
  },
  {
   "cell_type": "markdown",
   "metadata": {},
   "source": [
    "Módulo 4: Librerías científicas en Python - NumPy\n",
    "-------------------------------------------------\n",
    "\n",
    "### Instrucciones de uso\n",
    "A continuación se presentarán explicaciones y ejemplos de uso de la librería NumPy. Recordad que podéis ir ejecutando los ejemplos para obtener sus resultados."
   ]
  },
  {
   "cell_type": "markdown",
   "metadata": {},
   "source": [
    "### Primeros pasos\n",
    "Vamos a importar la librería:"
   ]
  },
  {
   "cell_type": "code",
   "execution_count": 1,
   "metadata": {},
   "outputs": [],
   "source": [
    "# En la siguiente línea, importamos NumPy y le damos un nombre más corto \n",
    "# para que nos sea más cómodo hacer las llamadas\n",
    "import numpy as np"
   ]
  },
  {
   "cell_type": "markdown",
   "metadata": {},
   "source": [
    "En NumPy, el objeto básico se trata de una lista multidimensional de números (normalmente) del mismo tipo"
   ]
  },
  {
   "cell_type": "code",
   "execution_count": 3,
   "metadata": {},
   "outputs": [],
   "source": [
    "# Ejemplo básico, un punto en el espacio 3D:\n",
    "p = np.array([1, 2, 3])"
   ]
  },
  {
   "cell_type": "markdown",
   "metadata": {},
   "source": [
    "En NumPy, a las dimensiones se les conoce con el nombre de ejes (*axes*) y al número de ejes, rango (*rank*). *array* es un alias para referirse al tipo de objeto *numpy.ndarray*.\n",
    "\n",
    "Algunas propiedades importantes de los arrays son las siguientes:\n",
    "* **ndarray.ndim**: el número de ejes del objeto array (matriz)\n",
    "* **ndarray.shape**: Una tupla de números enteros indicando la longitud de las dimensiones de la matriz\n",
    "* **ndarray.size**: el número total de elementos de la matriz"
   ]
  },
  {
   "cell_type": "code",
   "execution_count": 5,
   "metadata": {},
   "outputs": [
    {
     "name": "stdout",
     "output_type": "stream",
     "text": [
      "Array unidimensional:\n",
      "[0 1 2 3 4 5]\n",
      "Matriz 3x2:\n",
      "[[0 1]\n",
      " [2 3]\n",
      " [4 5]]\n"
     ]
    }
   ],
   "source": [
    "# Vamos a crear una matrix bidimensional 3x2 (tres filas, dos columnas)\n",
    "a = np.arange(3*2) # Creamos un array unidimensional de 6 elementos\n",
    "print('Array unidimensional:')\n",
    "print(a)\n",
    "a = a.reshape(3,2) # Le damos \"forma\" de matrix 3x2\n",
    "print('Matriz 3x2:')\n",
    "print(a)"
   ]
  },
  {
   "cell_type": "code",
   "execution_count": 6,
   "metadata": {},
   "outputs": [
    {
     "data": {
      "text/plain": [
       "2"
      ]
     },
     "execution_count": 6,
     "metadata": {},
     "output_type": "execute_result"
    }
   ],
   "source": [
    "# La dimensión es 2\n",
    "a.ndim"
   ]
  },
  {
   "cell_type": "code",
   "execution_count": 7,
   "metadata": {},
   "outputs": [
    {
     "data": {
      "text/plain": [
       "(3, 2)"
      ]
     },
     "execution_count": 7,
     "metadata": {},
     "output_type": "execute_result"
    }
   ],
   "source": [
    "# Longitud de las dimensiones\n",
    "a.shape"
   ]
  },
  {
   "cell_type": "code",
   "execution_count": 8,
   "metadata": {},
   "outputs": [
    {
     "data": {
      "text/plain": [
       "6"
      ]
     },
     "execution_count": 8,
     "metadata": {},
     "output_type": "execute_result"
    }
   ],
   "source": [
    "# El número total de elementos\n",
    "a.size"
   ]
  },
  {
   "cell_type": "markdown",
   "metadata": {},
   "source": [
    "A la hora de crear arrays, tenemos diferentes opciones:"
   ]
  },
  {
   "cell_type": "code",
   "execution_count": 9,
   "metadata": {},
   "outputs": [
    {
     "name": "stdout",
     "output_type": "stream",
     "text": [
      "[0. 0. 0. 0. 0. 0. 0. 0. 0. 0.]\n"
     ]
    }
   ],
   "source": [
    "# Creamos un array (vector) de diez elementos:\n",
    "z = np.zeros(10)\n",
    "print(z)"
   ]
  },
  {
   "cell_type": "code",
   "execution_count": 10,
   "metadata": {},
   "outputs": [
    {
     "name": "stdout",
     "output_type": "stream",
     "text": [
      "[0.  0.  0.  0.  5.  0.  0.  0.  0.  0.1]\n"
     ]
    }
   ],
   "source": [
    "# Podemos cambiar cualquiera de los valores de este vector accediendo a su posición:\n",
    "z[4] = 5.0\n",
    "z[-1] = 0.1\n",
    "print(z)"
   ]
  },
  {
   "cell_type": "code",
   "execution_count": 11,
   "metadata": {},
   "outputs": [
    {
     "name": "stdout",
     "output_type": "stream",
     "text": [
      "[10 11 12 13 14 15 16 17 18 19]\n"
     ]
    }
   ],
   "source": [
    "# La función arange nos permite definir diferentes opciones, como el punto de inicio y el de fin:\n",
    "a = np.arange(10,20)\n",
    "print(a)"
   ]
  },
  {
   "cell_type": "code",
   "execution_count": 12,
   "metadata": {},
   "outputs": [
    {
     "name": "stdout",
     "output_type": "stream",
     "text": [
      "[10 12 14 16 18]\n"
     ]
    }
   ],
   "source": [
    "# El último argumento nos permite utilizar un paso de 2:\n",
    "a = np.arange(10,20,2)\n",
    "print(a)"
   ]
  },
  {
   "cell_type": "code",
   "execution_count": 13,
   "metadata": {},
   "outputs": [
    {
     "name": "stdout",
     "output_type": "stream",
     "text": [
      "[[1 2 3]\n",
      " [4 5 6]]\n"
     ]
    }
   ],
   "source": [
    "# Podemos crear arrays desde listas de Python de varias dimensiones:\n",
    "a = np.array([[1, 2, 3], [4, 5, 6]])\n",
    "print(a)"
   ]
  },
  {
   "cell_type": "markdown",
   "metadata": {},
   "source": [
    "### Operaciones con matrices\n",
    "NumPy implementa todas las operaciones habituales con matrices"
   ]
  },
  {
   "cell_type": "code",
   "execution_count": 14,
   "metadata": {},
   "outputs": [],
   "source": [
    "A = np.array([[1,0], [0,1]])\n",
    "B = np.array([[1,2], [3,4]])"
   ]
  },
  {
   "cell_type": "code",
   "execution_count": 14,
   "metadata": {},
   "outputs": [
    {
     "name": "stdout",
     "output_type": "stream",
     "text": [
      "[[1 2]\n",
      " [3 4]]\n"
     ]
    }
   ],
   "source": [
    "# Suma de matrices\n",
    "\n",
    "import numpy as np\n",
    "A = np.zeros((2,2), dtype=int)\n",
    "\n",
    "B = np.array([[1,2], [3,4]])\n",
    "print(A+B)"
   ]
  },
  {
   "cell_type": "code",
   "execution_count": 16,
   "metadata": {},
   "outputs": [
    {
     "name": "stdout",
     "output_type": "stream",
     "text": [
      "[[ 0 -2]\n",
      " [-3 -3]]\n"
     ]
    }
   ],
   "source": [
    "# Resta de matrices\n",
    "print(A-B)"
   ]
  },
  {
   "cell_type": "code",
   "execution_count": 17,
   "metadata": {},
   "outputs": [
    {
     "name": "stdout",
     "output_type": "stream",
     "text": [
      "[[1 0]\n",
      " [0 4]]\n"
     ]
    }
   ],
   "source": [
    "# Multiplicación elemento por elemento\n",
    "print(A*B)"
   ]
  },
  {
   "cell_type": "code",
   "execution_count": 18,
   "metadata": {},
   "outputs": [
    {
     "name": "stdout",
     "output_type": "stream",
     "text": [
      "[[1 2]\n",
      " [3 4]]\n"
     ]
    }
   ],
   "source": [
    "# Multiplicación de matrices\n",
    "print(A.dot(B))"
   ]
  },
  {
   "cell_type": "code",
   "execution_count": 19,
   "metadata": {},
   "outputs": [
    {
     "name": "stdout",
     "output_type": "stream",
     "text": [
      "[[ 1  4]\n",
      " [ 9 16]]\n"
     ]
    }
   ],
   "source": [
    "# Potencia\n",
    "print(B**2)"
   ]
  },
  {
   "cell_type": "markdown",
   "metadata": {},
   "source": [
    "### *Slicing* e iteración\n",
    "Los arrays en NumPy soportan la técnica de *slicing* de Python:\n"
   ]
  },
  {
   "cell_type": "code",
   "execution_count": 20,
   "metadata": {},
   "outputs": [
    {
     "name": "stdout",
     "output_type": "stream",
     "text": [
      "[2 3 4]\n"
     ]
    }
   ],
   "source": [
    "# Definimos un array de 0 a 9\n",
    "a = np.arange(10)\n",
    "# Obtenemos los 5-2 elementos desde la posición 3 del array (los índices empiezan en 0)\n",
    "print(a[2:5])"
   ]
  },
  {
   "cell_type": "code",
   "execution_count": 21,
   "metadata": {},
   "outputs": [
    {
     "data": {
      "text/plain": [
       "array([2, 3, 4, 5, 6, 7, 8, 9])"
      ]
     },
     "execution_count": 21,
     "metadata": {},
     "output_type": "execute_result"
    }
   ],
   "source": [
    "# Todos los elementos a partir de la tercera posición\n",
    "a[2:]"
   ]
  },
  {
   "cell_type": "code",
   "execution_count": 22,
   "metadata": {},
   "outputs": [
    {
     "name": "stdout",
     "output_type": "stream",
     "text": [
      "0\n",
      "1\n",
      "2\n",
      "3\n",
      "4\n",
      "5\n",
      "6\n",
      "7\n",
      "8\n",
      "9\n"
     ]
    }
   ],
   "source": [
    "# Podemos iterar por cada elemento del array:\n",
    "for i in a:\n",
    "    print(i)"
   ]
  },
  {
   "cell_type": "code",
   "execution_count": 23,
   "metadata": {},
   "outputs": [
    {
     "name": "stdout",
     "output_type": "stream",
     "text": [
      "[[ 0  1  2]\n",
      " [ 3  4  5]\n",
      " [ 6  7  8]\n",
      " [ 9 10 11]\n",
      " [12 13 14]\n",
      " [15 16 17]]\n"
     ]
    }
   ],
   "source": [
    "# Definamos ahora un array multidimensional\n",
    "A = np.arange(18).reshape(6,3)\n",
    "print(A)"
   ]
  },
  {
   "cell_type": "code",
   "execution_count": 24,
   "metadata": {},
   "outputs": [
    {
     "name": "stdout",
     "output_type": "stream",
     "text": [
      "[[ 0  1  2]\n",
      " [ 3  4  5]\n",
      " [ 6  7  8]\n",
      " [ 9 10 11]\n",
      " [12 13 14]]\n"
     ]
    }
   ],
   "source": [
    "# Obtenemos hasta la quinta fila\n",
    "print(A[:5])"
   ]
  },
  {
   "cell_type": "code",
   "execution_count": 25,
   "metadata": {},
   "outputs": [
    {
     "name": "stdout",
     "output_type": "stream",
     "text": [
      "[[0 0 0]\n",
      " [0 0 0]\n",
      " [0 0 0]\n",
      " [0 0 0]\n",
      " [0 0 0]\n",
      " [0 0 0]]\n"
     ]
    }
   ],
   "source": [
    "# Igualamos todos los elementos a 0 (el operador ... añade todos los : necesarios)\n",
    "A[...] = 0\n",
    "print(A)"
   ]
  },
  {
   "cell_type": "markdown",
   "metadata": {},
   "source": [
    "### Ejemplo: El juego de la vida de Conway\n",
    "El juego de la vida es un ejemplo clásico de autómata celular creado en 1970 por el famoso matemático John H. Conway. \n",
    "En el problema clásico, se representan en una matriz bidimensional células que vivirán o morirán dependiendo del número de vecinos en un determinado paso de la simulación. Cada célula tiene 8 vecinos (las casillas adyacentes en un tablero bidimensional) y puede estar viva (1) o muerta (0). Las reglas clásicas entre transición vida/muerte son las siguientes:\n",
    "\n",
    "* Una célula muerta con exactamente 3 células vecinas vivas al turno siguiente estará viva.\n",
    "* Una célula viva con 2 o 3 células vecinas vivas sigue viva, en otro caso muere o permanece muerta (soledad en caso de un número menor a 2, superpoblación si es mayor a 3).\n",
    "\n",
    "Este problema (o juego) tiene muchas variantes dependiendo de las condiciones iniciales, si el tablero (o mundo) tiene bordes o no, o si bien las reglas de vida o muerte son alteradas.\n",
    "\n",
    "A continuación tenéis un ejemplo del juego clásico implementado en NumPy:"
   ]
  },
  {
   "cell_type": "code",
   "execution_count": 19,
   "metadata": {},
   "outputs": [
    {
     "name": "stdout",
     "output_type": "stream",
     "text": [
      "[[0 0 0 0 0 0 0 0 0 0 0 0 0 0 0 0 0 0 0 0]\n",
      " [0 0 0 0 0 0 0 0 0 0 0 1 0 1 0 0 0 0 0 0]\n",
      " [0 0 0 0 0 0 0 0 0 0 0 1 0 1 0 1 1 0 0 0]\n",
      " [0 0 0 0 0 0 0 0 0 0 0 0 1 0 1 0 1 0 0 0]\n",
      " [0 0 0 0 0 0 0 0 0 0 0 0 0 0 0 0 0 0 0 0]\n",
      " [0 0 0 1 0 1 1 1 0 0 1 0 0 0 0 0 0 0 0 0]\n",
      " [0 0 1 1 0 0 1 0 1 1 1 0 0 0 0 0 0 0 0 0]\n",
      " [0 0 1 1 0 1 0 0 1 0 0 0 0 0 0 0 0 0 0 0]\n",
      " [0 0 0 1 0 1 0 1 1 1 1 0 0 0 0 0 0 0 0 0]\n",
      " [0 0 0 1 0 0 1 1 1 0 0 1 0 0 0 0 0 0 0 0]\n",
      " [0 0 0 0 0 0 1 1 1 0 1 0 0 0 0 0 0 0 0 0]\n",
      " [0 0 0 0 0 0 0 0 1 0 0 1 0 0 0 0 0 1 0 0]\n",
      " [0 0 0 1 0 0 0 1 0 0 0 1 0 0 0 0 0 0 1 0]\n",
      " [0 0 1 1 0 0 1 1 0 1 1 0 0 0 0 1 1 0 1 0]\n",
      " [0 0 0 1 0 0 0 0 0 1 0 0 0 0 0 1 1 0 1 0]\n",
      " [0 0 0 1 0 0 0 1 1 0 0 0 0 0 0 0 1 0 1 0]\n",
      " [0 0 0 0 1 0 0 0 0 0 0 0 0 0 0 0 0 1 0 0]\n",
      " [0 0 0 0 0 0 0 0 0 0 0 0 0 0 0 0 0 0 0 0]\n",
      " [0 0 0 0 0 0 0 0 0 0 0 0 0 0 0 0 0 0 0 0]\n",
      " [0 0 0 0 0 0 0 0 0 0 0 0 0 0 0 0 0 0 0 0]]\n"
     ]
    }
   ],
   "source": [
    "# Autor: Nicolas Rougier\n",
    "# Fuente: http://www.labri.fr/perso/nrougier/teaching/numpy.100/\n",
    "\n",
    "SIZE = 20\n",
    "STEPS =10\n",
    "\n",
    "def iterate(Z):\n",
    "    # Count neighbours\n",
    "    N = (Z[0:-2,0:-2] + Z[0:-2,1:-1] + Z[0:-2,2:] +\n",
    "         Z[1:-1,0:-2]                + Z[1:-1,2:] +\n",
    "         Z[2:  ,0:-2] + Z[2:  ,1:-1] + Z[2:  ,2:])\n",
    "\n",
    "    # Apply rules\n",
    "    birth = (N==3) & (Z[1:-1,1:-1]==0)\n",
    "    survive = ((N==2) | (N==3)) & (Z[1:-1,1:-1]==1)\n",
    "    Z[...] = 0\n",
    "    Z[1:-1,1:-1][birth | survive] = 1\n",
    "    return Z\n",
    "\n",
    "# Creamos un tablero con células vivas o muertas de forma aleatoria\n",
    "Z = np.random.randint(0,2,(SIZE, SIZE))\n",
    "# Simulamos durante los pasos indicados\n",
    "for i in range(STEPS):\n",
    "    Z = iterate(Z)\n",
    "# Mostramos el tablero en el paso final\n",
    "print(Z)"
   ]
  },
  {
   "cell_type": "code",
   "execution_count": null,
   "metadata": {},
   "outputs": [],
   "source": []
  }
 ],
 "metadata": {
  "kernelspec": {
   "display_name": "Python 3",
   "language": "python",
   "name": "python3"
  },
  "language_info": {
   "codemirror_mode": {
    "name": "ipython",
    "version": 3
   },
   "file_extension": ".py",
   "mimetype": "text/x-python",
   "name": "python",
   "nbconvert_exporter": "python",
   "pygments_lexer": "ipython3",
   "version": "3.7.3"
  }
 },
 "nbformat": 4,
 "nbformat_minor": 1
}
