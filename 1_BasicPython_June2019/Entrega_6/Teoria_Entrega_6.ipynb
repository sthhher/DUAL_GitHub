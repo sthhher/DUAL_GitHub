{
 "cells": [
  {
   "cell_type": "markdown",
   "metadata": {},
   "source": [
    "# Programación para la bioinformática\n",
    "\n",
    "## Unidad 6: *Testing* y calidad del software\n",
    "\n",
    "### Instrucciones de uso\n",
    "A continuación, se presentarán explicaciones y ejemplos de uso de pruebas de código o *software tests*. Recordad que podéis ir ejecutando los ejemplos para obtener sus resultados.\n"
   ]
  },
  {
   "cell_type": "markdown",
   "metadata": {},
   "source": [
    "## Introducción\n",
    "\n",
    "En primer lugar, planteemos las siguientes preguntas:\n",
    "\n",
    "* **¿Cómo podemos estar seguros de que el código que hemos escrito es correcto?**\n",
    "* **¿Cómo estamos seguros de que nuestro código es capaz de responder en todos los posibles escenarios?**\n",
    "\n",
    "Quizá, la respuesta más directa a estas preguntas sea **escribiendo pruebas de código**. Puede parecer extraño que, para probar que efectivamente el código que hemos escrito nos da el resultado correcto y esperado, tengamos que escribir más código que se encargue de verificar el primero. Pero no hacerlo equivale, en el argot, a **caminar sobre la cuerda floja sin red de fondo**.\n",
    "\n",
    "Las pruebas de código, de aquí en adelante *test*, serán nuestra red, la red que capture los problemas de ejecución de nuestro código y que nos ayude a detectar en una etapa temprana de desarrollo posibles fallos y *bugs*.\n",
    "\n",
    "Existen diferentes tipos de test: unitarios, de regresión, de punta a punta, de integración... Nosotros nos centraremos en esta unidad en los tests de más bajo nivel, los **unitarios**, que se encargan de comprobar funciones de forma atómica.\n",
    "\n",
    "Veamos un primer ejemplo:"
   ]
  },
  {
   "cell_type": "code",
   "execution_count": 1,
   "metadata": {},
   "outputs": [
    {
     "name": "stdout",
     "output_type": "stream",
     "text": [
      "5.0\n"
     ]
    }
   ],
   "source": [
    "from math import sqrt\n",
    "\n",
    "\n",
    "# Escribimos una función que realiza una suma de forma un tanto especial:\n",
    "\n",
    "def suma_rara(a, b):\n",
    "    return pow(sqrt(a), 2) + pow(sqrt(b), 2)\n",
    "\n",
    "\n",
    "# Ejecutamos nuestra función utilizando 2 y 3 como argumentos\n",
    "print(suma_rara(2, 3))"
   ]
  },
  {
   "cell_type": "markdown",
   "metadata": {},
   "source": [
    "Como se puede entender al analizar el código, la función calcula la suma de los cuadrados de las raíces de los argumentos, *a* y *b*.\n",
    "\n",
    "Se trata de una forma un tanto extraña de sumar dos números, pero aparentemente correcta. Ahora bien, **¿qué pasaría si alguno de los argumentos fuera un número negativo?** Comprobémoslo:"
   ]
  },
  {
   "cell_type": "code",
   "execution_count": 2,
   "metadata": {},
   "outputs": [
    {
     "ename": "ValueError",
     "evalue": "math domain error",
     "output_type": "error",
     "traceback": [
      "\u001b[0;31m---------------------------------------------------------------------------\u001b[0m",
      "\u001b[0;31mValueError\u001b[0m                                Traceback (most recent call last)",
      "\u001b[0;32m<ipython-input-2-32484313b02a>\u001b[0m in \u001b[0;36m<module>\u001b[0;34m()\u001b[0m\n\u001b[0;32m----> 1\u001b[0;31m \u001b[0mprint\u001b[0m\u001b[0;34m(\u001b[0m\u001b[0msuma_rara\u001b[0m\u001b[0;34m(\u001b[0m\u001b[0;34m-\u001b[0m\u001b[0;36m2\u001b[0m\u001b[0;34m,\u001b[0m \u001b[0;36m3\u001b[0m\u001b[0;34m)\u001b[0m\u001b[0;34m)\u001b[0m\u001b[0;34m\u001b[0m\u001b[0m\n\u001b[0m",
      "\u001b[0;32m<ipython-input-1-013288ca9d46>\u001b[0m in \u001b[0;36msuma_rara\u001b[0;34m(a, b)\u001b[0m\n\u001b[1;32m      5\u001b[0m \u001b[0;34m\u001b[0m\u001b[0m\n\u001b[1;32m      6\u001b[0m \u001b[0;32mdef\u001b[0m \u001b[0msuma_rara\u001b[0m\u001b[0;34m(\u001b[0m\u001b[0ma\u001b[0m\u001b[0;34m,\u001b[0m \u001b[0mb\u001b[0m\u001b[0;34m)\u001b[0m\u001b[0;34m:\u001b[0m\u001b[0;34m\u001b[0m\u001b[0m\n\u001b[0;32m----> 7\u001b[0;31m     \u001b[0;32mreturn\u001b[0m \u001b[0mpow\u001b[0m\u001b[0;34m(\u001b[0m\u001b[0msqrt\u001b[0m\u001b[0;34m(\u001b[0m\u001b[0ma\u001b[0m\u001b[0;34m)\u001b[0m\u001b[0;34m,\u001b[0m \u001b[0;36m2\u001b[0m\u001b[0;34m)\u001b[0m \u001b[0;34m+\u001b[0m \u001b[0mpow\u001b[0m\u001b[0;34m(\u001b[0m\u001b[0msqrt\u001b[0m\u001b[0;34m(\u001b[0m\u001b[0mb\u001b[0m\u001b[0;34m)\u001b[0m\u001b[0;34m,\u001b[0m \u001b[0;36m2\u001b[0m\u001b[0;34m)\u001b[0m\u001b[0;34m\u001b[0m\u001b[0m\n\u001b[0m\u001b[1;32m      8\u001b[0m \u001b[0;34m\u001b[0m\u001b[0m\n\u001b[1;32m      9\u001b[0m \u001b[0;34m\u001b[0m\u001b[0m\n",
      "\u001b[0;31mValueError\u001b[0m: math domain error"
     ]
    }
   ],
   "source": [
    "print(suma_rara(-2, 3))"
   ]
  },
  {
   "cell_type": "markdown",
   "metadata": {},
   "source": [
    "Obtenemos un error de ejecución, ```ValueError```, que nos indica que hay un problema de dominio matemático, y es que la raíz cuadrada de un número negativo no pertenece al dominio de los números reales. En conclusión: nuestra función tiene un error y no es capaz de sumar uno o dos números negativos."
   ]
  },
  {
   "cell_type": "markdown",
   "metadata": {},
   "source": [
    "## *Testing*\n",
    "\n",
    "Como hemos visto en el apartado anterior, necesitamos una forma de comprobar y *testear* nuestro código. Existen diferentes alternativas en Python, incluídas en la librería estándar o librerías externas. Vamos a ver qué opciones nos proporciona Python por defecto:"
   ]
  },
  {
   "cell_type": "markdown",
   "metadata": {},
   "source": [
    "### 1. *Doctest*\n",
    "\n",
    "Se pueden indicar los propios *test* utilizando *doctest*. *Doctest* pertenece a la librería estándar de Python y es capaz de reconocer porciones de código Python incluídas en la cabecera/documentación de la función y ejecutarlos. Veamos un ejemplo sencillo:"
   ]
  },
  {
   "cell_type": "code",
   "execution_count": 2,
   "metadata": {},
   "outputs": [],
   "source": [
    "def square(x):\n",
    "    \"\"\"Return the square of x.\n",
    "\n",
    "    >>> square(2)\n",
    "    4\n",
    "    >>> square(-2)\n",
    "    4\n",
    "    \"\"\"\n",
    "    return x * x\n",
    "\n",
    "\n",
    "if __name__ == '__main__':\n",
    "    import doctest\n",
    "    doctest.testmod()"
   ]
  },
  {
   "cell_type": "markdown",
   "metadata": {
    "collapsed": true
   },
   "source": [
    "Como vemos, al ejecutar el anterior código, no aparece ningún mensaje de error. Modifiquemos ahora el código de retorno de la función para comprobar que efectivamente los *test* se están ejecutando:"
   ]
  },
  {
   "cell_type": "code",
   "execution_count": 1,
   "metadata": {},
   "outputs": [
    {
     "name": "stdout",
     "output_type": "stream",
     "text": [
      "**********************************************************************\n",
      "File \"__main__\", line 4, in __main__.square\n",
      "Failed example:\n",
      "    square(2)\n",
      "Expected:\n",
      "    4\n",
      "Got:\n",
      "    8\n",
      "**********************************************************************\n",
      "File \"__main__\", line 6, in __main__.square\n",
      "Failed example:\n",
      "    square(-2)\n",
      "Expected:\n",
      "    4\n",
      "Got:\n",
      "    8\n",
      "**********************************************************************\n",
      "1 items had failures:\n",
      "   2 of   2 in __main__.square\n",
      "***Test Failed*** 2 failures.\n"
     ]
    }
   ],
   "source": [
    "def square(x):\n",
    "    \"\"\"Return the square of x.\n",
    "\n",
    "    >>> square(2)\n",
    "    4\n",
    "    >>> square(-2)\n",
    "    4\n",
    "    \"\"\"\n",
    "    return x * 2 * x\n",
    "\n",
    "\n",
    "if __name__ == '__main__':\n",
    "    import doctest\n",
    "    doctest.testmod()"
   ]
  },
  {
   "cell_type": "markdown",
   "metadata": {},
   "source": [
    "Como podemos observar, ahora se nos avisa en tiempo de ejecución de que ha habido dos problemas al ejecutar el código y de cuáles son los resultados esperados (*Expected*) y obtenidos (*Got*).\n",
    "\n",
    "*Doctest* es muy útil para indicar a otros programadores cómo debe utilizar nuestras funciones a la vez que se prueba de forma muy simple el propio código, aunque no están indicadas para grandes desarrollos.\n",
    "\n",
    "Tenéis mucha más información sobre *doctest* en la documentación oficial: [https://docs.python.org/2/library/doctest.html](https://docs.python.org/2/library/doctest.html)."
   ]
  },
  {
   "cell_type": "markdown",
   "metadata": {},
   "source": [
    "### 2. *Unittest*\n",
    "\n",
    "La librería *unittest* es probablemente la más utilizada por los desarrolladores al no necesitar instalarse de forma externa. Tiene algunas limitaciones en cuanto a cómo descubrir el código que se quiere probar de forma automática, etc., pero es la aproximación por defecto a los *test* unitarios en Python.\n",
    "\n",
    "Veamos un ejemplo con varias funcionalidades de la librería:"
   ]
  },
  {
   "cell_type": "code",
   "execution_count": 7,
   "metadata": {},
   "outputs": [
    {
     "name": "stderr",
     "output_type": "stream",
     "text": [
      ".....\n",
      "----------------------------------------------------------------------\n",
      "Ran 5 tests in 0.006s\n",
      "\n",
      "OK\n"
     ]
    }
   ],
   "source": [
    "# Primero de todo importamos la librería:\n",
    "import unittest\n",
    "\n",
    "\n",
    "# Definimos una clase para probar algunas funciones de la clase string\n",
    "# a modo de ejemplo:\n",
    "class TestStringMethods(unittest.TestCase):\n",
    "\n",
    "    # Test para probar como pasar un string a mayúsculas:\n",
    "    def test_upper(self):\n",
    "        # assertEqual es una función especial que comprueba si ambos \n",
    "        # argumentos son iguales o no:\n",
    "        self.assertEqual('foo'.upper(), 'FOO')\n",
    "\n",
    "    # Test para probar si un string contiene solo mayúsculas:\n",
    "    def test_isupper(self):\n",
    "        # assertTrue comprueba si el valor que se devuelve es TRUE\n",
    "        self.assertTrue('FOO'.isupper())\n",
    "        \n",
    "        # assertFalse hace lo propio para FALSE\n",
    "        self.assertFalse('Foo'.isupper())\n",
    "\n",
    "    # Test para comprobar si dividimos un string por espacios de forma \n",
    "    # correcta:\n",
    "    def test_split(self):\n",
    "        s = 'hello world'\n",
    "        # Notad que compara entre listas posición por posición:\n",
    "        self.assertEqual(s.split(), ['hello', 'world'])\n",
    "        \n",
    "\n",
    "if __name__ == '__main__':\n",
    "    \"\"\"\n",
    "    Por defecto deberíamos utilizar la siguiente línea:\n",
    "    \n",
    "    unittest.main()\n",
    "    \n",
    "    pero tenemos que hacerlo de la siguiente forma para que sea \n",
    "    posible utilizar unittest en los notebook:\n",
    "    \"\"\"\n",
    "    unittest.main(argv=['first-arg-is-ignored'], exit=False)"
   ]
  },
  {
   "cell_type": "markdown",
   "metadata": {},
   "source": [
    "Como podéis ver, aparece un mensaje que indica el número de tests que se han ejecutado y su resultado. Si alguno de los tests fuera erróneo, aparecería una *E* y no el carácter \"·\", y en el caso de que devolvieran un valor erróneo, este sería una *F*."
   ]
  },
  {
   "cell_type": "markdown",
   "metadata": {},
   "source": [
    "Si volvemos al ejemplo en el que utilizamos *doctest*, podemos escribir varios *test* de forma diferente:"
   ]
  },
  {
   "cell_type": "code",
   "execution_count": 6,
   "metadata": {},
   "outputs": [
    {
     "name": "stderr",
     "output_type": "stream",
     "text": [
      ".....\n",
      "----------------------------------------------------------------------\n",
      "Ran 5 tests in 0.024s\n",
      "\n",
      "OK\n"
     ]
    }
   ],
   "source": [
    "import unittest\n",
    "\n",
    "\n",
    "def square(x):\n",
    "    return x * x\n",
    "\n",
    "\n",
    "class TestSquareFunction(unittest.TestCase):\n",
    "\n",
    "    def test_positive(self):\n",
    "        a = 2.0\n",
    "        self.assertEqual(square(a), 4.0)\n",
    "\n",
    "    def test_negative(self):\n",
    "        a = -3.0\n",
    "        self.assertEqual(square(a), 9.0)\n",
    "\n",
    "\n",
    "if __name__ == '__main__':\n",
    "    unittest.main(argv=['first-arg-is-ignored'], exit=False)"
   ]
  },
  {
   "cell_type": "markdown",
   "metadata": {},
   "source": [
    "### 2.1. Métodos de confirmación\n",
    "\n",
    "El método *assertEqual* que hemos introducido antes no es el único método de confirmación de la librería *unittest*. Tenéis la lista completa en la [documentación oficial](https://docs.python.org/2/library/unittest.html#assert-methods), aunque aquí tenéis algunos de los más importantes:\n",
    "\n",
    "* *assertIsNone(x)*: comprueba si la variable *x* es *None*.\n",
    "* *assertIn(a, b)*: comprueba si *a* está incluído en *b*, muy útil para listas o tuplas.\n",
    "* *assertNotIn(a, b)*: comprueba la condición contraria a *assertIn*.\n"
   ]
  },
  {
   "cell_type": "markdown",
   "metadata": {},
   "source": [
    "### 2.2. Estructura de los *test*\n",
    "\n",
    "Habitualmente, la estructura que seguiremos para escribir nuestros tests será la siguiente:\n",
    "\n",
    "```python\n",
    "\n",
    "def test_if_square_in_list():\n",
    "    # Preparamos la estructura del test:\n",
    "    first_squares = [1.0, 4.0, 9.0, 16.0]\n",
    "\n",
    "    # Ejecutamos la función que queremos probar:\n",
    "    a_square = square(2.0)\n",
    "\n",
    "    # Devolvemos el valor del test:\n",
    "    assert (a_square in first_square)\n",
    "\n",
    "```\n",
    "\n",
    "**Es muy importante notar que para que *unittest* descubra los test que queremos ejecutar, la palabra *test* ha de aparecer, ya sea en mayúscula o en cualquier combinación de mayúsculas y minúsculas, al principio del nombre de nuestros *test***.\n",
    "\n",
    "Otra forma de organizar los *test* es utilizando las funciones ***setUp()*** y ***teardown()*** que se encargan, respectivamente, de preparar la estructura del test y de limpiar, si hace falta, al finalizar el test. Veamos un sencillo ejemplo de ello:\n",
    "\n",
    "```python\n",
    "\n",
    "import unittest\n",
    "\n",
    "class TestPhoneBook(unittest.TestCase):\n",
    "    \"\"\" Clase para probar si ciertos países están en la agenda de prefijos.\"\"\"\n",
    "    \n",
    "    def setUp(self):\n",
    "        \"\"\" Creamos nuestra agenda de prefijos \"\"\"\n",
    "        self.phonebook = {34: 'Spain', 33: 'France', 32: 'Belgium', 44: 'UK'}\n",
    "\n",
    "    def tearDown(self):\n",
    "        \"\"\" Limpiamos la agenda al finalizar el test \"\"\"\n",
    "        self.phonebook = None\n",
    "\n",
    "    def test_if_spain_included(self):\n",
    "        \"\"\" Probamos si España está incluída. \"\"\"\n",
    "        self.assertIn('Spain', self.phonebook.values())\n",
    "                         \n",
    "```"
   ]
  },
  {
   "cell_type": "markdown",
   "metadata": {},
   "source": [
    "## Resumen\n",
    "\n",
    "Hemos visto diferentes formas de probar nuestro código y algunos ejemplos muy sencillos. En el *notebook* de la entrega trabajaremos más a fondo algunos de estos conceptos."
   ]
  }
 ],
 "metadata": {
  "kernelspec": {
   "display_name": "Python 3",
   "language": "python",
   "name": "python3"
  },
  "language_info": {
   "codemirror_mode": {
    "name": "ipython",
    "version": 3
   },
   "file_extension": ".py",
   "mimetype": "text/x-python",
   "name": "python",
   "nbconvert_exporter": "python",
   "pygments_lexer": "ipython3",
   "version": "3.7.3"
  }
 },
 "nbformat": 4,
 "nbformat_minor": 2
}
