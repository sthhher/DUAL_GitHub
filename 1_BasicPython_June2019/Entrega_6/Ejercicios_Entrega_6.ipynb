{
 "cells": [
  {
   "cell_type": "markdown",
   "metadata": {},
   "source": [
    "# Programación para la Bioinformática\n",
    "\n",
    "## Unidad 6: Testing y calidad del software\n",
    "\n",
    "### Ejercicios y preguntas teóricas"
   ]
  },
  {
   "cell_type": "markdown",
   "metadata": {},
   "source": [
    "### Pregunta téorica 1\n",
    "\n",
    "Enumera y explica en qué consisten otras librerías Python para probar código (mínimo 3):"
   ]
  },
  {
   "cell_type": "markdown",
   "metadata": {},
   "source": [
    "RESPUESTA:\n",
    "\n",
    "-> nose or nose2:\n",
    "from mymath import *\n",
    "import nose\n",
    "\n",
    "def test_add_integers():\n",
    "    assert add(5, 3) == 8\n",
    "    \n",
    "def test_add_integers_zero():\n",
    "    assert add(3, 0) == 3\n",
    "    \n",
    "def test_add_floats():\n",
    "assert add(1.5, 2.5) == 4\n",
    "\n",
    "-----------------------------------------------\n",
    "-> pytest:\n",
    "import pytest\n",
    "\n",
    "def test_capital_case():\n",
    "    assert capital_case('semaphore') == 'Semaphore'\n",
    "\n",
    "def test_raises_exception_on_non_string_arguments():\n",
    "    with pytest.raises(TypeError):\n",
    "        capital_case(9)\n",
    "\n",
    "------------------------------------------------\n",
    "-> behave: is a BDD test framework and cucumber-clone for Python.\n",
    "from behave import *\n",
    "\n",
    "@given('we have behave installed')\n",
    "def step_impl(context):\n",
    "    pass\n",
    "\n",
    "@when('we implement a test')\n",
    "def step_impl(context):\n",
    "    assert True is not False\n",
    "\n",
    "@then('behave will test it for us!')\n",
    "def step_impl(context):\n",
    "    assert context.failed is False"
   ]
  },
  {
   "cell_type": "markdown",
   "metadata": {},
   "source": [
    "### Pregunta téorica 2\n",
    "\n",
    "Explica en tus propias palabras el concepto de **cobertura de código** (*test coverage* en Inglés):"
   ]
  },
  {
   "cell_type": "markdown",
   "metadata": {},
   "source": [
    "RESPUESTA:\n",
    "Es el valor que obtenemos al midir el grado en tanto por ciento de comprovacion del codigo de un programa"
   ]
  },
  {
   "cell_type": "markdown",
   "metadata": {},
   "source": [
    "### Pregunta téorica 3\n",
    "\n",
    "Aunque nos hemos centrado en los tests unitarios, hemos comentado que existen otros tipos de tests. Enumera **al menos dos otros tipos de tests** y explica en tus propias palabras qué uso tienen y en qué consisten."
   ]
  },
  {
   "cell_type": "markdown",
   "metadata": {},
   "source": [
    "RESPUESTA:\n",
    "\n",
    "Unitest: comprueba que una funcion de el valor que esperamos.\n",
    "\n",
    "Pruebas de regresión (Regression testing): Nos referimos a una regresión cuando hacemos un codigo que funciona y luego deja de funcionar. Esto suele pasar cuando modificamos parte de ese codigo. Las pruebas de regresion sirven para detectar estos problemas. Cuando pruebas todo el programa.\n",
    "\n",
    "Desarrollo Guiado por Pruebas (Test-Driven Development): Hablamos de desarrollo guiado por pruebas cuando usamos varios tipos de test existentes. Primero hay que escribir una prueba y comprobar que esta falla, luego se añade el codigo que hace que funcione y se reestructura el codigo.\n",
    "\n",
    "Pruebas de aceptación (Acceptance testing): son pruebas que confirman que el programa funciona bien. Pueden ser escritas en cualquier tipo de test y nos ayuda a saber si el programa hace realmente lo que tiene que hacer."
   ]
  },
  {
   "cell_type": "markdown",
   "metadata": {},
   "source": [
    "### Pregunta teórica 4\n",
    "\n",
    "¿Es posible hacer pruebas cuando utilizamos objetos *Exception* en nuestro código? Si es así, explica cómo y pon como mínimo 2 ejemplos que se puedan ejecutar:"
   ]
  },
  {
   "cell_type": "markdown",
   "metadata": {},
   "source": [
    "RESPUESTA:\n",
    "\n",
    "Si que es posible, nos hemos de asegurar de que el error se produce cuando se da un error real. Por ejemplo, hay un error de si se hace una entrada incorrecta, nos hemos de asegurar cuando hay una entrada incorrecta real. \n",
    "\n",
    "Ejemplo:\n",
    "\n",
    "    import unittest\n",
    "    class ExceptionTestCase(unittest.TestCase):\n",
    "\n",
    "    def test_wrong_input_string(self):\n",
    "        self.assertRaises(WrongInputException, convert2number, \"not a number\")\n",
    "\n",
    "    def test_correct_input(self):\n",
    "        try:\n",
    "            result = convert2number(\"56\")\n",
    "            self.assertIsInstance(result, int)\n",
    "        except WrongInputException:\n",
    "            self.fail()"
   ]
  },
  {
   "cell_type": "markdown",
   "metadata": {},
   "source": [
    "### Ejercicio 1\n",
    "\n",
    "**Hablamos de tests en verde cuando todos nuestros tests se ejecutan correctamente y dan el resultado esperado y tests en rojo en caso contrario.**\n",
    "\n",
    "En el siguiente ejercicio, escribe el código necesario que haga cumplir todos los tests, es decir, que los tests estén *en verde*."
   ]
  },
  {
   "cell_type": "code",
   "execution_count": 116,
   "metadata": {},
   "outputs": [
    {
     "name": "stderr",
     "output_type": "stream",
     "text": [
      "....\n",
      "----------------------------------------------------------------------\n",
      "Ran 4 tests in 0.006s\n",
      "\n",
      "OK\n"
     ]
    }
   ],
   "source": [
    "import unittest\n",
    "import sys\n",
    "\n",
    "\n",
    "class Fraccion(object):\n",
    "    \"\"\"Clase que representa una fracción matemática\"\"\"\n",
    "    \n",
    "    def __init__(self, numerador, denominador):\n",
    "        \"\"\"Inicializa el objeto fracción\"\"\"\n",
    "        # Código a completar\n",
    "        self.numerador = numerador\n",
    "        self.denominador = denominador\n",
    "    \n",
    "    def get_numerador(self):\n",
    "        \"\"\"Retorna el numerador de la fracción\"\"\"\n",
    "        return self.numerador\n",
    "    \n",
    "    def get_denominador(self):\n",
    "        \"\"\"Retorna el denominador de la fracción\"\"\"\n",
    "        # Código a completar\n",
    "        return self.denominador\n",
    "    \n",
    "    def multiplica(self, other):\n",
    "        \"\"\"Devuelve la multiplicación de fracciones\"\"\"\n",
    "        return Fraccion(self.get_numerador() * other.get_numerador(), other.get_denominador())\n",
    "    \n",
    "\n",
    "class TestFraccion(unittest.TestCase):\n",
    "\n",
    "    def test_crear_fraccion(self):\n",
    "        f = Fraccion(1, 2)\n",
    "        self.assertIsNotNone(f)\n",
    "        \n",
    "    def test_numerador(self):\n",
    "        f = Fraccion(1, 2)\n",
    "        self.assertEqual(f.get_numerador(), 1)\n",
    "        \n",
    "    def test_denominador(self):\n",
    "        f = Fraccion(2, 4)\n",
    "        self.assertEqual(f.get_denominador(), 4)\n",
    "    \n",
    "    def test_multiplicacion_fracciones(self):\n",
    "        f1 = Fraccion(1, 2)\n",
    "        f2 = Fraccion(2, 5)\n",
    "        \n",
    "        f3 = f1.multiplica(f2)\n",
    "        \n",
    "        self.assertEqual(f3.get_numerador(), 2)\n",
    "        self.assertEqual(f3.get_denominador(), 5)\n",
    "\n",
    "        \n",
    "if __name__ == '__main__':\n",
    "    suite = unittest.TestLoader().loadTestsFromTestCase( TestFraccion )\n",
    "    unittest.TextTestRunner(verbosity=1,stream=sys.stderr).run( suite )"
   ]
  },
  {
   "cell_type": "markdown",
   "metadata": {},
   "source": [
    "### Ejercicio 2\n",
    "\n",
    "Escribe una función cualquiera y escribe algunas pruebas de código utilizando ***doctest***:"
   ]
  },
  {
   "cell_type": "code",
   "execution_count": 214,
   "metadata": {},
   "outputs": [
    {
     "name": "stderr",
     "output_type": "stream",
     "text": [
      ".\n",
      "----------------------------------------------------------------------\n",
      "Ran 1 test in 0.003s\n",
      "\n",
      "OK\n"
     ]
    }
   ],
   "source": [
    "# Mi respuesta -> Para escribir una palabra al reves\n",
    "import unittest\n",
    "\n",
    "class PalabraAlReves:\n",
    "\n",
    "    def reverse(palabra):\n",
    "        return palabra[::-1]\n",
    "    \n",
    "class TestPalabraAlReves(unittest.TestCase):\n",
    "        \n",
    "    def test_palabra_reves(self):\n",
    "        a = \"Hola\"\n",
    "        e = \"aloH\"\n",
    "        self.assertEqual(a, e[::-1])\n",
    "if __name__ == '__main__':\n",
    "    suite = unittest.TestLoader().loadTestsFromTestCase( TestPalabraAlReves )\n",
    "    unittest.TextTestRunner(verbosity=1,stream=sys.stderr).run( suite )"
   ]
  },
  {
   "cell_type": "markdown",
   "metadata": {},
   "source": [
    "### Ejercicio 3\n",
    "\n",
    "Los cuaterniones (en Inglés *quaternion*) son un tipo matemático que funcionan como extensión de los vectores en espacio 3D añadiendo una dimensión extra, muy utilizados en videojuegos para aplicar rotaciones sobre un conjunto de puntos y que tienen claras ventajas en comparación con las matrices de rotación. Podéis aprender más sobre ellos en la [Wikipedia](https://es.wikipedia.org/wiki/Cuaterni%C3%B3n).\n",
    "\n",
    "A continuación tenéis el código de una clase *Quaternion* que implementa algunas funciones sencillas (suma y resta). Escribid tantos tests como consideréis para conseguir una buena cobertura de código:"
   ]
  },
  {
   "cell_type": "code",
   "execution_count": 200,
   "metadata": {},
   "outputs": [
    {
     "name": "stderr",
     "output_type": "stream",
     "text": [
      "....\n",
      "----------------------------------------------------------------------\n",
      "Ran 4 tests in 0.009s\n",
      "\n",
      "OK\n"
     ]
    }
   ],
   "source": [
    "import unittest\n",
    "import sys\n",
    "\n",
    "\n",
    "class Quaternion:\n",
    "\n",
    "    def __init__(self, w=1., x=0., y=0., z=0.):\n",
    "        \"\"\"Crea un cuaternión. Devuelve por defecto el cuaternión unitario.\"\"\"\n",
    "        self.w = w\n",
    "        self.x = x\n",
    "        self.y = y\n",
    "        self.z = z\n",
    "\n",
    "    def __neg__(self):\n",
    "        \"\"\"Negación de un cuaternión. \n",
    "        \n",
    "        Se llama: q2 = -q1\n",
    "        \"\"\"\n",
    "        return Quaternion(-self.w, -self.x, -self.y, -self.z)\n",
    "\n",
    "    def __add__(self, other):\n",
    "        \"\"\"Implementa la suma de cuaterniones. \n",
    "        \n",
    "        Ejemplo: \n",
    "        q1 = Quaternion()\n",
    "        q2 = Quaternion()\n",
    "        \n",
    "        q3 = q1 + q2\n",
    "        \n",
    "        \"\"\"\n",
    "        return Quaternion(self.w+other.w, self.x+other.x, self.y+other.y, self.z+other.z)\n",
    "\n",
    "    def __sub__(self, other):\n",
    "        \"\"\"Implementa la resta de cuaterniones.\"\"\"\n",
    "        return Quaternion(self.w-other.w, self.x-other.x, self.y-other.y, self.z-other.z)\n",
    "    \n",
    "class TestQuaternion(unittest.TestCase):\n",
    "    # Código a completar\n",
    "    def test_crear_quaternion(self):\n",
    "        quat = Quaternion()\n",
    "        \n",
    "        self.assertIsNotNone(quat)\n",
    "        \n",
    "    def test_neg_quaternion(self):\n",
    "        q1 = Quaternion(1,2,3,4)\n",
    "        q2 = Quaternion(-1,-2,-3,-4)\n",
    "        \n",
    "        self.assertEqual(-q1.w, q2.w)\n",
    "        self.assertEqual(-q1.x, q2.x)\n",
    "        self.assertEqual(-q1.y, q2.y)\n",
    "        self.assertEqual(-q1.z, q2.z)\n",
    "    \n",
    "    def test_add_quaternion(self):\n",
    "        q1 = Quaternion(1,1,1,1)\n",
    "        q2 = Quaternion(2,2,2,2)\n",
    "        q3 = Quaternion(3,3,3,3)\n",
    "        \n",
    "        self.assertEqual(q3.w, q2.w+q1.w)\n",
    "        self.assertEqual(q3.x, q2.x+q1.x)\n",
    "        self.assertEqual(q3.y, q2.y+q1.y)\n",
    "        self.assertEqual(q3.z, q2.z+q1.z)\n",
    "    \n",
    "    def test_sub_quaternion(self):\n",
    "        q1 = Quaternion(1,1,1,1)\n",
    "        q2 = Quaternion(2,2,2,2)\n",
    "        q3 = Quaternion(1,1,1,1)\n",
    "        \n",
    "        self.assertEqual(q3.w, q2.w-q1.w)\n",
    "        self.assertEqual(q3.x, q2.x-q1.x)\n",
    "        self.assertEqual(q3.y, q2.y-q1.y)\n",
    "        self.assertEqual(q3.z, q2.z-q1.z)\n",
    "\n",
    "\n",
    "if __name__ == '__main__':\n",
    "    suite = unittest.TestLoader().loadTestsFromTestCase( TestQuaternion )\n",
    "    unittest.TextTestRunner(verbosity=1,stream=sys.stderr).run( suite )"
   ]
  },
  {
   "cell_type": "code",
   "execution_count": null,
   "metadata": {},
   "outputs": [],
   "source": []
  }
 ],
 "metadata": {
  "kernelspec": {
   "display_name": "Python 3",
   "language": "python",
   "name": "python3"
  },
  "language_info": {
   "codemirror_mode": {
    "name": "ipython",
    "version": 3
   },
   "file_extension": ".py",
   "mimetype": "text/x-python",
   "name": "python",
   "nbconvert_exporter": "python",
   "pygments_lexer": "ipython3",
   "version": "3.7.3"
  }
 },
 "nbformat": 4,
 "nbformat_minor": 2
}
