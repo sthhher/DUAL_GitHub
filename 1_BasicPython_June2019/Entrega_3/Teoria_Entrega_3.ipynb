{
 "cells": [
  {
   "cell_type": "markdown",
   "metadata": {},
   "source": [
    "# Programación para la Bioinformática"
   ]
  },
  {
   "cell_type": "markdown",
   "metadata": {},
   "source": [
    "Unidad 3: Conceptos avanzados de Python\n",
    "--------------------------------------------\n",
    "\n",
    "### Instrucciones de uso\n",
    "\n",
    "En el módulo anterior introducimos conceptos básicos sobre variables y su uso en Python. En este módulo estudiaremos conceptos más avanzados como son las instrucciones de flujo de ejecución (for, while, if), cómo definir y utilizar funciones, etc."
   ]
  },
  {
   "cell_type": "markdown",
   "metadata": {},
   "source": [
    "Iteración y operaciones lógicas\n",
    "-------------------------------\n",
    "\n",
    "En la gran mayoría de ocasiones, tendremos que manipular nuestros datos y para ello utilizaremos los conceptos de iteración y las operaciones lógicas. Las operaciones lógicas nos permiten comparar valores entre variables (mayor, menor, igualdad) y la iteración **ir visitando uno a uno los elementos de una lista, tupla, diccionario o cualquier estructura de datos que sea susceptible de secuenciar**.\n",
    "\n",
    "Vamos a empezar por visitar las operaciones lógicas:"
   ]
  },
  {
   "cell_type": "code",
   "execution_count": 1,
   "metadata": {},
   "outputs": [
    {
     "name": "stdout",
     "output_type": "stream",
     "text": [
      "True\n"
     ]
    }
   ],
   "source": [
    "# Las operaciones lógicas tendrán como resultado un valor \n",
    "# cierto (True) o falso (False):\n",
    "\n",
    "a = 5\n",
    "b = 1\n",
    "\n",
    "# ¿Es el valor de la variable 'a' mayor que el de la \n",
    "# variable 'b'?\n",
    "print(a > b)"
   ]
  },
  {
   "cell_type": "markdown",
   "metadata": {},
   "source": [
    "Estos valores de cierto (True) o falso (False) reciben el nombre de *booleanos* en la jerga técnica.\n",
    "\n",
    "Veamos otros ejemplos de comparaciones:"
   ]
  },
  {
   "cell_type": "code",
   "execution_count": 2,
   "metadata": {},
   "outputs": [
    {
     "name": "stdout",
     "output_type": "stream",
     "text": [
      "False\n"
     ]
    }
   ],
   "source": [
    "# ¿Es el valor de la variable 'a' menor que el \n",
    "# de la variable 'b'?\n",
    "print(a < b)"
   ]
  },
  {
   "cell_type": "code",
   "execution_count": 3,
   "metadata": {},
   "outputs": [
    {
     "name": "stdout",
     "output_type": "stream",
     "text": [
      "True\n"
     ]
    }
   ],
   "source": [
    "# Cambiamos el valor de la variable ahora a 5:\n",
    "b = 5\n",
    "\n",
    "# ¿Es el valor de la variable 'b' igual al de \n",
    "# la variable 'a'?\n",
    "print(b == a)"
   ]
  },
  {
   "cell_type": "code",
   "execution_count": 4,
   "metadata": {},
   "outputs": [
    {
     "name": "stdout",
     "output_type": "stream",
     "text": [
      "True\n",
      "True\n",
      "True\n"
     ]
    }
   ],
   "source": [
    "# Otros operadores lógicos disponibles son menor o \n",
    "# igual '<=', mayor o igual '>=' o la negación 'not':\n",
    "print(a <= b)\n",
    "print(a >= b)\n",
    "\n",
    "a = False\n",
    "print(not a)"
   ]
  },
  {
   "cell_type": "markdown",
   "metadata": {},
   "source": [
    "### Estructuras de control\n",
    "\n",
    "También podemos alterar el flujo de ejecución de nuestro programa utilizando las estructuras *if...else* o *if...elif...else*. Estas estructuras las utilizaremos para comprovar si se cumple una condición determinada y reaccionar en el caso. Veamos unos cuantos ejemplos:"
   ]
  },
  {
   "cell_type": "code",
   "execution_count": 5,
   "metadata": {},
   "outputs": [
    {
     "name": "stdout",
     "output_type": "stream",
     "text": [
      "a es menor o igual que b\n"
     ]
    }
   ],
   "source": [
    "a = 5\n",
    "b = 6\n",
    "if a > b:\n",
    "    print('a es mayor que b')\n",
    "else:\n",
    "    print('a es menor o igual que b')"
   ]
  },
  {
   "cell_type": "markdown",
   "metadata": {},
   "source": [
    "En el ejemplo anterior, primero de todo asignamos el valor entero 5 a la variable *a* y el valor entero 6 a la variable *b*.\n",
    "A continuación, *if a > b* comprueba si el valor que contiene la variable *a* es mayor que el valor de la variable *b*. Si fuera así, se mostraría por pantalla *a es mayor que b*. Como no es el caso (*a > b* es **Falso**), se ejecutará la parte incluída en el bloque *else*.\n",
    "\n",
    "Vamos a ver ahora un ejemplo en el que se comprueban varias condiciones de forma secuencial:"
   ]
  },
  {
   "cell_type": "code",
   "execution_count": 6,
   "metadata": {},
   "outputs": [
    {
     "name": "stdout",
     "output_type": "stream",
     "text": [
      "a es igual a b\n"
     ]
    }
   ],
   "source": [
    "a = 5\n",
    "b = 5\n",
    "if a > b:\n",
    "    print('a es mayor que b')\n",
    "elif a < b:\n",
    "    print('a es menor que b')\n",
    "else:\n",
    "    print('a es igual a b')"
   ]
  },
  {
   "cell_type": "markdown",
   "metadata": {},
   "source": [
    "En este ejemplo, las variables *a* y *b* contienen el mismo valor, 5. Primero se comprueba la condición de si *a es mayor que b*. Como no es el caso, se ejecuta la siguiente condición, *a < b*. Tampoco es el caso, así que se ejecuta la última directiva que está incluída en el bloque *else*."
   ]
  },
  {
   "cell_type": "markdown",
   "metadata": {},
   "source": [
    "### Iteraciones en Python\n",
    "\n",
    "En Python existen solo dos formas de iterar una secuencia: mediante **for** o mediante **while**. La primera de las opciones, *for*, iterará uno por uno los elementos contenidos en una lista. En el caso de *while*, iteraremos mientras la condición de permanencia en el bucle se cumpla. Veamos unos ejemplos para entender estos dos nuevos conceptos:"
   ]
  },
  {
   "cell_type": "markdown",
   "metadata": {},
   "source": [
    "#### Bucle for"
   ]
  },
  {
   "cell_type": "code",
   "execution_count": 7,
   "metadata": {},
   "outputs": [
    {
     "name": "stdout",
     "output_type": "stream",
     "text": [
      "Kraken\n",
      "Leviathan\n",
      "Uroborus\n",
      "Hydra\n"
     ]
    }
   ],
   "source": [
    "# Declaramos una lista que contiene cuatro palabras:\n",
    "monsters = ['Kraken', 'Leviathan', 'Uroborus', 'Hydra']\n",
    "\n",
    "# Primer método iterando mediante for:\n",
    "for monster in monsters:\n",
    "    print(monster)"
   ]
  },
  {
   "cell_type": "markdown",
   "metadata": {},
   "source": [
    "Este primer ejemplo de bucle *for* nos muestra lo fácil que es interar en Python uno por uno todos los elementos de una lista. Fijaos que primero hemos declarado una lista de nombre *monsters* que contiene cuatro palabras. A continuación, la línea *for monster in monsters* nos indica que por cada uno de los elementos que encontremos en la lista *monsters*, los asignaremos uno a uno a la variable *monster*. Por cada uno de los valores que vamos guardando en la variable *monster* (primero 'Kraken', después 'Leviathan' y así hasta acabar la lista), los monstraremos por pantalla utilizando el comando *print monster* porque está indentado un nivel por debajo de la línea \"*for monster in monsters:*\".\n",
    "\n",
    "Veamos un segundo ejemplo del uso del bucle *for*:"
   ]
  },
  {
   "cell_type": "code",
   "execution_count": 8,
   "metadata": {},
   "outputs": [
    {
     "name": "stdout",
     "output_type": "stream",
     "text": [
      "0 Kraken\n",
      "1 Leviathan\n",
      "2 Uroborus\n",
      "3 Hydra\n"
     ]
    }
   ],
   "source": [
    "# Declaramos una lista que contiene cuatro palabras:\n",
    "monsters = ['Kraken', 'Leviathan', 'Uroborus', 'Hydra']\n",
    "\n",
    "# Segundo método. La función especial 'enumerate' nos \n",
    "# devuelve una tupla en el que el primer elemento es un \n",
    "# índice que empieza en 0 y aumenta de 1 en 1 y el \n",
    "# segundo elemento el valor de la posición en la lista:\n",
    "for i, monster in enumerate(monsters):\n",
    "    print(i, monster)"
   ]
  },
  {
   "cell_type": "markdown",
   "metadata": {},
   "source": [
    "Este segundo ejemplo de bucle *for* es especialmente interesante al hacer uso de la función *enumerate()*. Es muy probable que en ocasiones queramos saber el contador de un determinado elemento en una lista. La función *enumerate()* nos sirve especialmente para eso y no tenemos que encargarnos de mantener un variable que nos sirva de contador a cada vuelta del bucle.\n"
   ]
  },
  {
   "cell_type": "markdown",
   "metadata": {},
   "source": [
    "#### Bucle while\n",
    "\n",
    "El bucle *while* es una segunda forma de iterar en Python y podemos construir expresiones idénticas al bucle *for*, pero con una sintaxis ligeramente diferente:"
   ]
  },
  {
   "cell_type": "code",
   "execution_count": 9,
   "metadata": {},
   "outputs": [
    {
     "name": "stdout",
     "output_type": "stream",
     "text": [
      "0 Kraken\n",
      "1 Leviathan\n",
      "2 Uroborus\n",
      "3 Hydra\n"
     ]
    }
   ],
   "source": [
    "# Declaramos una lista que contiene cuatro palabras:\n",
    "monsters = ['Kraken', 'Leviathan', 'Uroborus', 'Hydra']\n",
    "\n",
    "# Este ejemplo tiene un comportamiento idéntico al \n",
    "# anterior, pero necesitamos escribir más operaciones para \n",
    "# un mismo resultado. Normalmente preferiremos utilizar \n",
    "# for y no while:\n",
    "\n",
    "# Declaramos la variable contador 'i' que guardará a cada \n",
    "# paso del bucle el número de vueltas \n",
    "# del bucle:\n",
    "i = 0\n",
    "\n",
    "# Mientras que el contador 'i' sea menor que la longitud \n",
    "# de la lista 'monsters':\n",
    "while i < len(monsters):\n",
    "    # Imprime el valor de la lista en la posición 'i'\n",
    "    print(i, monsters[i])\n",
    "    # No nos olvidemos de actualizar el valor de 'i' \n",
    "    # sumándole 1 o tendremos un bucle infinito\n",
    "    i += 1\n"
   ]
  },
  {
   "cell_type": "markdown",
   "metadata": {},
   "source": [
    "En este momento seríamos capaces de calcular la serie de Fibonacci hasta un determinado valor:"
   ]
  },
  {
   "cell_type": "code",
   "execution_count": 20,
   "metadata": {},
   "outputs": [
    {
     "name": "stdout",
     "output_type": "stream",
     "text": [
      "0 1 1 2 3 5 8 13 21 34 55 89 "
     ]
    }
   ],
   "source": [
    "# Calculamos el valor de la serie hasta un \n",
    "# valor n=100\n",
    "n = 100\n",
    "\n",
    "# Asignamos dos valores a la vez, 0 a la variable \n",
    "# 'a' y 1 a la variable 'b'\n",
    "a, b = 0, 1\n",
    "\n",
    "# Ahora vamos a iterar mientras se cumpla la condición \n",
    "# de que la variable 'a' contiene un valor más pequeño \n",
    "# que el de la variable 'n':\n",
    "while a < n:\n",
    "    print(a, end=\" \")\n",
    "    # Cuando añadimos el parámetro 'end', evitamos \n",
    "    # que se imprima un salto de línea\n",
    "    a, b = b, a+b"
   ]
  },
  {
   "cell_type": "markdown",
   "metadata": {},
   "source": [
    "#### La función range()\n",
    "\n",
    "En Python disponemos de una función muy útil para generar una secuencia de números, que podemos utilizar de diferentes formas:"
   ]
  },
  {
   "cell_type": "code",
   "execution_count": 3,
   "metadata": {},
   "outputs": [
    {
     "name": "stdout",
     "output_type": "stream",
     "text": [
      "0 1 2 3 4 5 6 7 8 9 \n"
     ]
    }
   ],
   "source": [
    "# Podemos utilizarla para iterar:\n",
    "for i in range(10):\n",
    "    print(i, end=\" \")\n",
    "print()"
   ]
  },
  {
   "cell_type": "code",
   "execution_count": 26,
   "metadata": {},
   "outputs": [
    {
     "name": "stdout",
     "output_type": "stream",
     "text": [
      "5 8 11 14 17 \n"
     ]
    }
   ],
   "source": [
    "# Podemos definir el rango de acción. Por ejemplo, \n",
    "# calcula los números entre 5 y 20 de 3 en 3:\n",
    "for i in range(5,20,3):\n",
    "    print(i, end=\" \")\n",
    "print()"
   ]
  },
  {
   "cell_type": "markdown",
   "metadata": {},
   "source": [
    "#### Iterando un diccionario\n",
    "\n",
    "Es posible, dado un diccionario, iterar entre los pares (clave, valor) almacenados:"
   ]
  },
  {
   "cell_type": "code",
   "execution_count": 28,
   "metadata": {},
   "outputs": [
    {
     "name": "stdout",
     "output_type": "stream",
     "text": [
      "Iterando por clave:\n",
      "34\n",
      "376\n",
      "41\n",
      "424\n",
      "\n",
      "Iterando por valor:\n",
      "Spain\n",
      "Andorra\n",
      "Switzerland\n",
      "None\n",
      "\n",
      "Iterando por clave y valor a la vez:\n",
      "34 Spain\n",
      "376 Andorra\n",
      "41 Switzerland\n",
      "424 None\n"
     ]
    }
   ],
   "source": [
    "# Dado el siguiente diccionario de códigos de teléfono:\n",
    "country_codes = {34: 'Spain', 376: 'Andorra', \n",
    "                 41: 'Switzerland', 424: None}\n",
    "\n",
    "# Iteramos por clave:\n",
    "print(\"Iterando por clave:\")\n",
    "for country_code in country_codes.keys():\n",
    "    print(country_code)\n",
    "print()\n",
    "\n",
    "# Iteramos por valor:\n",
    "print(\"Iterando por valor:\")\n",
    "for country in country_codes.values():\n",
    "    print(country)\n",
    "print()\n",
    "\n",
    "# Iteramos por los dos a la vez:\n",
    "print(\"Iterando por clave y valor a la vez:\")\n",
    "for country_code, country in country_codes.items():\n",
    "    print(country_code, country)"
   ]
  },
  {
   "cell_type": "markdown",
   "metadata": {},
   "source": [
    "Funciones\n",
    "---------\n",
    "\n",
    "Otra forma muy importante de organizar el flujo de ejecución es encapsulando cierta porción de código en una función que podamos llamar en diferentes partes del código. \n",
    "\n",
    "Una función en Python utiliza el mismo concepto que una función matemática. Por ejemplo, imaginemos la función matemática:\n",
    "\n",
    "*suma(x, y) = x + y*\n",
    "\n",
    "En Python podemos definir la misma función de la siguiente forma:"
   ]
  },
  {
   "cell_type": "code",
   "execution_count": 30,
   "metadata": {},
   "outputs": [
    {
     "name": "stdout",
     "output_type": "stream",
     "text": [
      "2 + 4 = 6\n",
      "5 + (-5) = 0\n",
      "3.5 + 2.5 = 6.0\n"
     ]
    }
   ],
   "source": [
    "# La función suma se define mediante la palabra especial \n",
    "# 'def' y tiene dos argumentos: 'x' e 'y':\n",
    "def suma(x, y):\n",
    "    # Devolvemos el valor de la suma\n",
    "    return x + y\n",
    "\n",
    "# En este momento, podemos llamarla con cualquier valor:\n",
    "print(\"2 + 4 =\", suma(2, 4))\n",
    "print(\"5 + (-5) =\", suma(5, -5))\n",
    "print(\"3.5 + 2.5 =\", suma(3.5, 2.5))"
   ]
  },
  {
   "cell_type": "code",
   "execution_count": 31,
   "metadata": {},
   "outputs": [],
   "source": [
    "# Podemos definir una función que no haga nada \n",
    "# utilizando la palabra especial 'pass':\n",
    "\n",
    "def dummy():\n",
    "    pass\n",
    "\n",
    "dummy()"
   ]
  },
  {
   "cell_type": "code",
   "execution_count": 32,
   "metadata": {},
   "outputs": [
    {
     "name": "stdout",
     "output_type": "stream",
     "text": [
      "El valor de los primeros números de la secuencia de Fibonacci hasta 10 son:\n",
      "0 1 1 2 3 5 8 "
     ]
    }
   ],
   "source": [
    "# Podríamos volver a definir el trozo de código de la \n",
    "# secuencia de Fibonacci como una función:\n",
    "\n",
    "def fibonacci(n=100):\n",
    "    a, b = 0, 1\n",
    "    while a < n:\n",
    "        print(a, end=\" \")\n",
    "        a, b = b, a+b\n",
    "\n",
    "print('El valor de los primeros números de la secuencia de Fibonacci hasta 10 son:')\n",
    "fibonacci(10)"
   ]
  },
  {
   "cell_type": "code",
   "execution_count": 33,
   "metadata": {},
   "outputs": [
    {
     "name": "stdout",
     "output_type": "stream",
     "text": [
      "0 1 1 2 3 5 8 13 21 34 55 89 "
     ]
    }
   ],
   "source": [
    "# En el anterior ejemplo, hemos definido que el argumento \n",
    "# n tenga un valor por defecto. Esto es muy útil\n",
    "# en los casos en los que utilicemos la función siempre con \n",
    "# un mismo valor, queramos dejar constancia de un\n",
    "# caso de ejemplo o por defecto. En este caso, podemos \n",
    "# ejecutar la función sin pasarle ningún valor:\n",
    "fibonacci()"
   ]
  },
  {
   "cell_type": "code",
   "execution_count": 35,
   "metadata": {},
   "outputs": [
    {
     "name": "stdout",
     "output_type": "stream",
     "text": [
      "3 elevado al cuadrado es: 9.0\n",
      "2 elevado al cubo es: 8\n"
     ]
    }
   ],
   "source": [
    "# Podemos definir parte de los argumentos con valores \n",
    "# por defecto y otro sin. \n",
    "# Los argumentos sin valor por defecto siempre han de \n",
    "# estar más a la izquierda en la definición de la función:\n",
    "\n",
    "def potencia(a, b=2.):\n",
    "    # Por defecto, elevaremos al cuadrado\n",
    "    return a**b\n",
    "\n",
    "print(\"3 elevado al cuadrado es:\", potencia(3))\n",
    "print(\"2 elevado al cubo es:\", potencia(2, 3))"
   ]
  },
  {
   "cell_type": "markdown",
   "metadata": {},
   "source": [
    "**Recomendamos la lectura de la documentación oficial** para acabar de fijar conocimientos: https://docs.python.org/2/tutorial/controlflow.html"
   ]
  },
  {
   "cell_type": "markdown",
   "metadata": {},
   "source": [
    "Leer y escribir desde ficheros\n",
    "------------------------------\n",
    "\n",
    "Una tarea habitual es leer líneas de texto de un fichero o escribir líneas de texto en un fichero. En Python, leer y escribir ficheros se hace a través de la librería *os*. Una librería es un conjunto de código que tiene cierto sentido agrupar para ser usado por otros usuarios. En nuestro caso, *os* se trata de una librería que agrupa funciones relacionadas con el sistema operativo (**o**perating **s**ystem). \n",
    "\n",
    "Para cargar una librería, utilizaremos la palabra reservada **import**. Más adelante explicaremos algunas particularidades de utilizar e importar librerías. A continuación os explicamos cómo escribir y leer un fichero:"
   ]
  },
  {
   "cell_type": "markdown",
   "metadata": {},
   "source": [
    "### Escribir en un fichero\n",
    "\n",
    "Primero de todo, escribiremos en un fichero que después podremos leer en el siguiente apartado:"
   ]
  },
  {
   "cell_type": "code",
   "execution_count": 36,
   "metadata": {},
   "outputs": [],
   "source": [
    "# Importamos la librería 'os':\n",
    "import os\n",
    "\n",
    "# Abrimos un fichero de nombre 'a_file.txt' para \n",
    "# escritura (de ahí la 'w', 'writing').\n",
    "# Atención a la instrucción especial with. \n",
    "# Asignamos el descriptor de fichero a una variable \n",
    "# de nombre out:\n",
    "with open('a_file.txt', 'w') as out:\n",
    "    # Vamos a escribir 10 líneas, cada una con un número de 0 a 9\n",
    "    for i in range(10):\n",
    "        # La siguiente línea escribe en el fichero todo \n",
    "        # lo que pongamos dentro de out.write()\n",
    "        # En nuestro caso, es un string del tipo '0\\n', '1\\n', \n",
    "        # etc. Esto lo conseguimos utilizando las wildcards %d y %s.\n",
    "        # %s representa un string o cadena de caracteres \n",
    "        # y %d un número entero.\n",
    "        # Concatenamos en este caso un número con un string \n",
    "        # que se trata del salto de línea, os.linesep, que \n",
    "        # equivale en Linux a '\\n':\n",
    "        out.write(\"Línea %d%s\" % (i, os.linesep))"
   ]
  },
  {
   "cell_type": "markdown",
   "metadata": {},
   "source": [
    "Después de ejecutar el código anterior, deberíamos encontrar un fichero en la misma ruta que este fichero de notebook de nombre 'a_file.txt'. Si lo abrimos, veremos que efectivamente contiene 10 líneas:\n",
    "\n",
    "```\n",
    "$ cat a_file.txt \n",
    "Línea 0\n",
    "Línea 1\n",
    "Línea 2\n",
    "Línea 3\n",
    "Línea 4\n",
    "Línea 5\n",
    "Línea 6\n",
    "Línea 7\n",
    "Línea 8\n",
    "Línea 9\n",
    "```"
   ]
  },
  {
   "cell_type": "markdown",
   "metadata": {},
   "source": [
    "### Leer de un fichero\n",
    "\n",
    "Ahora vamos a hacer el paso contrario, vamos a leer el contenido del fichero que acabamos de generar. Lo haremos de tres formas distintas, equivalentes entre sí:"
   ]
  },
  {
   "cell_type": "markdown",
   "metadata": {},
   "source": [
    "#### Leyendo de un fichero (I)"
   ]
  },
  {
   "cell_type": "code",
   "execution_count": 38,
   "metadata": {},
   "outputs": [
    {
     "name": "stdout",
     "output_type": "stream",
     "text": [
      "Línea 0\n",
      "\n",
      "Línea 1\n",
      "\n",
      "Línea 2\n",
      "\n",
      "Línea 3\n",
      "\n",
      "Línea 4\n",
      "\n",
      "Línea 5\n",
      "\n",
      "Línea 6\n",
      "\n",
      "Línea 7\n",
      "\n",
      "Línea 8\n",
      "\n",
      "Línea 9\n",
      "\n"
     ]
    }
   ],
   "source": [
    "f = open('a_file.txt')\n",
    "for line in f:\n",
    "    print(line)\n",
    "f.close()"
   ]
  },
  {
   "cell_type": "markdown",
   "metadata": {},
   "source": [
    "#### Leyendo de un fichero (II)"
   ]
  },
  {
   "cell_type": "code",
   "execution_count": 39,
   "metadata": {},
   "outputs": [
    {
     "name": "stdout",
     "output_type": "stream",
     "text": [
      "Línea 0\n",
      "\n",
      "Línea 1\n",
      "\n",
      "Línea 2\n",
      "\n",
      "Línea 3\n",
      "\n",
      "Línea 4\n",
      "\n",
      "Línea 5\n",
      "\n",
      "Línea 6\n",
      "\n",
      "Línea 7\n",
      "\n",
      "Línea 8\n",
      "\n",
      "Línea 9\n",
      "\n"
     ]
    }
   ],
   "source": [
    "f = open('a_file.txt')\n",
    "lines = f.readlines()\n",
    "f.close()\n",
    "for line in lines:\n",
    "    print(line)"
   ]
  },
  {
   "cell_type": "markdown",
   "metadata": {},
   "source": [
    "#### Leyendo de un fichero (III)"
   ]
  },
  {
   "cell_type": "code",
   "execution_count": 40,
   "metadata": {},
   "outputs": [
    {
     "name": "stdout",
     "output_type": "stream",
     "text": [
      "Línea 0\n",
      "\n",
      "Línea 1\n",
      "\n",
      "Línea 2\n",
      "\n",
      "Línea 3\n",
      "\n",
      "Línea 4\n",
      "\n",
      "Línea 5\n",
      "\n",
      "Línea 6\n",
      "\n",
      "Línea 7\n",
      "\n",
      "Línea 8\n",
      "\n",
      "Línea 9\n",
      "\n"
     ]
    }
   ],
   "source": [
    "with open('a_file.txt') as f:\n",
    "    for line in f:\n",
    "        print(line)"
   ]
  },
  {
   "cell_type": "markdown",
   "metadata": {},
   "source": [
    "Organización del código\n",
    "------------------------\n",
    "\n",
    "Un módulo de Python es cualquier fichero con extensión *.py* que esté bajo la ruta del path de Python. El path de Python puede consultarse importando la librería sys:"
   ]
  },
  {
   "cell_type": "code",
   "execution_count": null,
   "metadata": {},
   "outputs": [],
   "source": [
    "import sys\n",
    "print(sys.path)"
   ]
  },
  {
   "cell_type": "markdown",
   "metadata": {},
   "source": [
    "Por defecto, Python también mira las librerías que se hayan definido en la variable de entorno $PYTHONPATH (esto puedo cambiar ligeramente en un entorno Windows, https://docs.python.org/2/using/cmdline.html).\n",
    "\n",
    "Un paquete en Python es cualquier directorio que contenga un fichero especial de nombre *\\_\\_init\\_\\_.py* (este fichero estará vacío la mayoría de veces).\n",
    "\n",
    "Un módulo puede contener diferentes funciones, variables u objetos. Por ejemplo, definamos un módulo de nombre *prog_bio.py* que contenga:"
   ]
  },
  {
   "cell_type": "code",
   "execution_count": 43,
   "metadata": {},
   "outputs": [],
   "source": [
    "# prog_bio.py\n",
    "\n",
    "PI = 3.14159265\n",
    "\n",
    "def suma(x, y):\n",
    "    return x + y\n",
    "\n",
    "\n",
    "def resta(x, y):\n",
    "    return x - y\n"
   ]
  },
  {
   "cell_type": "markdown",
   "metadata": {},
   "source": [
    "Para utilizar desde otro módulo o script estas funciones, deberíamos escribir lo siguiente:"
   ]
  },
  {
   "cell_type": "code",
   "execution_count": null,
   "metadata": {},
   "outputs": [],
   "source": [
    "from prog_bio import PI, suma, resta\n",
    "\n",
    "# Y entonces podríamos utilizarlas normalmente\n",
    "siete = suma(2,5)"
   ]
  },
  {
   "cell_type": "markdown",
   "metadata": {},
   "source": [
    "En Python también podemos utilizar la directiva _from prog\\_bio import \\*_, pero su uso está **totalmente desaconsejado**. La razón es que estaríamos importando gran cantidad de código que no utilizaremos (con el consiguiente aumento del uso de la memoria), pero además, podríamos tener colisiones de nombres (funciones que se llamen de la misma forma en diferentes módulos) sin nuestro conocimiento. A no ser que sea imprescindible, no utilizaremos esa directiva e importaremos una a una las librerías y sus funciones que vayamos a necesitar.\n",
    "\n",
    "Podéis aprender más sobre importar librerías y definir vuestros propios módulos aquí: http://life.bsc.es/pid/brian/python/#/5"
   ]
  },
  {
   "cell_type": "markdown",
   "metadata": {},
   "source": [
    "## Más ejemplos\n",
    "\n",
    "Disponéis de más ejemplos online de manejo de ficheros en el siguiente enlace:\n",
    "\n",
    "[Python recipes for Bioinformatics beginners](https://github.com/brianjimenez/bioinformatics-recipes)"
   ]
  }
 ],
 "metadata": {
  "kernelspec": {
   "display_name": "Python 3",
   "language": "python",
   "name": "python3"
  },
  "language_info": {
   "codemirror_mode": {
    "name": "ipython",
    "version": 3
   },
   "file_extension": ".py",
   "mimetype": "text/x-python",
   "name": "python",
   "nbconvert_exporter": "python",
   "pygments_lexer": "ipython3",
   "version": "3.7.3"
  }
 },
 "nbformat": 4,
 "nbformat_minor": 1
}
