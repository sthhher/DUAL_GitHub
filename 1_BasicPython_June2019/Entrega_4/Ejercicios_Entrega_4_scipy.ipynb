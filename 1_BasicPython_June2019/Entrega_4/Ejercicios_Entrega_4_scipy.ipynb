{
 "cells": [
  {
   "cell_type": "markdown",
   "metadata": {},
   "source": [
    "# Programación para la Bioinformática"
   ]
  },
  {
   "cell_type": "markdown",
   "metadata": {},
   "source": [
    "Módulo 4: Librerías científicas en Python - Scipy - Ejercicios\n",
    "-------------------------------------------------"
   ]
  },
  {
   "cell_type": "markdown",
   "metadata": {},
   "source": [
    "Ejercicios\n",
    "----------\n",
    "\n",
    "A continuación tenéis el único ejercicio a resolver en esta parte del módulo. Dada la especificidad de los algoritmos que se implementan en la librería Scipy, hemos seleccionado un problema más simple que los mostrados como ejemplo.\n",
    "\n",
    "### Ejercicio 1: Calculando los átomos en la interfaz de unión de dos proteínas\n",
    "Dos proteínas A y B se unen para formar un complejo proteico. Se define la interfaz de unión entre A y B como los átomos de A que están a una distancia de 4Å (Angstroms) o menos de cualquier átomo de B. En la siguiente figura, la proteína A está representada en azul y la proteína B en naranja. Los átomos de B que están en contacto con algún átomo de A se han coloreado en verde:\n",
    "\n",
    "<img src=\"files/media/interfaz_1ppe.png\">\n",
    "\n",
    "A continuación, tenéis el código que tendréis que completar. Tenéis que calcular el número de átomos de A y de B que están en contacto con átomos de B y de A respectivamente y el número total de átomos en la interfaz. **Pista**: podéis utilizar la función _scipy.spatial.distance.cdist_ (http://docs.scipy.org/doc/scipy/reference/generated/scipy.spatial.distance.cdist.html#scipy.spatial.distance.cdist) y la función _numpy.where_.\n",
    "\n"
   ]
  },
  {
   "cell_type": "code",
   "execution_count": 6,
   "metadata": {},
   "outputs": [
    {
     "name": "stdout",
     "output_type": "stream",
     "text": [
      "Número de átomos de A en contacto con B:  68\n",
      "Número de átomos de B en contacto con A:  51\n",
      "Número total de átomos en contacto:  119\n"
     ]
    }
   ],
   "source": [
    "import numpy as np\n",
    "import os\n",
    "import scipy.spatial\n",
    "import scipy.spatial.distance\n",
    "\n",
    "\n",
    "def lee_coordenadas_atomo(linea):\n",
    "    \"\"\"Interpreta las coordenadas de una línea de un fichero PDB que empiece por \n",
    "    ATOM (es un átomo)\"\"\"\n",
    "    if linea.startswith('ATOM  '):\n",
    "        x = float(linea[30:38])\n",
    "        y = float(linea[38:46])\n",
    "        z = float(linea[46:54])\n",
    "        return [x, y, z]\n",
    "\n",
    "    \n",
    "def obtiene_coordenadas(estructura):\n",
    "    \"\"\"Lee una estructura (fichero PDB) y obtiene las coordenadas de los \n",
    "    átomos que contiene\"\"\"\n",
    "    coordenadas = []\n",
    "    with open(estructura) as input:\n",
    "        lineas = [linea.rstrip(os.linesep) for linea in input.readlines()]\n",
    "        for linea in lineas:\n",
    "            atomo = lee_coordenadas_atomo(linea)\n",
    "            if atomo:\n",
    "                coordenadas.append(atomo)\n",
    "    return np.array(coordenadas)\n",
    "\n",
    "# Coordenadas_1 tiene las coordenadas de la proteína A en formato numpy\n",
    "coordenadas_1 = obtiene_coordenadas('data/1PPE_rec.pdb')\n",
    "\n",
    "# Coordenadas_2 tiene las coordenadas de la proteína B en formato numpy\n",
    "coordenadas_2 = obtiene_coordenadas('data/1PPE_lig.pdb')\n",
    "\n",
    "# Código a completar:\n",
    "atomos_A_B = 0\n",
    "distancias_A_B = scipy.spatial.distance.cdist(coordenadas_1,coordenadas_2)\n",
    "atomos_A_B = len(set(np.where(distancias_A_B <= 4) [0]))\n",
    "print(\"Número de átomos de A en contacto con B: \", atomos_A_B)\n",
    "\n",
    "atomos_B_A = 0\n",
    "atomos_B_A = len(set(np.where(distancias_A_B <= 4) [1]))\n",
    "print(\"Número de átomos de B en contacto con A: \", atomos_B_A)\n",
    "\n",
    "\n",
    "# Finalmente, el número de átomos total será la suma de ambos:\n",
    "print(\"Número total de átomos en contacto: \", atomos_A_B + atomos_B_A)"
   ]
  }
 ],
 "metadata": {
  "kernelspec": {
   "display_name": "Python 3",
   "language": "python",
   "name": "python3"
  },
  "language_info": {
   "codemirror_mode": {
    "name": "ipython",
    "version": 3
   },
   "file_extension": ".py",
   "mimetype": "text/x-python",
   "name": "python",
   "nbconvert_exporter": "python",
   "pygments_lexer": "ipython3",
   "version": "3.7.3"
  }
 },
 "nbformat": 4,
 "nbformat_minor": 1
}
