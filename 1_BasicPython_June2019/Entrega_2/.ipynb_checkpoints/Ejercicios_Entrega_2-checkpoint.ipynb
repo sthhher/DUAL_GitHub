{
 "cells": [
  {
   "cell_type": "markdown",
   "metadata": {},
   "source": [
    "# Programación para la Bioinformática"
   ]
  },
  {
   "cell_type": "markdown",
   "metadata": {},
   "source": [
    "## Módulo 2: Breve introducción a la programación en Python"
   ]
  },
  {
   "cell_type": "markdown",
   "metadata": {},
   "source": [
    "Ejercicios y preguntas teóricas\n",
    "-------------------------------\n",
    "\n",
    "A continuación, encontraréis la parte que tenéis que completar en este modulo y las preguntas teóricas a contestar.\n",
    "\n",
    "Podéis encontrar en la documentación oficial de *string* funciones que os puedan ser de ayuda para completar los ejercicios: https://docs.python.org/2/library/string.html"
   ]
  },
  {
   "cell_type": "markdown",
   "metadata": {},
   "source": [
    "### Pregunta 1\n",
    "¿Cuál es la diferencia entre definir un string con comillas simples (' '), comillas dobles(\" \") y tres comillas dobles (\"\"\" \"\"\")? \n",
    "\n",
    "**Pon un ejemplo de cada uno de ellos**.\n",
    "variable1=\"this is a string with 'quotes'\"\n",
    "variable2='this is a string with \"quotes\"'\n",
    "variable3=\"\"\"this is a string with \"quotes\" and more 'quotes'\"\"\"\n",
    "\n",
    "**Respuesta:**\n",
    "Las tres comillas, a nivel técnico, hacen lo mismo a excepción de algunos carácteres de escape. Siguiendo la guia de la comunidad unas tienen unos usos concretos y otras otros. \n",
    "Dentro de las tres comillas dobles podemos poner comillas simples y dobles. En cambio, dentro de las simples sólo podemos poner dobles y, viceversa.\n"
   ]
  },
  {
   "cell_type": "markdown",
   "metadata": {},
   "source": [
    "Haz doble click sobre este texto, borralo, escribe aquí tu respuesta y pulsa el botón \"Run\" de la barra superior."
   ]
  },
  {
   "cell_type": "markdown",
   "metadata": {},
   "source": [
    "### Pregunta 2\n",
    "¿Qué expresión en Python (la más idiomática que encuentres) necesitamos para conseguir el string \"ACTGACTGACTGACTGACTGACTGACTGACTGACTGACTGACTGACTG\" utilizando solo la palabra \"ACTG\"?\n",
    "\n",
    "**Respuesta:**"
   ]
  },
  {
   "cell_type": "code",
   "execution_count": 89,
   "metadata": {},
   "outputs": [
    {
     "name": "stdout",
     "output_type": "stream",
     "text": [
      "ACTGACTGACTGACTG\n"
     ]
    }
   ],
   "source": [
    "### Respuesta incorrecta ###\n",
    "print(\"ACTG\" + \"ACTG\" + \"ACTG\" + \"ACTG\")"
   ]
  },
  {
   "cell_type": "code",
   "execution_count": 1,
   "metadata": {},
   "outputs": [
    {
     "name": "stdout",
     "output_type": "stream",
     "text": [
      "ACTG\n",
      "ACTG\n",
      "ACTG\n",
      "ACTG\n",
      "ACTG\n",
      "ACTG\n",
      "ACTG\n",
      "ACTG\n",
      "ACTG\n",
      "ACTG\n"
     ]
    }
   ],
   "source": [
    "### Respuesta incorrecta ###\n",
    "for _ in range(10): \n",
    "    print(\"ACTG\")"
   ]
  },
  {
   "cell_type": "code",
   "execution_count": 2,
   "metadata": {},
   "outputs": [
    {
     "name": "stdout",
     "output_type": "stream",
     "text": [
      "ACTGACTGACTGACTGACTGACTGACTGACTGACTGACTG\n"
     ]
    }
   ],
   "source": [
    "# Tu respuesta\n",
    "dna = \"ACTG\"\n",
    "print(dna*10)\n"
   ]
  },
  {
   "cell_type": "markdown",
   "metadata": {},
   "source": [
    "### Pregunta 3\n",
    "\n",
    "**¿Cuál es el valor final de a, b y c (atención a los tipos de número decimal y entero)?**\n",
    "\n",
    "a = 3*2\n",
    "\n",
    "b = 9/2.\n",
    "\n",
    "c, a = a+1, b*2\n",
    "\n",
    "b = a // 5\n",
    "\n",
    "** Nota: ** Tened en cuenta el tipo de variable (int, float, bool, str) y su comportamiento en cada momento."
   ]
  },
  {
   "cell_type": "markdown",
   "metadata": {},
   "source": [
    "Tu respuesta:\n",
    "\n",
    "\n",
    "#a=9.0\n",
    "\n",
    "#b=1.0\n",
    "\n",
    "#c=7\n",
    "\n",
    "\n",
    "Primero se crea 'A' y se le asigna el valor de 3*2 (6), seguidamente 'B' es creado con el valor resultado de 9/2 (4.5), en este momento, 'B' cambia su clase de variable de Integer a Float ya que el resultado de la división tiene decimales.\n",
    "\n",
    "Después de estas operaciones iniciales, se ejecuta la tercera operacion, en la cual se crea 'C' y se le asigna el valor de A + 1 (7) a la vez que a A se le asigna B * 2 (9.0, ya que es un float). Aparentemente se ejecuta primero la operacion de C y luego la de A.\n",
    "\n",
    "Por último, se asigna a B el valor de A//5 (1.0), esta operacion divide y redondea el número, sin embargo al haber sido dividido anteriormente B sigue siendo una variable float por lo que conserva el decimal."
   ]
  },
  {
   "cell_type": "markdown",
   "metadata": {},
   "source": [
    "Queremos saber cual es el valor final y porqué. Puedes ejecutar el código en una nueva celda para comprobar que tu respuesta es correcta.\n",
    "\n",
    "**No son lo mismo: 9 y 9.0**\n",
    "\n",
    "**Son lo mismo: 9. y 9.0**"
   ]
  },
  {
   "cell_type": "markdown",
   "metadata": {},
   "source": [
    "### Pregunta 4\n",
    "\n",
    "**¿Cuáles de las siguientes expresiones son sintácticamente incorrectas? Explica el porqué una por una**\n",
    "* planetas = 'Saturno', 'Jupiter', 'Tierra'\n",
    "* t = ('123', 'abc', 0, )\n",
    "* dias = ['Lunes', 'Martes', \"Miercoles\", ''.join(['J','u','e','v','e','s'])]\n",
    "* matriz = [[],[],[],[],()]\n",
    "* t = r = s = u = 0 + 1\n",
    "* a = 1; a += 1; a += []\n",
    "\n",
    "**Respuesta:**\n",
    " \n",
    " planetas = es correcta, se está creando una tupla. Si intentamos añadir algún valor, no podremos.\n",
    " \n",
    " t = Funciona pero es incorrecto dejar una coma sin un valor detrás.\n",
    " \n",
    " dias = Está concatenando a un string vacío las letras de Jueves individualmente, funciona perfectamente aunque sería preferible que todos los datos de la lista utilicen el mismo tipo de comillas.\n",
    " \n",
    " matriz = Es correcto, es una matriz con listas en su interior y una tupla.\n",
    " \n",
    " t = Es correcto pero muy redundante. Las variables se igualan a los valores en su derecha y ya que t es igual a r que es igual a s y etc, acaba teniendo el resultado de 0 + 1.\n",
    " \n",
    " a = No se puede sumar a 'a' el valor de [] ya que no hay ningún valor, por lo demás, se pueden utilizar los ; libremente ya que son opcionales en Python y marcan el final de línea aunque esté todo en la misma línea."
   ]
  },
  {
   "cell_type": "markdown",
   "metadata": {},
   "source": []
  },
  {
   "cell_type": "markdown",
   "metadata": {},
   "source": [
    "### Pregunta 5\n",
    "\n",
    "Explica a qué se refieren con el término \"batteries included\" en la comunidad Python. **Poned 5 ejemplos de paquetes de la librería estándar y una explicación de cada uno de ellos.**\n",
    "\n",
    "**Respuesta:**"
   ]
  },
  {
   "cell_type": "markdown",
   "metadata": {},
   "source": [
    "Tu respuesta:\n",
    "Se refiere a que el lenguaje en sí tiene muchas librerías incluidas muy útiles por lo que se puede comenzar a hacer trabajos con Python sin la necesidad de instalar paquetes extra.\n",
    "\n",
    "Ejemplos:\n"
   ]
  },
  {
   "cell_type": "markdown",
   "metadata": {},
   "source": [
    "### Pregunta 6\n",
    "\n",
    "Python dispone de un idiom muy útil conocido como list comprehensions. ¿Puedes explicar en qué consiste? Indicad \n",
    "**dos ejemplos** de código que utilicen este idiom y documentad cada parte de código relevante.\n",
    "\n",
    "**Respuesta:**"
   ]
  },
  {
   "cell_type": "markdown",
   "metadata": {},
   "source": [
    "Tu respuesta\n",
    "Se utiliza para crear nuevas listas a partir de otros iteradores. \n",
    "\n"
   ]
  },
  {
   "cell_type": "code",
   "execution_count": 92,
   "metadata": {},
   "outputs": [
    {
     "name": "stdout",
     "output_type": "stream",
     "text": [
      "[1, 4, 9, 16]\n"
     ]
    }
   ],
   "source": [
    "#Ejemplo 1:\n",
    "numeros = [1,2,3,4]\n",
    "num_al_cuadrado = []\n",
    "\n",
    "for n in numeros:\n",
    "    num_al_cuadrado.append(n*n)\n",
    "print(num_al_cuadrado)"
   ]
  },
  {
   "cell_type": "markdown",
   "metadata": {},
   "source": [
    "### Ejercicio 1\n",
    "\n",
    "Escribe un programa que asigne dos valores enteros cualquiera (escoged vosotros un número entero aleatorio, no es necesario utilizar ninguna librería externa) a dos variables con nombre t y w, calcule el producto de t por dos veces w y finalmente muestre el valor del cuadrado de la operación anterior:\n",
    "\n",
    "f(t, w) = (t \\* 2 \\* w)<sup>2</sup>\n",
    "\n",
    "**Nota:** No es necesario utilizar ninguna libreria, ni importar ningún módulo para escoger el numero aleatorio ni para resolver este ejercicio."
   ]
  },
  {
   "cell_type": "code",
   "execution_count": 93,
   "metadata": {},
   "outputs": [
    {
     "name": "stdout",
     "output_type": "stream",
     "text": [
      "(5*2*6)^2 = 3600\n"
     ]
    }
   ],
   "source": [
    "# Tu respuesta\n",
    "import random; #Importo random para tener un resultado más variado.\n",
    "\n",
    "t = random.randint(0,10);\n",
    "w = random.randint(0,10);\n",
    "f = None;\n",
    "\n",
    "f=(t*2*w)**2;\n",
    "\n",
    "print(\"(%d*2*%d)^2 = %d\" % (t,w,f));\n"
   ]
  },
  {
   "cell_type": "markdown",
   "metadata": {},
   "source": [
    "### Ejercicio 2\n",
    "\n",
    "Escribe un programa que defina una lista cuyos valores sean los nombres de los meses del año. Ordénalos por orden lexicográfico:"
   ]
  },
  {
   "cell_type": "code",
   "execution_count": 94,
   "metadata": {},
   "outputs": [
    {
     "name": "stdout",
     "output_type": "stream",
     "text": [
      "['Abril', 'Agosto', 'Diciembre', 'Enero', 'Febrero', 'Julio', 'Junio', 'Marzo', 'Mayo', 'Noviembre', 'Octubre', 'Septiembre']\n"
     ]
    }
   ],
   "source": [
    "# Tu respuesta\n",
    "\n",
    "meses = [\"Enero\", \"Febrero\", \"Marzo\", \"Abril\", \"Mayo\", \"Junio\",\n",
    "         \"Julio\", \"Agosto\", \"Septiembre\", \"Octubre\", \"Noviembre\", \"Diciembre\" ]\n",
    "\n",
    "print(sorted(meses))"
   ]
  },
  {
   "cell_type": "markdown",
   "metadata": {},
   "source": [
    "### Ejercicio 3\n",
    "\n",
    "Escribe un programa que calcule e imprima el volumen de una esfera de radio 23.5:"
   ]
  },
  {
   "cell_type": "code",
   "execution_count": 95,
   "metadata": {},
   "outputs": [
    {
     "name": "stdout",
     "output_type": "stream",
     "text": [
      "3.141592653589793\n"
     ]
    }
   ],
   "source": [
    "# Podéis utilizar la librería math para conseguir el valor de PI:\n",
    "\n",
    "import math\n",
    "print(math.pi)"
   ]
  },
  {
   "cell_type": "code",
   "execution_count": 96,
   "metadata": {},
   "outputs": [
    {
     "name": "stdout",
     "output_type": "stream",
     "text": [
      "54361.595678942176\n"
     ]
    }
   ],
   "source": [
    "# Tu respuesta\n",
    "\n",
    "import math\n",
    "\n",
    "radio = 23.5\n",
    "\n",
    "volumen = (4/3)*math.pi*(radio**3)\n",
    "\n",
    "print (volumen)\n",
    "\n"
   ]
  },
  {
   "cell_type": "markdown",
   "metadata": {},
   "source": [
    "### Ejercicio 4\n",
    "\n",
    "Escribe un programa donde se defina un diccionario cuyas claves sean los nombres de los continentes y el valor una lista con animales endémicos de ese continente. Por ejemplo:\n",
    "\n",
    "```\n",
    "animales -> Europa: (Lince ibérico, Bison Europeo, Vaca Suiza),\n",
    "            África: (León, Elefante Africano, Avestruz),\n",
    "            ...\n",
    "```\n",
    "\n",
    "Un diccionario es una estructura de datos de Python, por favor repasa la teoria si no lo recuerdas."
   ]
  },
  {
   "cell_type": "code",
   "execution_count": 99,
   "metadata": {},
   "outputs": [
    {
     "name": "stdout",
     "output_type": "stream",
     "text": [
      "{'Europa': ['Lince ibérico', 'Bison Europeo', 'Vaca Suiza'], 'Africa': ['León', 'Elefante Africano', 'Avestruz']}\n"
     ]
    }
   ],
   "source": [
    "# Tu respuesta\n",
    "\n",
    "diccionario_codes = {'Europa':['Lince ibérico', 'Bison Europeo', 'Vaca Suiza'], \n",
    "                     'Africa': ['León', 'Elefante Africano', 'Avestruz']}\n",
    "print(diccionario_codes)"
   ]
  },
  {
   "cell_type": "markdown",
   "metadata": {},
   "source": [
    "### Ejercicio 5\n",
    "\n",
    "Completa el código Python para imprimir la Fuerza que se ha ejercido:\n",
    "\n",
    "velocidad_inicial -> 0 m/s<sup>2</sup>\n",
    "\n",
    "espacio -> 10 m\n",
    "\n",
    "tiempo -> 10 s\n",
    "\n",
    "masa -> 5 kg\n",
    "\n",
    "**velocidad_final = espacio / tiempo**\n",
    "\n",
    "**aceleracion = (velocidad_final - velocidad_inicial) / tiempo**\n",
    "\n",
    "**Fuerza = masa * aceleracion**"
   ]
  },
  {
   "cell_type": "code",
   "execution_count": 102,
   "metadata": {},
   "outputs": [
    {
     "name": "stdout",
     "output_type": "stream",
     "text": [
      "Fuerza ejercida: 0.5 Newtons\n"
     ]
    }
   ],
   "source": [
    "# Completa el código necesario:\n",
    "\n",
    "vi = 0.0\n",
    "s = 10.0\n",
    "t = 10.0\n",
    "m = 5.0\n",
    "vf = s/t\n",
    "a = (vf-vi)/t\n",
    "f = m*a\n",
    "print('Fuerza ejercida: ' + str(f) +' Newtons')"
   ]
  },
  {
   "cell_type": "markdown",
   "metadata": {},
   "source": [
    "### Ejercicio 6\n",
    "\n",
    "Escribe un programa que imprima la versión del intérprete de Python que se está ejecutando:"
   ]
  },
  {
   "cell_type": "code",
   "execution_count": 104,
   "metadata": {},
   "outputs": [
    {
     "name": "stdout",
     "output_type": "stream",
     "text": [
      "3.7.3 (default, Mar 27 2019, 17:13:21) [MSC v.1915 64 bit (AMD64)]\n"
     ]
    }
   ],
   "source": [
    "# Tu respuesta\n",
    "import sys\n",
    "print(sys.version)"
   ]
  },
  {
   "cell_type": "code",
   "execution_count": 103,
   "metadata": {},
   "outputs": [
    {
     "name": "stdout",
     "output_type": "stream",
     "text": [
      "Versión de Python es 3.6\n"
     ]
    }
   ],
   "source": [
    "### No es correcto, hay que utilizar la librería estándar de Python:\n",
    "\n",
    "print('Versión de Python es 3.6')"
   ]
  },
  {
   "cell_type": "markdown",
   "metadata": {},
   "source": [
    "### Ejercicio 7\n",
    "\n",
    "Escribe un programa que imprima la fecha y la hora actuales:"
   ]
  },
  {
   "cell_type": "code",
   "execution_count": 109,
   "metadata": {},
   "outputs": [
    {
     "name": "stdout",
     "output_type": "stream",
     "text": [
      "2019-06-18 14:40:21.574854\n"
     ]
    }
   ],
   "source": [
    "# Tu respuesta:\n",
    "import datetime\n",
    "print(datetime.datetime.now())"
   ]
  },
  {
   "cell_type": "markdown",
   "metadata": {},
   "source": [
    "### Ejercicio 8\n",
    "\n",
    "Escribe un programa que calcule el número de días entre estas dos fechas:\n",
    "\n",
    "05/10/1984\n",
    "\n",
    "01/03/2019\n"
   ]
  },
  {
   "cell_type": "code",
   "execution_count": 107,
   "metadata": {},
   "outputs": [
    {
     "name": "stdout",
     "output_type": "stream",
     "text": [
      "2018-10-21\n"
     ]
    }
   ],
   "source": [
    "# Podemos crear una fecha de la siguiente forma:\n",
    "\n",
    "from datetime import date\n",
    "\n",
    "# El formato es: Año, mes, día:\n",
    "d = date(2018, 10, 21)\n",
    "print(d)"
   ]
  },
  {
   "cell_type": "code",
   "execution_count": 110,
   "metadata": {},
   "outputs": [],
   "source": [
    "# Tu respuesta\n",
    "\n",
    "# Hay que utilizar la librería datetime y el módulo date:\n",
    "from datetime import date\n"
   ]
  },
  {
   "cell_type": "code",
   "execution_count": 118,
   "metadata": {},
   "outputs": [
    {
     "name": "stdout",
     "output_type": "stream",
     "text": [
      "Fecha 1: 2018-10-21\n",
      "Fecha 2: 2018-08-10\n",
      "Dias de diferencia: 72\n"
     ]
    }
   ],
   "source": [
    "from datetime import date\n",
    "\n",
    "d1 = date(2018, 10, 21)\n",
    "print(\"Fecha 1:\", d1)\n",
    "\n",
    "d2 = date(2018, 8, 10)\n",
    "print(\"Fecha 2:\", d2)\n",
    "\n",
    "diferencia = d1-d2\n",
    "print (\"Dias de diferencia:\", diferencia.days)"
   ]
  },
  {
   "cell_type": "code",
   "execution_count": null,
   "metadata": {},
   "outputs": [],
   "source": []
  }
 ],
 "metadata": {
  "kernelspec": {
   "display_name": "Python 3",
   "language": "python",
   "name": "python3"
  },
  "language_info": {
   "codemirror_mode": {
    "name": "ipython",
    "version": 3
   },
   "file_extension": ".py",
   "mimetype": "text/x-python",
   "name": "python",
   "nbconvert_exporter": "python",
   "pygments_lexer": "ipython3",
   "version": "3.7.3"
  }
 },
 "nbformat": 4,
 "nbformat_minor": 1
}
